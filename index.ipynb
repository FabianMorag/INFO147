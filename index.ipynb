{
 "cells": [
  {
   "cell_type": "markdown",
   "metadata": {},
   "source": [
    "### Universidad Austral de Chile\n",
    "# INFO147: Computación Científica con Python\n",
    "### Pablo Huijse Heise: phuijse at inf dot uach dot cl"
   ]
  },
  {
   "cell_type": "markdown",
   "metadata": {},
   "source": [
    "***\n",
    "## Contenidos\n",
    "***\n",
    "- **Unidad 1:** Ambiente de desarrollo y manejo de datos\n",
    "    - [Introducción](unidad1/intro.ipynb)\n",
    "    - [Clase 1](unidad1/clase1.ipynb)\n",
    "- **Unidad 2:** Computación científica con Python\n",
    "- **Unidad 3:** Procesamiento de señales con Python y aceleración de cómputos"
   ]
  },
  {
   "cell_type": "markdown",
   "metadata": {},
   "source": [
    "***\n",
    "## Bibliografía \n",
    "***\n",
    "\n",
    "### Principal\n",
    "1. [Jake VanderPlas, \"Python Data Science Handbook\", *O' Reilly*, 2016](https://jakevdp.github.io/PythonDataScienceHandbook/)\n",
    "1. [Cyrille Rossant, \"IPython Cookbook\", 2ed, *Packt*, 2018](https://ipython-books.github.io/)\n",
    "\n",
    "### Complementaria\n",
    "1. [Brett Slakin, \"Effective Python\", *Addison-Wesley*, 2015](https://effectivepython.com/)\n",
    "1. [Lorena A. Barva, et al., \"Teaching and Learning with Jupyter\", 2019](https://jupyter4edu.github.io/jupyter-edu-book/)"
   ]
  },
  {
   "cell_type": "markdown",
   "metadata": {},
   "source": [
    "***\n",
    "## Software y librerías\n",
    "***\n",
    "\n",
    "- Lenguaje: [Python3](https://docs.python.org/3/)\n",
    "- Ambiente: [Ipython](https://ipython.org), [Jupyter](https://jupyter.org/)\n",
    "- Librerías para computación científica: [Numpy](http://www.numpy.org/), [Pandas](https://pandas.pydata.org/), [Scipy](https://www.scipy.org/), [Scikit-learn](https://bokeh.pydata.org/en/latest/)\n",
    "- Librerías para visualización: [Matplotlib](https://matplotlib.org/), [bokeh](https://bokeh.pydata.org/en/latest/)\n",
    "\n"
   ]
  },
  {
   "cell_type": "markdown",
   "metadata": {},
   "source": [
    "https://www.amazon.com/Numerical-Python-Scientific-Applications-Matplotlib/dp/1484242459\n"
   ]
  }
 ],
 "metadata": {
  "kernelspec": {
   "display_name": "Python 3",
   "language": "python",
   "name": "python3"
  },
  "language_info": {
   "codemirror_mode": {
    "name": "ipython",
    "version": 3
   },
   "file_extension": ".py",
   "mimetype": "text/x-python",
   "name": "python",
   "nbconvert_exporter": "python",
   "pygments_lexer": "ipython3",
   "version": "3.7.2"
  }
 },
 "nbformat": 4,
 "nbformat_minor": 2
}
