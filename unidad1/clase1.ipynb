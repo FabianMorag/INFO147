{
 "cells": [
  {
   "cell_type": "markdown",
   "metadata": {},
   "source": [
    "# Instalando un ambiente de desarrollo basado en python\n",
    "\n",
    "Tres opciones:\n",
    "1. Instalar Python 3 y sus librerias desde el repositorio de tu distribución\n",
    "1. Usar el manejador PIP (Pip Install Packages) para instalar paquetes de [PyPI](https://pypi.org/)\n",
    "1. Usar Conda\n",
    "\n",
    "### Instalando desde tu distribución\n",
    "\n",
    "Si usas Ubuntu/Debian\n",
    "\n",
    "    sudo apt-get install python3 python3-numpy python3-matplotlib python3-scipy python3-pandas ipython3 ipython3-notebook\n",
    "\n",
    "Si usas Archlinux\n",
    "\n",
    "    sudo pacman -S python python-numpy python-matplotlib python-scipy python-pandas ipython jupyter\n",
    "    \n",
    "### Usando PIP\n",
    "\n",
    "Si usas Ubuntu\n",
    "\n",
    "    sudo apt-get install python3 python3-pip\n",
    "    pip3 install numpy matplotlib scipy pandas ipython jupyter --user\n",
    "\n",
    "    \n",
    "Si usas Archlinux\n",
    "\n",
    "    sudo pacman -S python python-pip\n",
    "    pip install numpy matplotlib scipy pandas ipython jupyter --user\n",
    "    \n",
    "Comandos de PIP (pip --help)\n",
    "\n",
    "    list, search, install, uninstall, show, ...\n",
    "\n",
    "\n",
    "## Ambientes de Python\n",
    "\n",
    "Puede ocurrir que\n",
    "- necesitamos de una librería que funciona con una versión de Python distinta que a la del sistema\n",
    "- trabajemos en varios proyectos distintos donde cada uno use una versión de Python distinta\n",
    "\n",
    "Este escenario combiene resolver usando ambientes virtuales aislados\n",
    "1. virtualenv + PIP\n",
    "1. conda\n",
    "\n",
    "### Usando virtualenv\n",
    "\n",
    "Creando y accediendo a un ambiente\n",
    "    \n",
    "    virtualenv asd\n",
    "    source asd/bin/activate\n",
    "    \n",
    "Instalando paquetes\n",
    "    \n",
    "    pip install numpy\n",
    "\n",
    "Salir de un ambiente\n",
    "    \n",
    "    deactivate\n",
    "    \n",
    "Eliminar un ambiente\n",
    "    \n",
    "    rm -r asd/\n",
    "    \n",
    "### Usando conda\n",
    "\n",
    "¿Qué es conda?\n",
    "- Es un manejador de ambientes y paquetes para Python\n",
    "- Tiene su propio repositorio\n",
    "- No requiere tener compiladores instalados\n",
    "- Es multiplataforma\n",
    "\n",
    "¿Cómo se instala?\n",
    "- Descargar instalador en https://docs.conda.io/en/latest/miniconda.html (versión 64b Python3.7)\n",
    "- Aceptar licencia y escoger directorio\n",
    "\n",
    "      sh Miniconda3-latest-Linux-x86_64.sh\n",
    "\n",
    "\n",
    "¿Cómo se accede al ambiente base?\n",
    "\n",
    "    source ...../miniconda3/etc/profile.d/conda.sh\n",
    "    conda activate\n",
    "\n",
    "¿Cómo se añade un canal?\n",
    "\n",
    "    conda config --get channels\n",
    "    conda config --add channels conda-forge\n",
    "    conda config --append channels conda-forge\n",
    "\n",
    "¿Cómo se actualiza el ambiente? \n",
    "\n",
    "    conda update --all\n",
    "\n",
    "¿Cómo se busca un paquete?\n",
    "\n",
    "    conda search numpy\n",
    "\n",
    "¿ Cómo se instala un paquete de versión y build específica?\n",
    "\n",
    "    conda install numpy=1.16.2=py37_blas_openblash1522bff_0\n",
    "\n",
    "Otros comandos de conda\n",
    "    \n",
    "    conda list/clean/uninstall/help\n",
    "\n",
    "¿Cómo se crea un nuevo ambiente?\n",
    "    \n",
    "    conda create -n nombre\n",
    "    conda activate nombre\n",
    "    \n",
    "¿Cómo se listan los ambientes?\n",
    "\n",
    "    conda env list\n",
    "\n",
    "    "
   ]
  },
  {
   "cell_type": "markdown",
   "metadata": {},
   "source": [
    "### Iniciando el servidor de jupyter\n",
    "\n",
    "Para iniciar el servidor en un terminal (UNIX)\n",
    "\n",
    "`jupyter notebook`\n",
    "\n",
    "Para acceder al servidor local se debe apuntar un browser a (por defecto)\n",
    "\n",
    "`localhost:8888`\n",
    "\n",
    "***\n"
   ]
  },
  {
   "cell_type": "markdown",
   "metadata": {},
   "source": [
    "## Explorando los elementos básicos del jupyter notebook\n",
    "\n",
    "- Pestañas: Files, Running y Clusters\n",
    "- Encabezado: File, Edit, View, Insert, Cell, Kernel, Widgets, Help\n",
    "- Tipo de celda: Código y Markdown\n",
    "- Modos: Edición (verde) y Comando (azul)\n",
    "- Atajos de texto (shortcuts)\n",
    "    - Ejecución: Shift+Enter y Ctrl+Enter\n",
    "    - Creación: a y b\n",
    "    - Copiar y pegar celdas: c y  v\n",
    "    - Cambio de tipo: m y y\n",
    "    - Salvar: Ctrl+s\n",
    "- Editor de texto y terminales (solo UNIX)"
   ]
  },
  {
   "cell_type": "markdown",
   "metadata": {},
   "source": [
    "## Editando y ejecutando un bloque de código"
   ]
  },
  {
   "cell_type": "code",
   "execution_count": null,
   "metadata": {},
   "outputs": [],
   "source": [
    "x = 1412043130\n",
    "print(x)"
   ]
  },
  {
   "cell_type": "markdown",
   "metadata": {},
   "source": [
    "## Características del intérprete Python"
   ]
  },
  {
   "cell_type": "code",
   "execution_count": null,
   "metadata": {},
   "outputs": [],
   "source": [
    "import sys\n",
    "print(sys.version_info)\n",
    "print(sys.version)"
   ]
  },
  {
   "cell_type": "markdown",
   "metadata": {},
   "source": [
    "sys queda cargado a nivel de notebook y puede llamarse desde otro bloque"
   ]
  },
  {
   "cell_type": "code",
   "execution_count": null,
   "metadata": {},
   "outputs": [],
   "source": [
    "sys.copyright"
   ]
  },
  {
   "cell_type": "markdown",
   "metadata": {},
   "source": [
    "## Pidiendo ayuda"
   ]
  },
  {
   "cell_type": "code",
   "execution_count": null,
   "metadata": {},
   "outputs": [],
   "source": [
    "# Ayuda de ipython\n",
    "?"
   ]
  },
  {
   "cell_type": "code",
   "execution_count": null,
   "metadata": {},
   "outputs": [],
   "source": [
    "# Para un módulo o función en específico\n",
    "sys?"
   ]
  },
  {
   "cell_type": "code",
   "execution_count": null,
   "metadata": {},
   "outputs": [],
   "source": [
    "# Ayuda librería estándar de python\n",
    "help(sys)"
   ]
  },
  {
   "cell_type": "code",
   "execution_count": null,
   "metadata": {},
   "outputs": [],
   "source": [
    "#Accediendo a código fuente\n",
    "\n",
    "def funcion_interesante(x, y):\n",
    "    \"\"\"\n",
    "    Esta es una función interesante que suma sus argumentos\n",
    "    Argumentos: x, y\n",
    "    \"\"\"\n",
    "    return x + y\n",
    "\n",
    "funcion_interesante??"
   ]
  },
  {
   "cell_type": "markdown",
   "metadata": {},
   "source": [
    "## Autocompletación con TAB (IPython)"
   ]
  },
  {
   "cell_type": "code",
   "execution_count": null,
   "metadata": {},
   "outputs": [],
   "source": [
    "mi_variable_interesante = '13'"
   ]
  },
  {
   "cell_type": "markdown",
   "metadata": {},
   "source": [
    "## \"Magias\" de IPython"
   ]
  },
  {
   "cell_type": "markdown",
   "metadata": {},
   "source": [
    "Las \"magias\" son"
   ]
  },
  {
   "cell_type": "code",
   "execution_count": null,
   "metadata": {
    "scrolled": true
   },
   "outputs": [],
   "source": [
    "%lsmagic"
   ]
  },
  {
   "cell_type": "markdown",
   "metadata": {},
   "source": [
    "Midiendo el tiempo de un bloque (o de una linea)"
   ]
  },
  {
   "cell_type": "code",
   "execution_count": null,
   "metadata": {},
   "outputs": [],
   "source": [
    "%%time \n",
    "a = ''\n",
    "for i in range(10):\n",
    "    a += str(i)\n",
    "print(a)"
   ]
  },
  {
   "cell_type": "markdown",
   "metadata": {},
   "source": [
    "Las variables y librerías que hemos importado a nuestro entorno"
   ]
  },
  {
   "cell_type": "code",
   "execution_count": null,
   "metadata": {
    "scrolled": true
   },
   "outputs": [],
   "source": [
    "%who"
   ]
  },
  {
   "cell_type": "markdown",
   "metadata": {},
   "source": [
    "Los comandos que hemos escrito"
   ]
  },
  {
   "cell_type": "code",
   "execution_count": null,
   "metadata": {},
   "outputs": [],
   "source": [
    "%history"
   ]
  },
  {
   "cell_type": "markdown",
   "metadata": {},
   "source": [
    "Reseteando nuestro entorno "
   ]
  },
  {
   "cell_type": "code",
   "execution_count": null,
   "metadata": {},
   "outputs": [],
   "source": [
    "%reset"
   ]
  },
  {
   "cell_type": "markdown",
   "metadata": {},
   "source": [
    "## Accediendo al sistema operativo"
   ]
  },
  {
   "cell_type": "markdown",
   "metadata": {},
   "source": [
    "Usando el operador ! podemos hacer llamados al SO dentro de nuestros bloques de código"
   ]
  },
  {
   "cell_type": "code",
   "execution_count": null,
   "metadata": {
    "scrolled": true
   },
   "outputs": [],
   "source": [
    "!pwd\n",
    "!echo $mi_variable_interesante\n",
    "!cat script_interesante.py"
   ]
  },
  {
   "cell_type": "markdown",
   "metadata": {},
   "source": [
    "O usando la magía %%bash "
   ]
  },
  {
   "cell_type": "code",
   "execution_count": null,
   "metadata": {},
   "outputs": [],
   "source": [
    "%%bash\n",
    "echo \"Estoy usando:\" $SHELL\n",
    "echo \"Mi path es:\" $PATH\n",
    "free -m\n",
    "df -h"
   ]
  },
  {
   "cell_type": "markdown",
   "metadata": {},
   "source": [
    "Podemos capturar el retorno de las funciónes llamadas con !"
   ]
  },
  {
   "cell_type": "code",
   "execution_count": null,
   "metadata": {},
   "outputs": [],
   "source": [
    "lista_archivos = !ls\n",
    "\n",
    "print(lista_archivos)"
   ]
  },
  {
   "cell_type": "markdown",
   "metadata": {},
   "source": [
    "## Corriendo un script Python"
   ]
  },
  {
   "cell_type": "code",
   "execution_count": null,
   "metadata": {},
   "outputs": [],
   "source": [
    "%run script_interesante.py"
   ]
  },
  {
   "cell_type": "code",
   "execution_count": null,
   "metadata": {},
   "outputs": [],
   "source": [
    "1*2*3*4*5*6*7*8*9*10"
   ]
  },
  {
   "cell_type": "code",
   "execution_count": null,
   "metadata": {},
   "outputs": [],
   "source": [
    "from script_interesante import funcion_interesante\n",
    "\n",
    "funcion_interesante(10)"
   ]
  },
  {
   "cell_type": "code",
   "execution_count": null,
   "metadata": {},
   "outputs": [],
   "source": [
    "%run -p script_interesante.py"
   ]
  },
  {
   "cell_type": "markdown",
   "metadata": {},
   "source": [
    "## Errores y debugging"
   ]
  },
  {
   "cell_type": "code",
   "execution_count": null,
   "metadata": {},
   "outputs": [],
   "source": [
    "pablohuijse"
   ]
  },
  {
   "cell_type": "code",
   "execution_count": null,
   "metadata": {},
   "outputs": [],
   "source": [
    "import sys \n",
    "sys.pablohuijse"
   ]
  },
  {
   "cell_type": "code",
   "execution_count": null,
   "metadata": {},
   "outputs": [],
   "source": [
    "#%debug\n",
    "a = [1, 2, 3, 4]\n",
    "a[10] "
   ]
  },
  {
   "cell_type": "code",
   "execution_count": null,
   "metadata": {},
   "outputs": [],
   "source": [
    "def funcion_mala(x):\n",
    "    return x/0\n",
    "\n",
    "funcion_mala(10)"
   ]
  },
  {
   "cell_type": "code",
   "execution_count": null,
   "metadata": {},
   "outputs": [],
   "source": [
    "try:\n",
    "    a = 10/0\n",
    "except ZeroDivisionError:\n",
    "    print(\"Dividiste por cero!\")"
   ]
  },
  {
   "cell_type": "markdown",
   "metadata": {},
   "source": [
    "## Importando dinamicamente una libreria"
   ]
  },
  {
   "cell_type": "code",
   "execution_count": null,
   "metadata": {},
   "outputs": [],
   "source": [
    "from script_interesante import funcion_interesante\n",
    "funcion_interesante(10)"
   ]
  },
  {
   "cell_type": "code",
   "execution_count": null,
   "metadata": {},
   "outputs": [],
   "source": [
    "%load_ext autoreload\n",
    "%autoreload 0\n",
    "%autoreload?"
   ]
  },
  {
   "cell_type": "markdown",
   "metadata": {},
   "source": [
    "## Bloques de texto enriquecido (markdown)"
   ]
  },
  {
   "cell_type": "markdown",
   "metadata": {},
   "source": [
    "*itálica*\n",
    "\n",
    "**bold**\n",
    "\n",
    "~~strikethrough~~\n",
    "\n",
    "- una cosa\n",
    "- otra cosa\n",
    "- y una más\n",
    "\n",
    "\n",
    "1. una cosa\n",
    "1. otra cosa\n",
    "1. y una más\n",
    "\n",
    "\n",
    "# Header 1\n",
    "## Header 2\n",
    "### Header 3\n",
    "\n",
    "\n",
    "[link](http://www.duckduckgo.com)\n",
    "\n",
    "***\n",
    "\n",
    "\n",
    "> Un parrafo\n",
    "\n",
    "\n",
    "`un comando`\n",
    "\n",
    "\n",
    "    def funcion_interesante(x):\n",
    "        print(x)\n",
    "        \n",
    "$$\n",
    "\\begin{align}\n",
    "\\mathcal{Q}(t) &= \\frac{\\partial}{\\partial t} \\int_{t \\in \\mathbb{R}} \\sin(2 \\pi t + \\phi) \\,dt \\nonumber \\\\\n",
    "&= \\LaTeX\n",
    "\\end{align}\n",
    "$$\n",
    "\n",
    "\n",
    "\n",
    "<center><font color=\"#FF0000\"><br>Hola<br></font></center>"
   ]
  },
  {
   "cell_type": "markdown",
   "metadata": {},
   "source": [
    "## Modificando la apariencia del notebook"
   ]
  },
  {
   "cell_type": "code",
   "execution_count": null,
   "metadata": {},
   "outputs": [],
   "source": [
    "%%HTML\n",
    "<style>\n",
    ".container {\n",
    "    width:70% ! important;\n",
    "}\n",
    ".rendered_html { \n",
    "    font-size:1.0em; \n",
    "}\n",
    "</style>"
   ]
  },
  {
   "cell_type": "markdown",
   "metadata": {},
   "source": [
    "## Exportando el notebook"
   ]
  }
 ],
 "metadata": {
  "kernelspec": {
   "display_name": "Python 3",
   "language": "python",
   "name": "python3"
  },
  "language_info": {
   "codemirror_mode": {
    "name": "ipython",
    "version": 3
   },
   "file_extension": ".py",
   "mimetype": "text/x-python",
   "name": "python",
   "nbconvert_exporter": "python",
   "pygments_lexer": "ipython3",
   "version": "3.7.2"
  }
 },
 "nbformat": 4,
 "nbformat_minor": 2
}
