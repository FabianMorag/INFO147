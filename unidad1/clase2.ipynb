{
 "cells": [
  {
   "cell_type": "code",
   "execution_count": null,
   "metadata": {},
   "outputs": [],
   "source": [
    "import this"
   ]
  },
  {
   "cell_type": "markdown",
   "metadata": {},
   "source": [
    "# Sacandole el jugo a Python 3\n"
   ]
  },
  {
   "cell_type": "markdown",
   "metadata": {},
   "source": [
    "### Dynamic typing"
   ]
  },
  {
   "cell_type": "code",
   "execution_count": null,
   "metadata": {},
   "outputs": [],
   "source": [
    "x = 1"
   ]
  },
  {
   "cell_type": "markdown",
   "metadata": {},
   "source": [
    "### Funciones\n",
    "\n",
    "Argumentos posicionales (mandatorios), keywords, lista de argumentos y lista con nombre especificado"
   ]
  },
  {
   "cell_type": "code",
   "execution_count": null,
   "metadata": {},
   "outputs": [],
   "source": [
    "def foo(x, y=100, *args, **kwargs):\n",
    "    print(x)\n",
    "    print(y)\n",
    "    print(args)\n",
    "    print(kwargs)\n",
    "    return x\n",
    "\n",
    "foo(10, 20, 'asd',21,54, bar=12);"
   ]
  },
  {
   "cell_type": "markdown",
   "metadata": {},
   "source": [
    "### Clases\n",
    "\n",
    "Herencia"
   ]
  },
  {
   "cell_type": "code",
   "execution_count": null,
   "metadata": {},
   "outputs": [],
   "source": [
    "class Fruta:\n",
    "    def __init__(self, nombre, color):\n",
    "        self.nombre = nombre\n",
    "        self.color = color\n",
    "        \n",
    "class Manzana(Fruta):\n",
    "    def __init__(self):\n",
    "        super().__init__(\"Manzana\", \"Rojo\")\n",
    "    \n",
    "mi_manzana = Manzana()\n",
    "mi_manzana.color"
   ]
  },
  {
   "cell_type": "markdown",
   "metadata": {},
   "source": [
    "### Imprimiendo\n",
    "\n",
    "En Python 3 `print` es una función, podemos imprimir texto formateado como"
   ]
  },
  {
   "cell_type": "code",
   "execution_count": null,
   "metadata": {},
   "outputs": [],
   "source": [
    "nombre = 'pablo'\n",
    "apellido = 'huijse'\n",
    "edad = 33\n",
    "peso = 80.2\n",
    "\n",
    "print(\"%s %s\\t edad: %d peso: %0.4f\" %(nombre, apellido, edad, peso))\n",
    "print(\"{1} {0}\\t edad: {2} peso: {3:0.4f}\".format(apellido, nombre, edad, peso))\n",
    "print(nombre, apellido, edad, peso, sep=', ')"
   ]
  },
  {
   "cell_type": "markdown",
   "metadata": {},
   "source": [
    "### Manejadores de contexto\n",
    "\n",
    "Usando la palabra clave with no es necesario preocuparse de cerrar el archivo file.txt"
   ]
  },
  {
   "cell_type": "code",
   "execution_count": null,
   "metadata": {},
   "outputs": [],
   "source": [
    "!echo \"asdasdasdasd\" > file.txt\n",
    "with open('file.txt') as f:\n",
    "    contents = f.read()\n",
    "print(contents)"
   ]
  },
  {
   "cell_type": "markdown",
   "metadata": {},
   "source": [
    "### Decoradores\n",
    "\n",
    "Funciones o clases que pueden modificar el funcionamiento de otra función"
   ]
  },
  {
   "cell_type": "code",
   "execution_count": null,
   "metadata": {},
   "outputs": [],
   "source": [
    "def decorator(func):    \n",
    "    def new_func(x):\n",
    "        return func(x) + 10\n",
    "    return new_func\n",
    "\n",
    "@decorator\n",
    "def foo(x):\n",
    "    return x +1\n",
    "\n",
    "foo(10)"
   ]
  },
  {
   "cell_type": "markdown",
   "metadata": {},
   "source": [
    "### Listas, range y tuplas\n",
    "\n",
    "Son tipos de datos secuenciales, es decir pueden ser iterados"
   ]
  },
  {
   "cell_type": "code",
   "execution_count": null,
   "metadata": {},
   "outputs": [],
   "source": [
    "lista_vacia = []\n",
    "print(lista_vacia.append(1))\n",
    "lista_vacia.append('hola')\n",
    "print(lista_vacia)\n",
    "print(lista_vacia.pop())\n",
    "print(lista_vacia)\n",
    "lista_vacia[0] = 'chao'\n",
    "print(lista_vacia)"
   ]
  },
  {
   "cell_type": "code",
   "execution_count": null,
   "metadata": {},
   "outputs": [],
   "source": [
    "una_lista = ['a', 'b', 'c', 1, 2, 3, 2.4, 'asd']"
   ]
  },
  {
   "cell_type": "markdown",
   "metadata": {},
   "source": [
    "\"Desempacando\" (unpacking) una lista"
   ]
  },
  {
   "cell_type": "code",
   "execution_count": null,
   "metadata": {},
   "outputs": [],
   "source": [
    "primero, *medio, ultimo = una_lista\n",
    "print(primero)\n",
    "print(medio)\n",
    "print(ultimo)"
   ]
  },
  {
   "cell_type": "markdown",
   "metadata": {},
   "source": [
    "Imprimiendo una lista"
   ]
  },
  {
   "cell_type": "code",
   "execution_count": null,
   "metadata": {},
   "outputs": [],
   "source": [
    "print(una_lista)\n",
    "print(*una_lista)\n",
    "print(*una_lista, sep='-', end=' fin!')"
   ]
  },
  {
   "cell_type": "markdown",
   "metadata": {},
   "source": [
    "El largo de una lista"
   ]
  },
  {
   "cell_type": "code",
   "execution_count": null,
   "metadata": {},
   "outputs": [],
   "source": [
    "len(una_lista)"
   ]
  },
  {
   "cell_type": "markdown",
   "metadata": {},
   "source": [
    "Tomando slices (trozos) de una lista"
   ]
  },
  {
   "cell_type": "code",
   "execution_count": null,
   "metadata": {},
   "outputs": [],
   "source": [
    "print(una_lista[0])\n",
    "print(una_lista[1:4])\n",
    "print(una_lista[-1])\n",
    "print(una_lista[::2])"
   ]
  },
  {
   "cell_type": "markdown",
   "metadata": {},
   "source": [
    "Las tuplas son similares a las listas pero inmutables (no se pueden modificar)"
   ]
  },
  {
   "cell_type": "code",
   "execution_count": null,
   "metadata": {},
   "outputs": [],
   "source": [
    "tupla = (0, 10, 51243, 'asd')\n",
    "print(tupla)\n",
    "print(tupla[0])\n",
    "tupla[0] = 'hola'"
   ]
  },
  {
   "cell_type": "markdown",
   "metadata": {},
   "source": [
    "Usando `range` para crear un iterador de números enteros"
   ]
  },
  {
   "cell_type": "code",
   "execution_count": null,
   "metadata": {},
   "outputs": [],
   "source": [
    "for element in range(0, 20, 2):\n",
    "    print(element)\n"
   ]
  },
  {
   "cell_type": "markdown",
   "metadata": {},
   "source": [
    "Usando `enumerate` en lugar de un índice creado por `range`"
   ]
  },
  {
   "cell_type": "code",
   "execution_count": null,
   "metadata": {},
   "outputs": [],
   "source": [
    "for i in range(len(una_lista)):\n",
    "    print(\"{0}, {1}\".format(i, una_lista[i]))\n",
    "\n",
    "for i, element in enumerate(una_lista):\n",
    "    print(\"{0}, {1}\".format(i, element))\n",
    "    "
   ]
  },
  {
   "cell_type": "markdown",
   "metadata": {},
   "source": [
    "Comprensiones de listas (list comprehensions): Son una forma consisa de crear listas"
   ]
  },
  {
   "cell_type": "code",
   "execution_count": null,
   "metadata": {},
   "outputs": [],
   "source": [
    "[x for x in range(20)]"
   ]
  },
  {
   "cell_type": "code",
   "execution_count": null,
   "metadata": {},
   "outputs": [],
   "source": [
    "texto_en_minuscula = ['Un', 'día', 'vi', 'una', 'vaca', 'vestida', 'de', 'uniforme']\n",
    "\n",
    "texto_en_mayuscula = []\n",
    "for palabra in texto_en_minuscula:\n",
    "    texto_en_mayuscula.append(palabra.upper())\n",
    "print(texto_en_mayuscula)\n",
    "\n",
    "print([palabra.upper() for palabra in texto_en_minuscula])"
   ]
  },
  {
   "cell_type": "markdown",
   "metadata": {},
   "source": [
    "Puede usarse `zip` parar iterar sobre más de una lista"
   ]
  },
  {
   "cell_type": "code",
   "execution_count": null,
   "metadata": {},
   "outputs": [],
   "source": [
    "lista1 = [x for x in range(20)]\n",
    "lista2 = [10]*20\n",
    "lista3 = texto_en_minuscula\n",
    "\n",
    "for elemento1, elemento2, elemento3 in zip(lista1, lista2, lista3):\n",
    "    print(elemento1, elemento2, elemento3, sep=', ')"
   ]
  },
  {
   "cell_type": "markdown",
   "metadata": {},
   "source": [
    "### Sets\n",
    "\n",
    "Set: colección desordenada de objetos (sin duplicados)\n",
    "\n",
    "Es posible iterar en un set, agregar/remover elementos y aplicar operaciones lógicas entre sets (intersección, union, diferencia)\n",
    "\n",
    "Tiene complejidad O(1) de búsqueda (muy eficientes). Se deben preferir antes que las listas cuando\n",
    "- La colección es de gran tamaño\n",
    "- No hay elementos repetidos\n",
    "- Se realizarán múltiples búsquedas en la colección\n",
    "\n"
   ]
  },
  {
   "cell_type": "code",
   "execution_count": null,
   "metadata": {},
   "outputs": [],
   "source": [
    "with open(\"zen.txt\") as archivo:\n",
    "    zen = [palabra.strip(\",\") for linea in archivo for palabra in linea.split()]\n",
    "\n",
    "print(zen)"
   ]
  },
  {
   "cell_type": "code",
   "execution_count": null,
   "metadata": {},
   "outputs": [],
   "source": [
    "s = set(zen)\n",
    "\n",
    "%timeit -n20 'Although' in s\n",
    "\n",
    "%timeit -n20 'Although' in zen"
   ]
  },
  {
   "cell_type": "code",
   "execution_count": null,
   "metadata": {},
   "outputs": [],
   "source": [
    "print('pablo' in s)\n",
    "s.add('pablo')\n",
    "print('pablo' in s)\n",
    "s.remove('Zen')\n",
    "print('Zen' in s)"
   ]
  },
  {
   "cell_type": "markdown",
   "metadata": {},
   "source": [
    "### Diccionario\n",
    "\n",
    "Es una secuencia indexada por llaves (*keys*). \n",
    "\n",
    "- Al igual que el set tienen complejidad de búsqueda O(1)\n",
    "- A diferencia del set se puede buscar un elemento usando su llave"
   ]
  },
  {
   "cell_type": "code",
   "execution_count": null,
   "metadata": {},
   "outputs": [],
   "source": [
    "d = {'nombre': 'pablo', 'apellido': 'huijse', 'edad': 33, 'peso': 80.1}\n",
    "\n",
    "# Leyendo el valor asociado a una llave\n",
    "print(d['apellido'])\n",
    "# Buscando si un elemento existe\n",
    "print('edad' in d)\n",
    "# Retorna las llaves:\n",
    "print(list(d))\n",
    "# Se puede iterar en llaves y valores\n",
    "for llave, valor in d.items():\n",
    "    print(llave, valor, sep=': ')"
   ]
  },
  {
   "cell_type": "markdown",
   "metadata": {},
   "source": [
    "### Iteradores\n",
    "\n",
    "Podemos usar `iter` para crear un iterador a partir de un objeto iterable (lista, string, diccionario)\n",
    "\n",
    "El iterador se evalua con `next` para escupir el próximo elemento, el cual sale del iterador (lazy, single-use)\n",
    "\n",
    "Son ventajosos en términos de uso de memoría"
   ]
  },
  {
   "cell_type": "code",
   "execution_count": null,
   "metadata": {},
   "outputs": [],
   "source": [
    "iterador = iter(texto_en_minuscula)\n",
    "\n",
    "print(next(iterador))\n",
    "print(next(iterador))\n",
    "print(list(iterador))\n",
    "# El iterador arroja una excepción StopIteration cuando se termina\n",
    "print(next(iterador))"
   ]
  },
  {
   "cell_type": "code",
   "execution_count": null,
   "metadata": {},
   "outputs": [],
   "source": [
    "iterador = iter(texto_en_minuscula)\n",
    "for elemento in iterador:\n",
    "    print(elemento)\n",
    "# El iterador queda vacio luego de usarse    \n",
    "print(list(iterador))"
   ]
  },
  {
   "cell_type": "markdown",
   "metadata": {},
   "source": [
    "### Generadores \n",
    "\n",
    "Funciones que retornan un iterador\n",
    "\n",
    "    yield\n",
    "    \n",
    "PENDIENTE"
   ]
  },
  {
   "cell_type": "code",
   "execution_count": null,
   "metadata": {
    "scrolled": true
   },
   "outputs": [],
   "source": [
    "def gen():\n",
    "    for i in range(5):\n",
    "        yield from range(i)\n",
    "        \n",
    "for x in gen():\n",
    "    print(x)"
   ]
  },
  {
   "cell_type": "markdown",
   "metadata": {},
   "source": [
    "generator expression"
   ]
  },
  {
   "cell_type": "markdown",
   "metadata": {},
   "source": [
    "### Bloques try/except"
   ]
  },
  {
   "cell_type": "code",
   "execution_count": null,
   "metadata": {},
   "outputs": [],
   "source": [
    "def foo(x):\n",
    "    try:\n",
    "        return x/10\n",
    "    except TypeError: \n",
    "        print(\"Esta excepcion se captura\")    \n",
    "    else:\n",
    "        print(\"Estas excepciones se propagan\")\n",
    "    finally:\n",
    "        print(\"Esto corre al final de cualquier camino (cleanup)\")\n",
    "        \n",
    "foo('asd')        "
   ]
  },
  {
   "cell_type": "markdown",
   "metadata": {},
   "source": [
    "### pathlib\n",
    "\n",
    "PENDIENTE"
   ]
  },
  {
   "cell_type": "code",
   "execution_count": null,
   "metadata": {},
   "outputs": [],
   "source": [
    "from pathlib import Path\n",
    "p = Path('.')\n",
    "sorted(p.glob('*.py'))"
   ]
  },
  {
   "cell_type": "markdown",
   "metadata": {},
   "source": [
    "https://ipython-books.github.io/25-efficient-interactive-computing-workflows-with-ipython/\n",
    "\n",
    "https://ipython-books.github.io/27-writing-high-quality-python-code/\n",
    "\n",
    "https://docs.python.org/3/howto/functional.html\n",
    "\n",
    "https://docs.python-guide.org/\n",
    "\n",
    "https://github.com/jakevdp/WhirlwindTourOfPython"
   ]
  },
  {
   "cell_type": "markdown",
   "metadata": {},
   "source": [
    "\n",
    "\n",
    "# Arreglos y operaciones vectoriales con Numpy \n",
    "\n",
    "- \"Numerical Python\", Chapter 2: Vectors, Matrices and Multidimensional Arrays\n",
    "- \"Python Data Science Handbook\", Chapter 2: [Introduction to NumPy](https://jakevdp.github.io/PythonDataScienceHandbook/02.00-introduction-to-numpy.html)\n",
    "\n"
   ]
  },
  {
   "cell_type": "markdown",
   "metadata": {},
   "source": [
    "# Manejador de versiones\n",
    "\n",
    "https://happygitwithr.com/credential-caching.html\n",
    "\n",
    "https://github.com/IACS-CS-207/cs207-F18/blob/master/lectures/L02/L2.ipynb"
   ]
  },
  {
   "cell_type": "markdown",
   "metadata": {},
   "source": [
    "Ambiente de desarrollo interactivo basado en IPython y Jupyter con librerías numpy, pandas, scipy y matplotlib\n",
    "\n",
    "Repaso de python (Slicing, Listas, diccionarios, generadores, sets, clases)\n",
    "\n",
    "Arreglos y operaciones vectoriales con Numpy \n",
    "\n",
    "Lectura y manipulación de datos usando Numpy y Pandas\n",
    "\n",
    "Serialización\n",
    "\n",
    "Visualización de datos usando matplotlib \n",
    "\n",
    "Jupyter widgets\n",
    "\n",
    "Manteniendo un repositorio en github"
   ]
  },
  {
   "cell_type": "markdown",
   "metadata": {},
   "source": [
    "https://www.analyticsvidhya.com/blog/2017/01/the-most-comprehensive-data-science-learning-plan-for-2017/"
   ]
  }
 ],
 "metadata": {
  "kernelspec": {
   "display_name": "Python 3",
   "language": "python",
   "name": "python3"
  },
  "language_info": {
   "codemirror_mode": {
    "name": "ipython",
    "version": 3
   },
   "file_extension": ".py",
   "mimetype": "text/x-python",
   "name": "python",
   "nbconvert_exporter": "python",
   "pygments_lexer": "ipython3",
   "version": "3.7.2"
  }
 },
 "nbformat": 4,
 "nbformat_minor": 2
}
