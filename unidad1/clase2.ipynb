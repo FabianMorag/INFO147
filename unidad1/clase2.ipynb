{
 "cells": [
  {
   "cell_type": "markdown",
   "metadata": {},
   "source": [
    "Ambiente de desarrollo interactivo basado en IPython y Jupyter con librerías numpy, pandas, scipy y matplotlib\n",
    "\n",
    "Repaso de python (Slicing, Listas, diccionarios, generadores, sets, clases)\n",
    "\n",
    "Arreglos y operaciones vectoriales con Numpy \n",
    "\n",
    "Lectura y manipulación de datos usando Numpy y Pandas\n",
    "\n",
    "Serialización\n",
    "\n",
    "Visualización de datos usando matplotlib \n",
    "\n",
    "Jupyter widgets\n",
    "\n",
    "Manteniendo un repositorio en github"
   ]
  },
  {
   "cell_type": "markdown",
   "metadata": {},
   "source": [
    "## Manejador de versiones\n",
    "\n",
    "https://happygitwithr.com/credential-caching.html\n",
    "\n",
    "https://github.com/IACS-CS-207/cs207-F18/blob/master/lectures/L02/L2.ipynb"
   ]
  },
  {
   "cell_type": "code",
   "execution_count": null,
   "metadata": {},
   "outputs": [],
   "source": []
  }
 ],
 "metadata": {
  "kernelspec": {
   "display_name": "Python 3",
   "language": "python",
   "name": "python3"
  },
  "language_info": {
   "codemirror_mode": {
    "name": "ipython",
    "version": 3
   },
   "file_extension": ".py",
   "mimetype": "text/x-python",
   "name": "python",
   "nbconvert_exporter": "python",
   "pygments_lexer": "ipython3",
   "version": "3.7.2"
  }
 },
 "nbformat": 4,
 "nbformat_minor": 2
}
