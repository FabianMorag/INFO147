{
 "cells": [
  {
   "cell_type": "markdown",
   "metadata": {},
   "source": [
    "\n",
    "\n",
    "# Arreglos y operaciones vectoriales con [NumPy](http://www.numpy.org/)\n",
    "\n",
    "\n",
    "NumPy es un paquete de computación científica con Python que provee:\n",
    "\n",
    "- Un objecto contenedor muy versatil: arreglo N-dimensional `ndarray`\n",
    "- Funciones capaces de hacer *broadcasting*\n",
    "- Módulos para algebra lineal, Transformada de Fourier, generación de número aleatorios, entre otros\n",
    "- Herramientas para integrar código C/C++\n"
   ]
  },
  {
   "cell_type": "code",
   "execution_count": null,
   "metadata": {},
   "outputs": [],
   "source": [
    "import numpy as np\n",
    "# Contenidos del namespace np:\n",
    "np?"
   ]
  },
  {
   "cell_type": "markdown",
   "metadata": {},
   "source": [
    "### Tipo ndarray (alias array)\n",
    "\n",
    "Arreglo n-dimensional de tipo fijo. Se puede almacenar y operar de manera eficiente\n",
    "\n",
    "Podemos crearlo a partir de una lista o una tupla"
   ]
  },
  {
   "cell_type": "code",
   "execution_count": null,
   "metadata": {},
   "outputs": [],
   "source": [
    "L = [x for x in range(100000)]\n",
    "print(type(L))\n",
    "A = np.array(L)\n",
    "print(type(A))"
   ]
  },
  {
   "cell_type": "markdown",
   "metadata": {},
   "source": [
    "Podemos especificar el tipo del arreglo"
   ]
  },
  {
   "cell_type": "code",
   "execution_count": null,
   "metadata": {},
   "outputs": [],
   "source": [
    "L = [x for x in range(10)]\n",
    "np.array(L, dtype=np.float32)"
   ]
  },
  {
   "cell_type": "markdown",
   "metadata": {},
   "source": [
    "Podemos construir arreglos con más de una dimensión\n",
    "\n",
    "Los atributos `ndim` y `shape` nos indican las dimensiones y el tamaño del arreglo, respectivamente"
   ]
  },
  {
   "cell_type": "code",
   "execution_count": null,
   "metadata": {},
   "outputs": [],
   "source": [
    "L = [[i-j for i in range(5)] for j in range(5)]\n",
    "print(L)\n",
    "A = np.array(L)\n",
    "print(A)\n",
    "print(A.ndim)\n",
    "print(A.shape)"
   ]
  },
  {
   "cell_type": "markdown",
   "metadata": {},
   "source": [
    "### Indexación\n",
    "\n",
    "Podemos indexar y asignar valores a nuestros arreglos de diversas formas"
   ]
  },
  {
   "cell_type": "code",
   "execution_count": null,
   "metadata": {},
   "outputs": [],
   "source": [
    "print(L[3][1]) \n",
    "print(A[3, 1]) # Cuarta fila y segunda columna\n",
    "print(A[:, 1])  # Segunda columna\n",
    "print(A[2, :]) # Tercera fila \n",
    "print(A[::2, 1]) # Elementos pares de la segunda columna"
   ]
  },
  {
   "cell_type": "markdown",
   "metadata": {},
   "source": [
    "Podemos usar un arreglo de enteros para indexar otro arreglo"
   ]
  },
  {
   "cell_type": "code",
   "execution_count": null,
   "metadata": {},
   "outputs": [],
   "source": [
    "ix = np.array([2, 0, 1])\n",
    "iy = np.array([0, 2, 1])\n",
    "A[ix, iy] = 10\n",
    "print(A)"
   ]
  },
  {
   "cell_type": "markdown",
   "metadata": {},
   "source": [
    "También podemos indexar usando un arreglo de booleanos"
   ]
  },
  {
   "cell_type": "code",
   "execution_count": null,
   "metadata": {},
   "outputs": [],
   "source": [
    "A = np.array([0, 2, 1, 3, 4])\n",
    "B = [True, False, False, True, True]\n",
    "print(A[B])"
   ]
  },
  {
   "cell_type": "markdown",
   "metadata": {},
   "source": [
    "### Creación de arreglos\n",
    "\n",
    "Se pueden crear arreglos directamente desde Numpy:"
   ]
  },
  {
   "cell_type": "code",
   "execution_count": null,
   "metadata": {},
   "outputs": [],
   "source": [
    "print(np.zeros(shape=(3, 3), dtype=np.int))  # Lleno de ceros\n",
    "print(np.ones(shape=(3, 3), dtype=np.float32))  # Lleno de unos\n",
    "print(np.full(shape=(3, 3), fill_value=2.1))  # Lleno de 2.1\n",
    "print(np.eye(3))  # Matriz identidad\n",
    "print(np.random.randn(3, 3))  # Matriz aleatoria con distribución N(0, 1)\n",
    "# np.empty((3, 3))"
   ]
  },
  {
   "cell_type": "markdown",
   "metadata": {},
   "source": [
    "Existen versiones de estas funciones que copian el tamaño de otro ndarray"
   ]
  },
  {
   "cell_type": "code",
   "execution_count": null,
   "metadata": {},
   "outputs": [],
   "source": [
    "print(np.zeros_like(A))"
   ]
  },
  {
   "cell_type": "markdown",
   "metadata": {},
   "source": [
    "Funciones para crear rangos:"
   ]
  },
  {
   "cell_type": "code",
   "execution_count": null,
   "metadata": {},
   "outputs": [],
   "source": [
    "print(np.arange(start=0, stop=10, step=0.5))  \n",
    "print(np.linspace(start=0, stop=10, num=21)) \n",
    "print(np.logspace(start=-1, stop=1, num=21))"
   ]
  },
  {
   "cell_type": "markdown",
   "metadata": {},
   "source": [
    "Ojo con los tamaños de los arreglos. \n",
    "\n",
    "Un arreglo unidimensional puese ser vector fila, vector columna o ninguno!"
   ]
  },
  {
   "cell_type": "code",
   "execution_count": null,
   "metadata": {},
   "outputs": [],
   "source": [
    "A = np.array([0, 1, 2, 3, 4])\n",
    "print(A.shape)\n",
    "A = np.array([[0], [1], [2], [3], [4]])\n",
    "print(A.shape)\n",
    "A = np.array([[0, 1, 2, 3, 4]])\n",
    "print(A.shape)"
   ]
  },
  {
   "cell_type": "markdown",
   "metadata": {},
   "source": [
    "Se puede agregar una dimensión a un arreglo usando `newaxis`"
   ]
  },
  {
   "cell_type": "code",
   "execution_count": null,
   "metadata": {},
   "outputs": [],
   "source": [
    "A = np.array([0, 1, 2, 3, 4])\n",
    "print(A.shape)\n",
    "print(A[:, np.newaxis].shape)\n",
    "print(A[np.newaxis, :].shape)"
   ]
  },
  {
   "cell_type": "markdown",
   "metadata": {},
   "source": [
    "### Manipulación de matrices y vectores\n",
    "\n",
    "Operaciones para modificar la forma de un arreglo: `reshape`, `tile`, `repeat`"
   ]
  },
  {
   "cell_type": "code",
   "execution_count": null,
   "metadata": {},
   "outputs": [],
   "source": [
    "A = np.arange(6)\n",
    "print(A)\n",
    "# Crea nuevas dimensiones pero se debe preservar el tamaño\n",
    "print(np.reshape(A, (3, 2)))  # in-place: A.reshape(3, 2)\n",
    "print(np.reshape(A, (2, 3)))\n",
    "# Repite el arreglo en una dirección dada\n",
    "print(np.tile(A, (6, 1)))\n",
    "print(np.tile(A, (1, 6)))\n",
    "# Repite cada elemento en una dirección dada\n",
    "print(np.repeat(A, 2))\n",
    "print(np.repeat(A.reshape(3, 2), 2, axis=0))\n",
    "# Aplana una matriz\n",
    "print(np.ravel(np.zeros(shape=(5, 5))))"
   ]
  },
  {
   "cell_type": "markdown",
   "metadata": {},
   "source": [
    "Se puede crear una matriz diagonal a partir de un vector con `diag`\n",
    "\n",
    "También sirve para extraer la diagonal de una matriz "
   ]
  },
  {
   "cell_type": "code",
   "execution_count": null,
   "metadata": {},
   "outputs": [],
   "source": [
    "A = np.arange(5)\n",
    "print(np.diag(A))\n",
    "B = np.random.randn(3, 3)\n",
    "print(B)\n",
    "print(np.diag(B))"
   ]
  },
  {
   "cell_type": "markdown",
   "metadata": {},
   "source": [
    "Trasposición de una matriz con `transpose`"
   ]
  },
  {
   "cell_type": "code",
   "execution_count": null,
   "metadata": {},
   "outputs": [],
   "source": [
    "A = np.arange(9).reshape(3, 3)\n",
    "print(A)\n",
    "print(np.transpose(A)) # Equivalente a A.transpose() o A.T\n",
    "A = np.arange(27).reshape(3, 3, 3)\n",
    "print(A)\n",
    "print(np.transpose(A, axes=(0, 2, 1)))  # Equivalente a: np.swapaxes(A, 2, 1)"
   ]
  },
  {
   "cell_type": "markdown",
   "metadata": {},
   "source": [
    "Operaciones para juntar dos o más arreglos: `concatenate`, `vstack`, `hstack`"
   ]
  },
  {
   "cell_type": "code",
   "execution_count": null,
   "metadata": {},
   "outputs": [],
   "source": [
    "A = np.arange(6).reshape(1, 6)\n",
    "B = np.ones(shape=(1,6))\n",
    "print(np.concatenate((A, B), axis=0))\n",
    "print(np.concatenate((A, B), axis=1))\n",
    "print(np.vstack((A, B)))\n",
    "print(np.hstack((A, B)))"
   ]
  },
  {
   "cell_type": "markdown",
   "metadata": {},
   "source": [
    "### Operaciones aritméticas básicas entre arreglos\n",
    "\n"
   ]
  },
  {
   "cell_type": "code",
   "execution_count": null,
   "metadata": {
    "scrolled": true
   },
   "outputs": [],
   "source": [
    "N = 5\n",
    "A = np.eye(N)\n",
    "B = np.ones(shape=(N, N))\n",
    "print(A + B)\n",
    "# Multiplicación punto a punto:\n",
    "print(A*B)  \n",
    "# Multiplicación matricial\n",
    "print(np.dot(A, B))  #  Equivalente a A.dot(B) y A@B"
   ]
  },
  {
   "cell_type": "markdown",
   "metadata": {},
   "source": [
    "Cuando los términos no son del mismo tamaño se hace un `broadcast`"
   ]
  },
  {
   "cell_type": "code",
   "execution_count": null,
   "metadata": {},
   "outputs": [],
   "source": [
    "A - 1"
   ]
  },
  {
   "cell_type": "code",
   "execution_count": null,
   "metadata": {},
   "outputs": [],
   "source": [
    "C = np.arange(N)\n",
    "print(C)\n",
    "print(B + C)"
   ]
  },
  {
   "cell_type": "code",
   "execution_count": null,
   "metadata": {},
   "outputs": [],
   "source": [
    "C.reshape(1, N) + C.reshape(N, 1)"
   ]
  },
  {
   "attachments": {
    "index.png": {
     "image/png": "[encoded data removed]"
    }
   },
   "cell_type": "markdown",
   "metadata": {},
   "source": [
    "Reglas de broadcasting\n",
    "\n",
    "1. Si dos arreglos son de dimensiones distintas la dimensión del más pequeño se agranda con \"1\"s por la izquierda\n",
    "1. Si dos arreglos tienen tamaños ditintos, el que tiene tamaño \"1\" se estira en dicha dimensión\n",
    "1. Si en cualquier dimensión los tamaños son distintos y ninguno es igual a \"1\" ocurre un error\n",
    "\n",
    "\n",
    "![index.png](attachment:index.png)\n",
    "\n",
    "Ref: https://jakevdp.github.io/PythonDataScienceHandbook/06.00-figure-code.html#Broadcasting"
   ]
  },
  {
   "cell_type": "code",
   "execution_count": null,
   "metadata": {},
   "outputs": [],
   "source": [
    "A = np.arange(6).reshape(2, 3)\n",
    "print(A.shape)\n",
    "print(A)\n",
    "B = np.arange(3)\n",
    "print(B.shape)\n",
    "print(B)\n",
    "print(B.reshape(1, -1))\n",
    "A + B"
   ]
  },
  {
   "cell_type": "markdown",
   "metadata": {},
   "source": [
    "### Operaciones vectorizadas \n",
    "\n",
    "Tal vez la mayor ventaja de NumPy son sus funciones vectorizadas. Funciones altamente eficientes que trabajan sobre los `ndarray`\n",
    "\n",
    "Hagamos una pequeña prueba de desempeño sumando un vector\n"
   ]
  },
  {
   "cell_type": "code",
   "execution_count": null,
   "metadata": {},
   "outputs": [],
   "source": [
    "A = np.arange(100000)\n",
    "\n",
    "def suma_loop(arreglo):\n",
    "    suma = 0.\n",
    "    for elemento in arreglo:\n",
    "        suma += elemento\n",
    "    return suma\n",
    "\n",
    "L = list(A)\n",
    "%timeit -n10 suma_loop(A)\n",
    "%timeit -n10 sum(A)\n",
    "%timeit -n10 sum(L)\n",
    "%timeit -n10 np.sum(A)"
   ]
  },
  {
   "cell_type": "markdown",
   "metadata": {},
   "source": [
    "Reducciones eficientes con NumPy: `sum`, `prod`, `amax`, `amin`, `argmax`, `argmin`, `mean`, `std`, `var`, `percentile`, `median`"
   ]
  },
  {
   "cell_type": "code",
   "execution_count": null,
   "metadata": {},
   "outputs": [],
   "source": [
    "A = np.tile(np.arange(3), (3, 1))\n",
    "print(A)\n",
    "print(np.sum(A, axis=0))\n",
    "print(np.sum(A, axis=1))\n",
    "print(np.sum(A))\n",
    "A = np.random.randn(3, 3)\n",
    "print(A)\n",
    "print(np.amax(A, axis=0))\n",
    "print(np.argmax(A, axis=0))"
   ]
  },
  {
   "cell_type": "markdown",
   "metadata": {},
   "source": [
    "Muchas de estas funciones están implementadas como métodos de la clase arreglo"
   ]
  },
  {
   "cell_type": "code",
   "execution_count": null,
   "metadata": {},
   "outputs": [],
   "source": [
    "print(A.sum())\n",
    "print(A.max(axis=0))\n",
    "print(A.min())"
   ]
  },
  {
   "cell_type": "markdown",
   "metadata": {},
   "source": [
    "También cuenta con versiones seguras contra NaNs"
   ]
  },
  {
   "cell_type": "code",
   "execution_count": null,
   "metadata": {},
   "outputs": [],
   "source": [
    "A = np.array([1., 10., 2., np.nan])\n",
    "print(np.sum(A))\n",
    "print(np.nansum(A))"
   ]
  },
  {
   "cell_type": "markdown",
   "metadata": {},
   "source": [
    "Valor absoluto de un arreglo"
   ]
  },
  {
   "cell_type": "code",
   "execution_count": null,
   "metadata": {},
   "outputs": [],
   "source": [
    "A = np.random.randn(3, 3)\n",
    "print(A)\n",
    "np.absolute(A) # Equivalente a np.abs(A)"
   ]
  },
  {
   "cell_type": "markdown",
   "metadata": {},
   "source": [
    "Exponentes y raices"
   ]
  },
  {
   "cell_type": "code",
   "execution_count": null,
   "metadata": {},
   "outputs": [],
   "source": [
    "x = np.arange(10)\n",
    "print(np.power(x, 2))\n",
    "print(np.sqrt(x))\n",
    "print(x**2)"
   ]
  },
  {
   "cell_type": "markdown",
   "metadata": {},
   "source": [
    "Función exponencial, logaritmo y funciones trigonométricas"
   ]
  },
  {
   "cell_type": "code",
   "execution_count": null,
   "metadata": {},
   "outputs": [],
   "source": [
    "x = np.array([0.1, 1., 10.0])\n",
    "print(np.log(x))\n",
    "print(np.exp(x))\n",
    "print(np.sin(x))\n",
    "print(np.cos(x))"
   ]
  },
  {
   "cell_type": "markdown",
   "metadata": {},
   "source": [
    "### Operaciones booleanas \n",
    "\n",
    "NumPy soporta operaciones booleanas sobre ndarray"
   ]
  },
  {
   "cell_type": "code",
   "execution_count": null,
   "metadata": {},
   "outputs": [],
   "source": [
    "A = np.arange(6).reshape(2, 3)\n",
    "print(A)\n",
    "print(A == 4)\n",
    "print(np.equal(A, 4))"
   ]
  },
  {
   "cell_type": "code",
   "execution_count": null,
   "metadata": {},
   "outputs": [],
   "source": [
    "~(A % 2 == 0) & (A > 2)"
   ]
  },
  {
   "cell_type": "code",
   "execution_count": null,
   "metadata": {},
   "outputs": [],
   "source": [
    "(ixs, iys) = np.where(~(A % 2 == 0) & (A > 2))\n",
    "\n",
    "for i, j in zip(ixs, iys):\n",
    "    print(\"Fila {0} Columna {1} Valor {2}\".format(i, j, A[i, j]))"
   ]
  },
  {
   "cell_type": "markdown",
   "metadata": {},
   "source": [
    "Funciones `any` y `all`"
   ]
  },
  {
   "cell_type": "code",
   "execution_count": null,
   "metadata": {},
   "outputs": [],
   "source": [
    "x = np.random.randn(3, 3)\n",
    "print(x)\n",
    "b = (x > 0) & (x**2 > 0.5)\n",
    "print(b)\n",
    "print(np.any(b))\n",
    "print(np.all(b))"
   ]
  },
  {
   "cell_type": "markdown",
   "metadata": {},
   "source": [
    "### Ordenando arreglos\n",
    "\n",
    "NumPy provee la función `np.sort` para ordernar ndarray (implementa quicksort)"
   ]
  },
  {
   "cell_type": "code",
   "execution_count": null,
   "metadata": {},
   "outputs": [],
   "source": [
    "np.sort?"
   ]
  },
  {
   "cell_type": "code",
   "execution_count": null,
   "metadata": {},
   "outputs": [],
   "source": [
    "A = np.random.randn(5)\n",
    "print(A)\n",
    "print(np.sort(A))\n",
    "print(np.sort(A, kind='heapsort'))\n",
    "print(np.argsort(A))"
   ]
  },
  {
   "cell_type": "code",
   "execution_count": null,
   "metadata": {},
   "outputs": [],
   "source": [
    "A = np.random.randn(3, 3)\n",
    "print(A)\n",
    "print(np.sort(A))\n",
    "print(np.sort(A, axis=0))\n",
    "print(np.sort(A, axis=None))"
   ]
  },
  {
   "cell_type": "markdown",
   "metadata": {},
   "source": [
    "### Copias en memoria\n",
    "Algunas operaciones sobre arreglos no hacen copias (usan referencias)"
   ]
  },
  {
   "cell_type": "code",
   "execution_count": null,
   "metadata": {},
   "outputs": [],
   "source": [
    "A = np.arange(100).reshape(10, 10)\n",
    "B = A\n",
    "B is A"
   ]
  },
  {
   "cell_type": "code",
   "execution_count": null,
   "metadata": {},
   "outputs": [],
   "source": [
    "A[0, 0] = 100\n",
    "print(B[0])"
   ]
  },
  {
   "cell_type": "markdown",
   "metadata": {},
   "source": [
    "Se puede forzar la creación de una copia con el método `copy()`"
   ]
  },
  {
   "cell_type": "code",
   "execution_count": null,
   "metadata": {},
   "outputs": [],
   "source": [
    "B = A.copy()\n",
    "A[0, 0] = 0\n",
    "print(B[0])"
   ]
  },
  {
   "cell_type": "markdown",
   "metadata": {},
   "source": [
    "### Modulos de NumPy"
   ]
  }
 ],
 "metadata": {
  "kernelspec": {
   "display_name": "Python 3",
   "language": "python",
   "name": "python3"
  },
  "language_info": {
   "codemirror_mode": {
    "name": "ipython",
    "version": 3
   },
   "file_extension": ".py",
   "mimetype": "text/x-python",
   "name": "python",
   "nbconvert_exporter": "python",
   "pygments_lexer": "ipython3",
   "version": "3.7.2"
  }
 },
 "nbformat": 4,
 "nbformat_minor": 2
}
