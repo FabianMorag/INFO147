{
 "cells": [
  {
   "cell_type": "markdown",
   "metadata": {},
   "source": [
    "\n",
    "\n",
    "# Arreglos y operaciones vectoriales con [NumPy](http://www.numpy.org/)\n",
    "\n",
    "\n",
    "NumPy es un paquete de computación científica con Python que provee:\n",
    "\n",
    "- Un objecto contenedor muy versatil: arreglo N-dimensional `ndarray`\n",
    "- Funciones capaces de hacer *broadcasting*\n",
    "- Módulos para algebra lineal, Transformada de Fourier, generación de número aleatorios, entre otros\n",
    "- Herramientas para integrar código C/C++\n"
   ]
  },
  {
   "cell_type": "code",
   "execution_count": null,
   "metadata": {},
   "outputs": [],
   "source": [
    "import numpy as np\n",
    "# Contenidos del namespace np:\n",
    "np??"
   ]
  },
  {
   "cell_type": "markdown",
   "metadata": {},
   "source": [
    "### Tipo ndarray (alias array)\n",
    "\n",
    "Arreglo n-dimensional de tipo fijo. Se puede almacenar y operar de manera eficiente\n",
    "\n",
    "Podemos crearlo a partir de una lista o una tupla"
   ]
  },
  {
   "cell_type": "code",
   "execution_count": null,
   "metadata": {},
   "outputs": [],
   "source": [
    "L = [x for x in range(100000)]\n",
    "print(type(L))\n",
    "A = np.array(L)\n",
    "print(type(A))"
   ]
  },
  {
   "cell_type": "markdown",
   "metadata": {},
   "source": [
    "Python incorpora los modulos [math](https://docs.python.org/3/library/math.html) y cmath que proveen funciones matemáticas. Existen otras operaciones como `sum`, `abs`, `min` y `max` que vienen como parte del estándar. \n",
    "\n",
    "NumPy provee versiones de estas funciones que son más eficientes siempre que se usen sobre un `ndarray`"
   ]
  },
  {
   "cell_type": "code",
   "execution_count": null,
   "metadata": {},
   "outputs": [],
   "source": [
    "%timeit -n 10 sum(L)\n",
    "%timeit -n 10 np.sum(A)"
   ]
  },
  {
   "cell_type": "code",
   "execution_count": null,
   "metadata": {},
   "outputs": [],
   "source": [
    "%timeit -n 10 [abs(x) for x in L]\n",
    "%timeit -n 10 np.abs(A)"
   ]
  },
  {
   "cell_type": "markdown",
   "metadata": {},
   "source": [
    "Podemos especificar el tipo del arreglo"
   ]
  },
  {
   "cell_type": "code",
   "execution_count": null,
   "metadata": {},
   "outputs": [],
   "source": [
    "L = [x for x in range(10)]\n",
    "np.array(L, dtype=np.float32)"
   ]
  },
  {
   "cell_type": "markdown",
   "metadata": {},
   "source": [
    "Podemos construir arreglos con más de una dimensión\n",
    "\n",
    "Los atributos `ndim` y `shape` nos indican las dimensiones y el tamaño del arreglo, respectivamente"
   ]
  },
  {
   "cell_type": "code",
   "execution_count": null,
   "metadata": {},
   "outputs": [],
   "source": [
    "L = [[i-j for i in range(5)] for j in range(5)]\n",
    "print(L)\n",
    "A = np.array(L)\n",
    "print(A)\n",
    "print(A.ndim)\n",
    "print(A.shape)"
   ]
  },
  {
   "cell_type": "markdown",
   "metadata": {},
   "source": [
    "Podemos indexar y asignar valores a nuestros arreglos de diversas formas"
   ]
  },
  {
   "cell_type": "code",
   "execution_count": null,
   "metadata": {},
   "outputs": [],
   "source": [
    "print(L[3][1])\n",
    "print(A[3, 1])\n",
    "print(A[:, 1])\n",
    "print(A[2, :])\n",
    "print(A[::2, 1])\n",
    "print(A[[2, 0, 1], 1])"
   ]
  },
  {
   "cell_type": "code",
   "execution_count": null,
   "metadata": {},
   "outputs": [],
   "source": [
    "A[[2, 0, 1], [0, 2, 1]] = 10\n",
    "print(A)"
   ]
  },
  {
   "cell_type": "markdown",
   "metadata": {},
   "source": [
    "Se pueden crear arreglos directamente desde Numpy:"
   ]
  },
  {
   "cell_type": "code",
   "execution_count": null,
   "metadata": {},
   "outputs": [],
   "source": [
    "print(np.zeros(shape=(3, 3), dtype=np.int))  # Lleno de ceros\n",
    "print(np.ones(shape=(3, 3), dtype=np.float32))  # Lleno de unos\n",
    "print(np.full(shape=(3, 3), fill_value=2.1))  # Lleno de 2.1\n",
    "print(np.eye(3))  # Matriz identidad\n",
    "print(np.random.randn(3, 3))  # Matriz aleatoria con distribución N(0, 1)\n",
    "# np.empty((3, 3))"
   ]
  },
  {
   "cell_type": "markdown",
   "metadata": {},
   "source": [
    "Existen versiones de estas funciones que copian el tamaño de otro ndarray"
   ]
  },
  {
   "cell_type": "code",
   "execution_count": null,
   "metadata": {},
   "outputs": [],
   "source": [
    "print(np.zeros_like(A))"
   ]
  },
  {
   "cell_type": "markdown",
   "metadata": {},
   "source": [
    "Funciones para crear rangos:"
   ]
  },
  {
   "cell_type": "code",
   "execution_count": null,
   "metadata": {},
   "outputs": [],
   "source": [
    "print(np.arange(start=0, stop=10, step=0.5))  \n",
    "print(np.linspace(start=0, stop=10, num=21)) \n",
    "print(np.logspace(start=-1, stop=1, num=21))"
   ]
  },
  {
   "cell_type": "markdown",
   "metadata": {},
   "source": [
    "### Operaciones aritméticas básicas entre arreglos\n",
    "\n"
   ]
  },
  {
   "cell_type": "code",
   "execution_count": null,
   "metadata": {
    "scrolled": true
   },
   "outputs": [],
   "source": [
    "N = 5\n",
    "A = np.eye(N)\n",
    "B = np.ones(shape=(N, N))\n",
    "print(A + B)\n",
    "# Multiplicación punto a punto:\n",
    "print(A*B)  \n",
    "# Multiplicación matricial\n",
    "print(np.dot(A, B))  #  Equivalente a A.dot(B) y A@B"
   ]
  },
  {
   "cell_type": "markdown",
   "metadata": {},
   "source": [
    "Cuando los términos no son del mismo tamaño se hace un `broadcast`"
   ]
  },
  {
   "cell_type": "code",
   "execution_count": null,
   "metadata": {},
   "outputs": [],
   "source": [
    "print(2*A - 1)\n",
    "print(A[:, 0] + 1)\n",
    "C = np.arange(N)\n",
    "print(A + C)"
   ]
  },
  {
   "cell_type": "markdown",
   "metadata": {},
   "source": [
    "Ojo con los tamaños de los arreglos"
   ]
  },
  {
   "cell_type": "code",
   "execution_count": null,
   "metadata": {},
   "outputs": [],
   "source": [
    "A = np.array([0, 1, 2, 3, 4])\n",
    "print(A.shape)\n",
    "A = np.array([[0], [1], [2], [3], [4]])\n",
    "print(A.shape)\n",
    "A = np.array([[0, 1, 2], [1, 1, 2], [2, 1, 2], [3, 1, 2], [4, 1, 2]])\n",
    "print(A.shape)"
   ]
  },
  {
   "cell_type": "markdown",
   "metadata": {},
   "source": [
    "### Manipulación de matrices y vectores\n",
    "\n",
    "Operaciones para modificar la forma de un arreglo: `reshape`, `tile`, `repeat`"
   ]
  },
  {
   "cell_type": "code",
   "execution_count": null,
   "metadata": {},
   "outputs": [],
   "source": [
    "A = np.arange(6)\n",
    "print(A)\n",
    "# Crea nuevas dimensiones pero se debe preservar el tamaño\n",
    "print(np.reshape(A, (3, 2)))  # in-place: A.reshape(3, 2)\n",
    "print(np.reshape(A, (2, 3)))\n",
    "# Repite el arreglo en una dirección dada\n",
    "print(np.tile(A, (6, 1)))\n",
    "print(np.tile(A, (1, 6)))\n",
    "# Repite cada elemento en una dirección dada\n",
    "print(np.repeat(A, 2))\n",
    "print(np.repeat(A.reshape(3, 2), 2, axis=0))\n",
    "# Aplana una matriz\n",
    "print(np.ravel(np.zeros(shape=(5, 5))))"
   ]
  },
  {
   "cell_type": "markdown",
   "metadata": {},
   "source": [
    "Se puede crear una matriz diagonal a partir de un vector con `diag`\n",
    "\n",
    "También sirve para extraer la diagonal de una matriz "
   ]
  },
  {
   "cell_type": "code",
   "execution_count": null,
   "metadata": {},
   "outputs": [],
   "source": [
    "A = np.arange(5)\n",
    "print(np.diag(A))\n",
    "B = np.random.randn(3, 3)\n",
    "print(B)\n",
    "print(np.diag(B))"
   ]
  },
  {
   "cell_type": "markdown",
   "metadata": {},
   "source": [
    "Trasposición de una matriz con `transpose`"
   ]
  },
  {
   "cell_type": "code",
   "execution_count": null,
   "metadata": {},
   "outputs": [],
   "source": [
    "A = np.arange(9).reshape(3, 3)\n",
    "print(A)\n",
    "print(np.transpose(A))\n",
    "print(A.T)\n",
    "A = np.arange(27).reshape(3, 3, 3)\n",
    "print(A)\n",
    "print(np.transpose(A, axes=(0, 2, 1)))  # Equivalente a: np.swapaxes(A, 2, 1)"
   ]
  },
  {
   "cell_type": "markdown",
   "metadata": {},
   "source": [
    "Operaciones para juntar dos o más arreglos: `concatenate`, `vstack`, `hstack`"
   ]
  },
  {
   "cell_type": "code",
   "execution_count": null,
   "metadata": {},
   "outputs": [],
   "source": [
    "A = np.arange(6).reshape(1, 6)\n",
    "B = np.ones(shape=(1,6))\n",
    "print(np.concatenate((A, B), axis=0))\n",
    "print(np.concatenate((A, B), axis=1))\n",
    "print(np.vstack((A, B)))\n",
    "print(np.hstack((A, B)))"
   ]
  },
  {
   "cell_type": "markdown",
   "metadata": {},
   "source": [
    "### Operaciones de reducción\n",
    "\n",
    "Tales como `sum`, `amax`, `amin`, `argmax`, `argmin`"
   ]
  },
  {
   "cell_type": "code",
   "execution_count": null,
   "metadata": {},
   "outputs": [],
   "source": [
    "A = np.tile(np.arange(3), (3, 1))\n",
    "print(A)\n",
    "print(np.sum(A, axis=0))\n",
    "print(np.sum(A, axis=1))\n",
    "print(np.sum(A))\n",
    "A = np.random.randn(3, 3)\n",
    "print(A)\n",
    "print(np.amax(A, axis=0))\n",
    "print(np.argmax(A, axis=0))"
   ]
  },
  {
   "cell_type": "markdown",
   "metadata": {},
   "source": [
    "https://www.numpy.org/devdocs/user/quickstart.html"
   ]
  },
  {
   "cell_type": "markdown",
   "metadata": {},
   "source": [
    "\n",
    "Lectura y manipulación de datos usando Numpy y Pandas\n",
    "\n",
    "Serialización\n",
    "\n",
    "Visualización de datos usando matplotlib \n",
    "\n",
    "Jupyter widgets\n",
    "\n",
    "Manteniendo un repositorio en github\n",
    "\n",
    "https://www.analyticsvidhya.com/blog/2017/01/the-most-comprehensive-data-science-learning-plan-for-2017/"
   ]
  },
  {
   "cell_type": "markdown",
   "metadata": {},
   "source": [
    "# Manejador de versiones\n",
    "\n",
    "https://happygitwithr.com/credential-caching.html\n",
    "\n",
    "https://github.com/IACS-CS-207/cs207-F18/blob/master/lectures/L02/L2.ipynb\n",
    "\n"
   ]
  }
 ],
 "metadata": {
  "kernelspec": {
   "display_name": "Python 3",
   "language": "python",
   "name": "python3"
  },
  "language_info": {
   "codemirror_mode": {
    "name": "ipython",
    "version": 3
   },
   "file_extension": ".py",
   "mimetype": "text/x-python",
   "name": "python",
   "nbconvert_exporter": "python",
   "pygments_lexer": "ipython3",
   "version": "3.7.2"
  }
 },
 "nbformat": 4,
 "nbformat_minor": 2
}
