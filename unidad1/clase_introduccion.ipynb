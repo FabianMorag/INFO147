{
 "cells": [
  {
   "cell_type": "markdown",
   "metadata": {},
   "source": [
    "*Ciencia: Scientia: Conocimiento*\n"
   ]
  },
  {
   "cell_type": "markdown",
   "metadata": {},
   "source": [
    "## ¿Qué es la Ciencia de Datos?\n",
    "\n",
    "Ciencia de (los) Datos es un término acuñado a principios de siglo para describir la disciplina científica que busca extraer conocimiento (información) a partir de datos (masivos): *Aprender de los datos*\n",
    "\n",
    "Frecuentemente se asocia a *Big Data*, término usado para describir el escenario tecnológico actual respecto a abundancia, tazas de generación y variedad de datos \n",
    "\n",
    "La ciencia de los datos es de base interdisciplinar ya que combina habilidades de \n",
    "- Ciencias de la computación: Diseñar algoritmos eficientes y escalables para procesar bases de datos \n",
    "- Matemáticas aplicadas y estadística: Diseñar modelos que caractericen y resuman los datos\n",
    "- Un cierto dominio experto: Formular preguntas científicas e intepretar las resultados en pos de responderlas\n",
    "\n",
    "\n",
    "Referencias:\n",
    "- https://en.wikipedia.org/wiki/The_Fourth_Paradigm\n",
    "- https://hbr.org/2012/10/data-scientist-the-sexiest-job-of-the-21st-century  \n",
    "- https://datascience.columbia.edu/data-science-vs-computer-science-vs-statistics"
   ]
  },
  {
   "cell_type": "markdown",
   "metadata": {},
   "source": [
    "## ¿Qué es la Computación Científica?\n",
    "\n",
    "Disciplina que busca desarrollar herramientas de matemática computacional para modelar y/o simular problemas complejos\n",
    "\n",
    "Computación científica habilita y provee herramientas para resolver problemas de ciencia de datos\n",
    "\n",
    "Suele llevar un énfasis en Computación de Alto Rendimiendo (*High Performance Computing*)\n",
    "\n",
    "En este curso aprenderemos a manejar librerías de computación científica basadas en el lenguaje de programación **Python** usando como ejemplos problemas de ciencia de datos y procesamiento de señales"
   ]
  },
  {
   "cell_type": "markdown",
   "metadata": {},
   "source": [
    "## ¿Qué es Python?\n",
    "\n",
    "Python es un lenguaje de programación interpretado y multi-paradigma liberado en 1991 y ampliamente usado en ciencia de los datos \n",
    "\n",
    "¿Por qué?\n",
    "- Enfoque en la simpleza, lo cual resulta en código más fácil de mantener y desarrollo más rápido\n",
    "- Menor curva de aprendizaje\n",
    "- Rico ecosistema de librerías abiertas para computo científico: *[Numpy](http://www.numpy.org/)*, *[Scipy](https://www.scipy.org/)*, *Pandas*, entre otras que serán estudiadas en este curso\n",
    "\n",
    "¿Y que hay del desempeño de mis algoritmos versus lenguajes de programación de más bajo nivel? \n",
    "- Trade-off entre tiempo de computo y horas hombre de programación\n",
    "- Las librerías de cómputo científico de Python están compiladas con librerías optimizadas de bajo nivel (*e.g.* BLAS, LAPACK)\n",
    "- Para una función que no está en las librerias: Integrar Python con lenguajes de bajo nivel (*e.g.* C++, Fortran)"
   ]
  },
  {
   "cell_type": "markdown",
   "metadata": {},
   "source": [
    "## ¿Python2 o Python3?"
   ]
  },
  {
   "cell_type": "markdown",
   "metadata": {},
   "source": [
    "- Python 2.7 sigue existiendo (y \"compitiendo\" con Python 3)\n",
    "- Un 95% de las librerias han sido portadas Python 3\n",
    "- Python 2 ya no se sigue desarrollando\n",
    "- En este curso usaremos **Python 3** como lenguaje oficial\n",
    "\n",
    "Referencias: \n",
    "- https://wiki.python.org/moin/Python2orPython3\n",
    "- https://python-3-for-scientists.readthedocs.io/en/latest/"
   ]
  },
  {
   "cell_type": "markdown",
   "metadata": {},
   "source": [
    "## ¿Qué es PEP 8?\n",
    "\n",
    "Python Enhancement Proposal (PEP) es una especificación técnica que busca mejorar el lenguaje Python. PEP 0 es el índice de todos los PEP existentes. \n",
    "\n",
    "El PEP 8 es una guia de buenas prácticas para formatear y escribir código en Python. El objetivo de PEP 8 es mantener un estándar que facilite la lectura de código escrito en Python\n",
    "\n",
    "Referencias: https://www.python.org/dev/peps/pep-0008/"
   ]
  },
  {
   "cell_type": "markdown",
   "metadata": {},
   "source": [
    "## ¿Qué es IPython?\n",
    "\n",
    "Interactive Python (IPython) es un interprete de Python que ofrece varias mejoras tales como autocompletación de path y modulos, acceso desde terminal a documentación y código fuente, búsqueda histórica de comandos, y las *magics* que serán vistas más adelante. \n",
    "\n",
    "IPython puede usarse desde la consola (SHELL) o como notebook mediante **jupyter**"
   ]
  },
  {
   "cell_type": "markdown",
   "metadata": {},
   "source": [
    "## ¿Qué es Jupyter?\n",
    "\n",
    "Es un ambiente interactivo basado en web. El motor de jupyter corre en un servidor (local o remoto) al cual el usuario accede a través de un browser. En nuestro caso el motor (kernel) está basado en **IPython** pero también existe jupyter para lenguajes R y Julia. \n",
    "\n",
    "El notebook puede contener código, gráficas interactivas, GUIs, texto con formato markdown, ecuaciones u otros elementos HTML (tablas, imágenes, audio, video), es decir todo un experimento autocontenido en un notebook. Esto hace de jupyter un ambiente ideal para desarrollo científico  \n",
    "\n",
    "Para desarrollar modulos o librerías de Python se puede complementar con otras IDEs tales como *[pycharm](https://www.jetbrains.com/pycharm/)* o *[Spyder](https://www.spyder-ide.org/)* o editores de texto como *[vim](https://www.vim.org/)* o *(emacs)[https://www.gnu.org/software/emacs/]*, todas estas disponibles en los repositorios de su distribución de Linux preferida"
   ]
  },
  {
   "cell_type": "markdown",
   "metadata": {},
   "source": [
    "## Modelo de capas de nuestro ambiente de trabajo:\n",
    "\n",
    "<img src=\"img/intro.svg\">"
   ]
  },
  {
   "cell_type": "markdown",
   "metadata": {},
   "source": [
    "## ¿Qué son los ambientes virtuales de Python?\n",
    "\n",
    "Imaginemos que\n",
    "- necesitamos usar una librería que funciona con una versión de Python distinta a la mi sistema operativo\n",
    "- trabajamos en varios proyectos distintos donde cada uno requiere una versión de Python distinta\n",
    "\n",
    "En estos escenarios conviene manejar uno o más ambientes virtuales. \n",
    "\n",
    "- Un ambiente virtual es un ambiente de desarrollo aislado\n",
    "- Podemos crear uno para cada proyecto en que trabajemos\n",
    "- Cada ambiente puede tener su propia versión de interprete y librerias sin entrar en conflicto \n"
   ]
  },
  {
   "cell_type": "markdown",
   "metadata": {},
   "source": [
    "## ¿Cómo instalo un ambiente de desarrollo basado en Python?\n",
    "\n",
    "\n",
    "### No quiero usar ambientes virtuales:\n",
    "- **Opción 1:** Instalar Python 3 y sus librerias desde el repositorio de tu distribución\n",
    "- **Opción 2:** Usar el manejador PIP (Pip Install Packages) para instalar paquetes de [PyPI](https://pypi.org/)\n",
    "\n",
    "### Si quiero usar ambientes virtuales (recomendado):\n",
    "- **Opción 1:** Usar Python virtualenv y el manejador PIP \n",
    "- **Opción 2:** Usar Conda (Recomendada para los que ocupan Windows)\n",
    "\n",
    "\n",
    "\n",
    "### Instalando desde tu distribución \n",
    "\n",
    "Si usas Ubuntu/Debian\n",
    "\n",
    "    sudo apt-get install python3 python3-numpy python3-matplotlib python3-scipy python3-pandas ipython3 ipython3-notebook\n",
    "\n",
    "Si usas Archlinux\n",
    "\n",
    "    sudo pacman -S python python-numpy python-matplotlib python-scipy python-pandas ipython jupyter\n",
    "    \n",
    "   \n",
    "### Usando PIP\n",
    "\n",
    "Si usas Ubuntu\n",
    "\n",
    "    sudo apt-get install python3 python3-pip\n",
    "    pip3 install numpy matplotlib scipy pandas ipython jupyter --user\n",
    "\n",
    "    \n",
    "Si usas Archlinux\n",
    "\n",
    "    sudo pacman -S python python-pip\n",
    "    pip install numpy matplotlib scipy pandas ipython jupyter --user\n",
    "    \n",
    "Comandos de PIP (pip --help)\n",
    "\n",
    "    list, search, install, uninstall, show, ...\n",
    "    \n",
    "### Usando Python virtualenv\n",
    "\n",
    "Creando y accediendo a un ambiente\n",
    "    \n",
    "    virtualenv asd\n",
    "    source asd/bin/activate\n",
    "    \n",
    "Instalando paquetes con PIP\n",
    "    \n",
    "    pip install numpy\n",
    "\n",
    "Salir de un ambiente\n",
    "    \n",
    "    deactivate\n",
    "    \n",
    "Eliminar un ambiente\n",
    "    \n",
    "    rm -r asd/\n",
    "    \n",
    "### Usando conda\n",
    "\n",
    "¿Qué es conda?\n",
    "- Es un manejador de ambientes y paquetes para Python\n",
    "- Tiene su propio repositorio\n",
    "- No requiere tener compiladores instalados\n",
    "- Es multiplataforma\n",
    "\n",
    "¿Cómo se instala?\n",
    "- Descargar instalador en https://docs.conda.io/en/latest/miniconda.html (versión 64b Python3.7)\n",
    "- Aceptar licencia y escoger directorio\n",
    "\n",
    "      sh Miniconda3-latest-Linux-x86_64.sh\n",
    "\n",
    "\n",
    "¿Cómo se accede al ambiente base?\n",
    "\n",
    "    source ...../miniconda3/etc/profile.d/conda.sh\n",
    "    conda activate\n",
    "\n",
    "¿Cómo se añade un canal?\n",
    "\n",
    "    conda config --get channels\n",
    "    conda config --add channels conda-forge\n",
    "    conda config --append channels conda-forge\n",
    "\n",
    "¿Cómo se actualiza el ambiente? \n",
    "\n",
    "    conda update --all\n",
    "\n",
    "¿Cómo se busca un paquete?\n",
    "\n",
    "    conda search numpy\n",
    "\n",
    "¿ Cómo se instala un paquete de versión y build específica?\n",
    "\n",
    "    conda install numpy=1.16.2=py37_blas_openblash1522bff_0\n",
    "\n",
    "Otros comandos de conda\n",
    "    \n",
    "    conda list/clean/uninstall/help\n",
    "\n",
    "¿Cómo se crea un nuevo ambiente?\n",
    "    \n",
    "    conda create -n nombre\n",
    "    conda activate nombre\n",
    "    \n",
    "¿Cómo se listan los ambientes?\n",
    "\n",
    "    conda env list\n",
    "\n",
    "    "
   ]
  }
 ],
 "metadata": {
  "kernelspec": {
   "display_name": "Python 3",
   "language": "python",
   "name": "python3"
  },
  "language_info": {
   "codemirror_mode": {
    "name": "ipython",
    "version": 3
   },
   "file_extension": ".py",
   "mimetype": "text/x-python",
   "name": "python",
   "nbconvert_exporter": "python",
   "pygments_lexer": "ipython3",
   "version": "3.7.2"
  }
 },
 "nbformat": 4,
 "nbformat_minor": 2
}
