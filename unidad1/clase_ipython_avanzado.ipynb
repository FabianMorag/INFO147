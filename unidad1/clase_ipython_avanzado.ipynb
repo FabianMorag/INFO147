{
 "cells": [
  {
   "cell_type": "code",
   "execution_count": null,
   "metadata": {},
   "outputs": [],
   "source": [
    "%%HTML\n",
    "<!-- Mejorar visualización en proyector -->\n",
    "<style>\n",
    ".rendered_html {font-size: 1.2em; line-height: 150%;}\n",
    "div.prompt {min-width: 0ex; padding: 0px;}\n",
    ".container {width:95% !important;}\n",
    "</style>"
   ]
  },
  {
   "cell_type": "code",
   "execution_count": null,
   "metadata": {},
   "outputs": [],
   "source": [
    "import numpy as np\n",
    "import scipy.signal\n",
    "%matplotlib notebook\n",
    "from matplotlib import animation\n",
    "import matplotlib.pyplot as plt\n",
    "\n",
    "from ipywidgets import interact, FloatSlider, IntSlider, SelectionSlider, Layout, Button, Box, Output\n",
    "\n",
    "slider_layout = Layout(width='600px', height='20px')\n",
    "slider_style = {'description_width': 'initial'}\n",
    "from functools import partial\n",
    "FloatSlider_nice = partial(FloatSlider, style=slider_style, layout=slider_layout, continuous_update=False)\n",
    "SelectionSlider_nice = partial(SelectionSlider, style=slider_style, layout=slider_layout, continuous_update=False)"
   ]
  },
  {
   "cell_type": "markdown",
   "metadata": {},
   "source": [
    "# Salida enriquecida\n",
    "\n",
    "Por defecto la última linea ejecutada en un bloque de código imprime su resultado como string\n",
    "\n",
    "¿Y si queremos mostrar más que sólo la última linea?\n",
    "\n",
    "¿Y si queremos mostrar datos que no son interpretables como strings?\n",
    "\n",
    "Podemos usar las clases y funciones de \"salida enriquecida\" del modulo [`IPython.display`](https://ipython.readthedocs.io/en/stable/api/generated/IPython.display.html)\n",
    "\n"
   ]
  },
  {
   "cell_type": "markdown",
   "metadata": {},
   "source": [
    "### Función `display`"
   ]
  },
  {
   "cell_type": "code",
   "execution_count": null,
   "metadata": {},
   "outputs": [],
   "source": [
    "from IPython.display import display"
   ]
  },
  {
   "cell_type": "markdown",
   "metadata": {},
   "source": [
    "### Objeto `Image`\n",
    "\n",
    "El objeto `Image`"
   ]
  },
  {
   "cell_type": "markdown",
   "metadata": {},
   "source": [
    "### Objeto `Audio`\n",
    "\n",
    "Proporciona un reproductor de sonido\n",
    "\n",
    "Las opciones de entrada son:\n",
    "\n",
    "1. Path a un archivo (por ejemplo `wav` o `ogg`)\n",
    "1. URL apuntando un archivo\n",
    "1. `ndarray` de una dimensión (mono), dos dimensiones (stereo) o más\n"
   ]
  },
  {
   "cell_type": "code",
   "execution_count": null,
   "metadata": {},
   "outputs": [],
   "source": [
    "from IPython.display import Audio\n",
    "\n",
    "t, dt = np.linspace(0.0, 0.5, num=20000, retstep=True); \n",
    "data1 = np.cos(2.0*np.pi*t*220 + (100/8)*np.sin(2.0*np.pi*t*8))\n",
    "data2 = scipy.signal.chirp(t, f0=5000, f1=3000, t1=t[-1], method='quadratic')\n",
    "\n",
    "display(Audio(data1, rate=1.0/dt),\n",
    "        Audio(data2, rate=1.0/dt))"
   ]
  },
  {
   "cell_type": "markdown",
   "metadata": {},
   "source": [
    "###  Objeto `Code`\n",
    "\n",
    "Muestra código fuente con sintaxis con colores\n",
    "\n",
    "La entrada puede ser un path o un string "
   ]
  },
  {
   "cell_type": "code",
   "execution_count": null,
   "metadata": {},
   "outputs": [],
   "source": [
    "from IPython.display import Code\n",
    "\n",
    "display(Code(\"import foo\\nfoo.bar()\"),\n",
    "        Code(\"script_interesante.py\"))"
   ]
  },
  {
   "cell_type": "markdown",
   "metadata": {},
   "source": [
    "### Objeto `HTML`"
   ]
  },
  {
   "cell_type": "markdown",
   "metadata": {},
   "source": [
    "# Jupyter widgets\n",
    "\n",
    "- sliders/buttons\n",
    "- audio\n",
    "- images/video"
   ]
  },
  {
   "cell_type": "code",
   "execution_count": null,
   "metadata": {},
   "outputs": [],
   "source": [
    "Nt, Nf = 1000, 200\n",
    "time = np.linspace(0, 5, num=Nt).reshape(-1, 1)\n",
    "freq = 1  + 2*np.random.rand(Nf)\n",
    "phase = np.random.randn(Nf)\n",
    "s = np.sin(2.0*np.pi*time*freq+phase)\n",
    "next_button = Button(description=\"Next\")\n",
    "fig, ax = plt.subplots(figsize=(6, 4), tight_layout=True)\n",
    "\n",
    "idx = 0\n",
    "line, = ax.plot(time, s[:, idx])\n",
    "\n",
    "def plot_features(idx):\n",
    "    ax.set_title(str(idx))\n",
    "    line.set_ydata(s[:, idx])\n",
    "\n",
    "def on_nbutton_clicked(b):\n",
    "    global idx\n",
    "    if idx < Nt:\n",
    "        idx += 1\n",
    "    plot_features(idx)\n",
    "                \n",
    "next_button.on_click(on_nbutton_clicked)\n",
    "next_button"
   ]
  },
  {
   "cell_type": "code",
   "execution_count": null,
   "metadata": {},
   "outputs": [],
   "source": [
    "plt.close('all'); fig, ax = plt.subplots(figsize=(7, 3))\n",
    "line = ax.plot(t, 2*x)\n",
    "ax.set_xticks([0, 1/f, 2/f, 3/f]); ax.set_xticklabels([\"0\", r\"$1/f_0$\", r\"$2/f_0$\", r\"$3/f_0$\"]);\n",
    "ax.set_title(r\"$\\cos(2\\pi t f_0) + A \\sin(2\\pi t k f_0)$\")\n",
    "\n",
    "f = 1.51518\n",
    "t = np.linspace(0, 3/f, num=500); x = np.cos(2.0*np.pi*f*t)\n",
    "\n",
    "\n",
    "update = lambda k, A: line[0].set_ydata(x + A*np.sin(2.0*np.pi*t*f*k))\n",
    "interact(update, k=SelectionSlider_nice(options=[1, 2, 3, 4, 5, 6]), \n",
    "         A=FloatSlider_nice(min=0.5, max=1.0, value=0.5));"
   ]
  },
  {
   "cell_type": "code",
   "execution_count": null,
   "metadata": {},
   "outputs": [],
   "source": [
    "plt.close('all'); fig, ax = plt.subplots(2, figsize=(7, 4))\n",
    "t = np.arange(-4, 4, step=1e-2)\n",
    "\n",
    "def square_pulse(t, a=0, T=1):\n",
    "    s = np.zeros(shape=t.shape)\n",
    "    s[np.absolute(t-a)<T] = 0.5 + 0.5*(t[np.absolute(t-a)<T]-a)/T \n",
    "    return s\n",
    "lap_pulse = lambda t, a=0, s=1 : np.exp(-np.absolute(t-a)/s)\n",
    "conv_s = np.convolve(square_pulse(t), lap_pulse(t), mode='same')\n",
    "\n",
    "def update(a = 0): \n",
    "    ax[0].cla(); ax[1].cla()\n",
    "    p1, p2 = square_pulse(t, 0.1*a - 4), lap_pulse(t)\n",
    "    ax[0].plot(t, p2); ax[0].plot(t, p1); \n",
    "    ax[0].fill_between(t, 0, p1*p2, alpha=0.5)\n",
    "    ax[1].plot(t, conv_s[::-1]); ax[1].scatter(0.1*a -4, np.sum(p1*p2), s=100, c='k')\n",
    "    \n",
    "anim = animation.FuncAnimation(fig, update, frames=80, interval=100, blit=True)"
   ]
  },
  {
   "cell_type": "code",
   "execution_count": null,
   "metadata": {},
   "outputs": [],
   "source": [
    "# Ref: https://ipython-books.github.io/117-creating-a-sound-synthesizer-in-the-notebook/\n",
    "duration, sample_rate = .25, 44000.\n",
    "t = np.linspace(0., duration, int(sample_rate*duration))\n",
    "synth = lambda f: np.sin(2. * np.pi * f * t)\n",
    "notes = 'C,C#,D,D#,E,F,F#,G,G#,A,A#,B,C'.split(',')\n",
    "freqs = 440. * 2**(np.arange(3, 3 + len(notes)) / 12.)\n",
    "buttons, layout_synth = [], Layout(width='40px', height='60px', border='1px solid black')\n",
    "for note, freq in zip(notes, freqs):\n",
    "    button = Button(description=note, layout=layout_synth)\n",
    "    def on_button_clicked(f, b):\n",
    "        with Output(): # suppress the audio widget output \n",
    "            display(Audio(synth(f), rate=sample_rate, autoplay=True))\n",
    "    button.on_click(partial(on_button_clicked, freq))\n",
    "    buttons.append(button)\n",
    "Box(children=buttons)"
   ]
  },
  {
   "cell_type": "markdown",
   "metadata": {},
   "source": [
    "### Para el futuro\n",
    "\n",
    "- [Binder](https://mybinder.org/)"
   ]
  }
 ],
 "metadata": {
  "kernelspec": {
   "display_name": "Python 3",
   "language": "python",
   "name": "python3"
  },
  "language_info": {
   "codemirror_mode": {
    "name": "ipython",
    "version": 3
   },
   "file_extension": ".py",
   "mimetype": "text/x-python",
   "name": "python",
   "nbconvert_exporter": "python",
   "pygments_lexer": "ipython3",
   "version": "3.7.3"
  }
 },
 "nbformat": 4,
 "nbformat_minor": 2
}
