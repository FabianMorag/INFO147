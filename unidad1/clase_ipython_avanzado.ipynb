{
 "cells": [
  {
   "cell_type": "code",
   "execution_count": null,
   "metadata": {},
   "outputs": [],
   "source": [
    "%%HTML\n",
    "<!-- Mejorar visualización en proyector -->\n",
    "<style>\n",
    ".rendered_html {font-size: 1.2em; line-height: 150%;}\n",
    "div.prompt {min-width: 0ex; padding: 0px;}\n",
    ".container {width:95% !important;}\n",
    "</style>"
   ]
  },
  {
   "cell_type": "code",
   "execution_count": null,
   "metadata": {},
   "outputs": [],
   "source": [
    "import numpy as np\n",
    "import scipy.signal\n",
    "%matplotlib notebook\n",
    "import matplotlib.pyplot as plt"
   ]
  },
  {
   "cell_type": "markdown",
   "metadata": {},
   "source": [
    "# Salida enriquecida\n",
    "\n",
    "Por defecto la última linea ejecutada en un bloque de código imprime su resultado como string\n",
    "\n",
    "¿Y si queremos mostrar más que sólo la última linea?\n",
    "\n",
    "¿Y si queremos mostrar datos que no son interpretables como strings?\n",
    "\n",
    "Podemos usar las clases y funciones de \"salida enriquecida\" del modulo [`IPython.display`](https://ipython.readthedocs.io/en/stable/api/generated/IPython.display.html)\n",
    "\n"
   ]
  },
  {
   "cell_type": "markdown",
   "metadata": {},
   "source": [
    "### Función `display`\n",
    "\n",
    "Esta función puede usarse para pedir explicitamente que un \"objeto\" sea rendereado \n",
    "\n",
    "A diferencia de `print` puede usarse con los demás objetos de `IPython.display`"
   ]
  },
  {
   "cell_type": "code",
   "execution_count": null,
   "metadata": {},
   "outputs": [],
   "source": [
    "from IPython.display import display\n",
    "a = np.array(range(2))\n",
    "display(a)\n",
    "b = np.exp(-a**2)\n",
    "display(-a**2, b)\n",
    "np.sum(b)"
   ]
  },
  {
   "cell_type": "markdown",
   "metadata": {},
   "source": [
    "### Objeto `Image`\n",
    "\n",
    "Visualiza una imagen\n",
    "\n",
    "Las opciones de entrada son\n",
    "\n",
    "1. Path a una imagen local (PNG, JPG, GIF)\n",
    "1. URL a una imagen remota\n",
    "1. Datos crudos de una imagen (bytes)"
   ]
  },
  {
   "cell_type": "code",
   "execution_count": null,
   "metadata": {},
   "outputs": [],
   "source": [
    "a = (np.arange(100).reshape(10, 10)*(255./100)).astype('uint8')\n",
    "fig, ax = plt.subplots(figsize=(4, 4))\n",
    "ax.matshow(a); ax.axis('off')\n",
    "fig.savefig('matrix.JPG')"
   ]
  },
  {
   "cell_type": "code",
   "execution_count": null,
   "metadata": {},
   "outputs": [],
   "source": [
    "from IPython.display import Image\n",
    "display(Image(filename=\"matrix.JPG\"))"
   ]
  },
  {
   "cell_type": "markdown",
   "metadata": {},
   "source": [
    "### Alternativa: [`Pillow`](https://pillow.readthedocs.io/en/stable/)\n",
    "\n",
    "La librería de manipulación de imágenes `Pillow` es compatible con jupyter y renderea directo con `display`"
   ]
  },
  {
   "cell_type": "code",
   "execution_count": null,
   "metadata": {
    "scrolled": false
   },
   "outputs": [],
   "source": [
    "import PIL\n",
    "img = PIL.Image.open(\"matrix.JPG\")\n",
    "display(img)"
   ]
  },
  {
   "cell_type": "markdown",
   "metadata": {},
   "source": [
    "### Objeto `Audio`\n",
    "\n",
    "Proporciona un reproductor de sonido\n",
    "\n",
    "Las opciones de entrada son:\n",
    "\n",
    "1. Path a un archivo (por ejemplo `wav` o `ogg`)\n",
    "1. URL apuntando un archivo\n",
    "1. `ndarray` de una dimensión (mono), dos dimensiones (stereo) o más\n"
   ]
  },
  {
   "cell_type": "code",
   "execution_count": null,
   "metadata": {},
   "outputs": [],
   "source": [
    "from IPython.display import Audio\n",
    "\n",
    "t, dt = np.linspace(0.0, 0.5, num=20000, retstep=True); \n",
    "modulacion = np.cos(2.0*np.pi*t*220 + (100/8)*np.sin(2.0*np.pi*t*8))\n",
    "pajarillo = scipy.signal.chirp(t, f0=5000, f1=3000, t1=t[-1], method='quadratic')\n",
    "\n",
    "display(Audio(modulacion, rate=1.0/dt),\n",
    "        Audio(pajarillo, rate=1.0/dt))"
   ]
  },
  {
   "cell_type": "markdown",
   "metadata": {},
   "source": [
    "###  Objeto `Code`\n",
    "\n",
    "Muestra código fuente con sintaxis con colores\n",
    "\n",
    "La entrada puede ser un path o un string "
   ]
  },
  {
   "cell_type": "code",
   "execution_count": null,
   "metadata": {},
   "outputs": [],
   "source": [
    "from IPython.display import Code\n",
    "\n",
    "display(Code(\"import foo\\nfoo.bar()\"),\n",
    "        Code(\"script_interesante.py\"))"
   ]
  },
  {
   "cell_type": "markdown",
   "metadata": {},
   "source": [
    "### Objeto `HTML`\n",
    "\n",
    "Renderea código escrito en HTML\n",
    "\n",
    "La entrada puede ser un archivo local, una URL o un string"
   ]
  },
  {
   "cell_type": "code",
   "execution_count": null,
   "metadata": {},
   "outputs": [],
   "source": [
    "from IPython.display import HTML\n",
    "\n",
    "display(HTML(\"<p style=\\\"font-size:200%;text-align:center;font-family:serif;color:red;\\\">foo</p>\"),\n",
    "        HTML(\"<table><tr><td>a</td><td>b</td></tr><tr><td>b</td><td>c</td></tr></table\"))"
   ]
  },
  {
   "cell_type": "markdown",
   "metadata": {},
   "source": [
    "### Objeto `ProgressBar`\n",
    "\n",
    "Crea una barra de progreso que puede actualizarse"
   ]
  },
  {
   "cell_type": "code",
   "execution_count": null,
   "metadata": {},
   "outputs": [],
   "source": [
    "from IPython.display import ProgressBar\n",
    "import time\n",
    "\n",
    "p = ProgressBar(total=100)\n",
    "p.display()\n",
    "\n",
    "for i in range(101):\n",
    "    p.progress = i\n",
    "    time.sleep(0.01)"
   ]
  },
  {
   "cell_type": "markdown",
   "metadata": {},
   "source": [
    "### Alternativa: [`TQDM`](https://github.com/tqdm/tqdm)\n",
    "\n",
    "Barra de progreso que además te indica el tiempo por iteración y tiempo estante\n",
    "\n",
    "Recibe un iterable como entrada\n",
    "\n",
    "Funciona en notebook (`tqdm_notebook`) y en CLI (`tqdm`)"
   ]
  },
  {
   "cell_type": "code",
   "execution_count": null,
   "metadata": {},
   "outputs": [],
   "source": [
    "!pip install tqdm --user"
   ]
  },
  {
   "cell_type": "code",
   "execution_count": null,
   "metadata": {},
   "outputs": [],
   "source": [
    "from tqdm import tqdm_notebook\n",
    "\n",
    "for i in tqdm_notebook(range(100)):\n",
    "    time.sleep(0.01)"
   ]
  },
  {
   "cell_type": "markdown",
   "metadata": {},
   "source": [
    "### Objeto `Video`\n",
    "\n",
    "Crea un reproductor para un archivo, URL o stream de datos crudos (Bytes)\n",
    "\n",
    "Existen también los objetos `YouTubeVideo` y `VimeoVideo` para embeber videos de estas plataformas"
   ]
  },
  {
   "cell_type": "code",
   "execution_count": null,
   "metadata": {},
   "outputs": [],
   "source": [
    "from IPython.display import YouTubeVideo\n",
    "\n",
    "vid = YouTubeVideo(\"ywWBy6J5gz8\")\n",
    "display(vid)"
   ]
  },
  {
   "cell_type": "markdown",
   "metadata": {},
   "source": [
    "# [Jupyter Widgets](https://ipywidgets.readthedocs.io/en/stable/)\n",
    "\n",
    "\n",
    "### ¿Cómo se instala?\n",
    "Instalación con `conda`\n",
    "\n",
    "    conda install -c conda-forge ipywidgets\n",
    "    \n",
    "Instalación con `pip`\n",
    "\n",
    "    pip install ipywidgets --user\n",
    "    jupyter nbextension enable --py widgetsnbextension\n",
    "    \n",
    "### ¿Qué son?\n",
    "Los objetos de `ipywidgets` son interfaces de control que funcionan en base a eventos. Por ejemplo\n",
    "- Botones e interruptores\n",
    "- Deslizadores (*sliders*)\n",
    "- Listas desplegables (*combo-box*)\n",
    "- Campos de texto\n",
    "- Menues y pestañas\n",
    "\n",
    "Con ellas se pueden crear interfaces gráficas dentro del notebook\n",
    "\n",
    "### ¿Cómo se ocupan?\n",
    "Podemos crearlos de forma semi-automática con el **decorador** `interact`"
   ]
  },
  {
   "cell_type": "code",
   "execution_count": null,
   "metadata": {},
   "outputs": [],
   "source": [
    "import ipywidgets as widgets\n",
    "\n",
    "# Se crea un widget por cada argumento de la función\n",
    "@widgets.interact(x=(0, 10))\n",
    "def print_cosas(x=0, y=0., z=True, w=['foo','bar'], v='foo'): \n",
    "    display(x, y, z)"
   ]
  },
  {
   "cell_type": "markdown",
   "metadata": {},
   "source": [
    "Para mayor control podemos crearlos manualmente con la **función** `interact` y con los objetos correspondientes\n",
    "\n",
    "- La lista de objetos [*widget*](https://ipywidgets.readthedocs.io/en/stable/examples/Widget%20List.html#Container/Layout-widgets)\n",
    "    - Numéricos: `IntSlider`, `FloatSlider`, `IntRangeSlider`, `FloatRangeSlider`, ...\n",
    "    - Booleanos: `ToggleButton`, `CheckBox`, `Valid`\n",
    "    - Selección: `Dropdown`, `Select`, `RadioButtons`, `SelectionSlider`, ...\n",
    "    - Texto: `Text`, `Textarea`, `Label`\n",
    "    - Contenedores: `HBox`, `VBox`, `Tabs`, `Accordion`\n",
    "    - Otros: `Image`, `Output`, `Play`, `DatePicker`, `ColorPicker`\n",
    "    \n",
    "- El objeto [`Layout`](https://ipywidgets.readthedocs.io/en/stable/examples/Widget%20Styling.html) sirve para dar estilo a los *widgets*\n",
    "\n",
    "\n",
    "Por ejemplo:"
   ]
  },
  {
   "cell_type": "code",
   "execution_count": null,
   "metadata": {},
   "outputs": [],
   "source": [
    "slider_layout = widgets.Layout(width='600px', height='20px')\n",
    "slider_style = {'description_width': 'initial'}\n",
    "\n",
    "def mi_funcion(x): # x es la salida del widget, en este caso una tupla\n",
    "    display(x[0], x[1], x[1] - x[0])\n",
    "\n",
    "range_slider = widgets.FloatRangeSlider(min=-100., max=100., step=0.01, \n",
    "                                        continuous_update=True, \n",
    "                                        description=r'Un argumento muy interesante:',\n",
    "                                        layout=slider_layout, style=slider_style)\n",
    "widgets.interact(mi_funcion, x=range_slider);"
   ]
  },
  {
   "cell_type": "markdown",
   "metadata": {},
   "source": [
    "Los atributos del *widget* creado:"
   ]
  },
  {
   "cell_type": "code",
   "execution_count": null,
   "metadata": {},
   "outputs": [],
   "source": [
    "range_slider.keys"
   ]
  },
  {
   "cell_type": "markdown",
   "metadata": {},
   "source": [
    "Luego podemos acceder al valor del *widget* usando"
   ]
  },
  {
   "cell_type": "code",
   "execution_count": null,
   "metadata": {},
   "outputs": [],
   "source": [
    "range_slider.value"
   ]
  },
  {
   "cell_type": "markdown",
   "metadata": {},
   "source": [
    "Podemos unir varios *widgets* usando contenedores"
   ]
  },
  {
   "cell_type": "code",
   "execution_count": null,
   "metadata": {},
   "outputs": [],
   "source": [
    "insert_name = widgets.Text(description='Escribir tu nombre', style=slider_style)\n",
    "push_data = widgets.Button(description='Enviar')\n",
    "# Los contenedores reciben una lista de widgets (se pueden anidar contenedores)\n",
    "#display(insert_name, push_data)\n",
    "widgets.HBox([insert_name, push_data])"
   ]
  },
  {
   "cell_type": "markdown",
   "metadata": {},
   "source": [
    "### Eventos\n",
    "\n",
    "Podemos usar botones para capturar eventos con el atributo `on_click`"
   ]
  },
  {
   "cell_type": "code",
   "execution_count": null,
   "metadata": {},
   "outputs": [],
   "source": [
    "push_data.on_click(lambda x: print(insert_name.value, x))"
   ]
  },
  {
   "cell_type": "markdown",
   "metadata": {},
   "source": [
    "Podemos reaccionar ante los cambios de un widget usando el atributo `observe`\n",
    "\n",
    "Este atributo espera una función con formato específico"
   ]
  },
  {
   "cell_type": "code",
   "execution_count": null,
   "metadata": {},
   "outputs": [],
   "source": [
    "def on_change(change):\n",
    "    # display(change.keys())\n",
    "    display(\"Hola {0}, Chao {1}\".format(change['new'], change['old']))       \n",
    "\n",
    "sel_slider = widgets.Dropdown(description=\"Nombre:\", options=[\"Pablo\", \"Sebastián\", \"Enrique\"])\n",
    "\n",
    "display(sel_slider)\n",
    "sel_slider.observe(on_change, names='value')"
   ]
  },
  {
   "cell_type": "markdown",
   "metadata": {},
   "source": [
    "### Output widget\n",
    "\n",
    "Este widget se puede usar para redireccionar las salidas de otros widgets"
   ]
  },
  {
   "cell_type": "code",
   "execution_count": null,
   "metadata": {},
   "outputs": [],
   "source": [
    "out = widgets.Output(layout={'border': '1px solid black'})\n",
    "display(out)"
   ]
  },
  {
   "cell_type": "code",
   "execution_count": null,
   "metadata": {},
   "outputs": [],
   "source": [
    "with out:\n",
    "    display(\"Hola\")"
   ]
  },
  {
   "cell_type": "code",
   "execution_count": null,
   "metadata": {},
   "outputs": [],
   "source": [
    "def on_change(button):\n",
    "    with out:\n",
    "        display(insert_name.value)\n",
    "\n",
    "push_data.on_click(on_change)"
   ]
  },
  {
   "cell_type": "markdown",
   "metadata": {},
   "source": [
    "### Ejemplo: Galería de gráficas matplotlib"
   ]
  },
  {
   "cell_type": "code",
   "execution_count": null,
   "metadata": {},
   "outputs": [],
   "source": [
    "# Data\n",
    "Nt, Nf = 1000, 200\n",
    "time = np.linspace(0, 5, num=Nt).reshape(-1, 1)\n",
    "freq = 5*np.random.rand(Nf)\n",
    "phase = np.pi*np.random.randn(Nf)\n",
    "s = np.sin(2.0*np.pi*time*freq+phase)\n",
    "# Gráfica\n",
    "fig, ax = plt.subplots(figsize=(6, 3), tight_layout=True)\n",
    "idx = 0\n",
    "line, = ax.plot(time, s[:, idx]); ax.set_title(str(idx))\n",
    "def plot_features(idx):\n",
    "    ax.set_title(str(idx))\n",
    "    line.set_ydata(s[:, idx])\n",
    "# GUI\n",
    "prev_button = widgets.Button(description=\"Anterior\")\n",
    "next_button = widgets.Button(description=\"Siguiente\")\n",
    "\n",
    "def on_button_clicked(b):\n",
    "    global idx\n",
    "    if b.description == \"Siguiente\":\n",
    "        if idx < Nt:\n",
    "            idx += 1\n",
    "    else:\n",
    "        if idx > 0:\n",
    "            idx -= 1\n",
    "    plot_features(idx)\n",
    "                \n",
    "next_button.on_click(on_button_clicked)\n",
    "prev_button.on_click(on_button_clicked)\n",
    "display(widgets.HBox([prev_button, next_button]))"
   ]
  },
  {
   "cell_type": "code",
   "execution_count": null,
   "metadata": {},
   "outputs": [],
   "source": [
    "f = 1.5\n",
    "twopift = 2.0*np.pi*f*np.linspace(0, 3/f, num=500); \n",
    "\n",
    "fig, ax = plt.subplots(figsize=(7, 3))\n",
    "ax.set_xticks([0, 1/f, 2/f, 3/f]); \n",
    "ax.set_xticklabels([\"0\", r\"$1/f_0$\", r\"$2/f_0$\", r\"$3/f_0$\"]);\n",
    "line = ax.plot(t, 3*np.cos(twopift))\n",
    "\n",
    "A = [widgets.FloatSlider(description=r'$A_{0}$'.format(i), min=0.0, max=1.0, step=0.01, value=0.0) for i in range(3)]\n",
    "update = lambda A0, A1, A2: line[0].set_ydata(A0*np.cos(twopift) + A1*np.cos(2*twopift) + A2*np.cos(3*twopift))\n",
    "widgets.interact(update, A0=A[0], A1=A[1], A2=A[2]);"
   ]
  },
  {
   "cell_type": "markdown",
   "metadata": {},
   "source": [
    "### Ejemplos: Animación con controles"
   ]
  },
  {
   "cell_type": "code",
   "execution_count": null,
   "metadata": {},
   "outputs": [],
   "source": [
    "fig, ax = plt.subplots(2, figsize=(7, 4))\n",
    "t = np.arange(-4, 4, step=1e-2)\n",
    "\n",
    "def triangular_pulse(t, a=0, T=1):\n",
    "    s = np.zeros(shape=t.shape)\n",
    "    s[np.absolute(t-a)<T] = 0.5 + 0.5*(t[np.absolute(t-a)<T]-a)/T \n",
    "    return s\n",
    "\n",
    "lap_pulse = lambda t, a=0, s=1 : np.exp(-np.absolute(t-a)/s)\n",
    "conv_s = np.convolve(square_pulse(t), lap_pulse(t), mode='same')\n",
    "\n",
    "def update_plot(widget): \n",
    "    a = widget['new']\n",
    "    ax[0].cla(); ax[1].cla()\n",
    "    p1, p2 = triangular_pulse(t, 0.1*a - 4), lap_pulse(t)\n",
    "    ax[0].plot(t, p2); ax[0].plot(t, p1); \n",
    "    ax[0].fill_between(t, 0, p1*p2, alpha=0.5)\n",
    "    ax[1].plot(t, conv_s[::-1]); \n",
    "    ax[1].scatter(0.1*a -4, np.sum(p1*p2), s=100, c='k')\n",
    "\n",
    "play = widgets.Play(value=0, min=0, max=80, step=1, description=\"Correr animación\")\n",
    "play.observe(update_plot, names='value')\n",
    "display(play)"
   ]
  },
  {
   "cell_type": "markdown",
   "metadata": {},
   "source": [
    "### Ejemplo: Piano "
   ]
  },
  {
   "cell_type": "code",
   "execution_count": null,
   "metadata": {
    "scrolled": true
   },
   "outputs": [],
   "source": [
    "# Ref: https://ipython-books.github.io/117-creating-a-sound-synthesizer-in-the-notebook/\n",
    "from functools import partial\n",
    "from IPython.display import Audio\n",
    "\n",
    "duration, sample_rate = .4, 44000.\n",
    "notes = 'C,C#,D,D#,E,F,F#,G,G#,A,A#,B,C'.split(',')\n",
    "freqs = 440. * 2**(np.arange(3, 3 + len(notes)) / 12.)\n",
    "time = np.linspace(0., duration, int(sample_rate*duration))\n",
    "sampler = lambda freq: np.sin(2. * np.pi * freq * time)*(0.5+0.5*np.cos(np.pi*time/duration))\n",
    "\n",
    "layout_synth = widgets.Layout(width='20px', height='80px', border='1px solid black')\n",
    "style_synth_white = {'button_color': 'white'}\n",
    "style_synth_black = {'button_color': 'black'}\n",
    "buttons = []\n",
    "for note, freq in zip(notes, freqs):\n",
    "    button = widgets.Button(layout=layout_synth)\n",
    "    if \"#\" in note:\n",
    "        button.style = style_synth_black\n",
    "    else:\n",
    "        button.style = style_synth_white    \n",
    "    def on_button_clicked(b, f):\n",
    "        with widgets.Output(): # suppress the audio widget output \n",
    "            display(Audio(sampler(f), rate=sample_rate, autoplay=True))\n",
    "    button.on_click(partial(on_button_clicked, f=freq))\n",
    "    buttons.append(button)\n",
    "\n",
    "display(widgets.Box(children=buttons))"
   ]
  },
  {
   "cell_type": "markdown",
   "metadata": {},
   "source": [
    "### Ejemplo: Leyendo una película frame a frame"
   ]
  },
  {
   "cell_type": "code",
   "execution_count": null,
   "metadata": {},
   "outputs": [],
   "source": [
    "import cv2, PIL, io, time\n",
    "from IPython.display import Image\n",
    "\n",
    "vid = cv2.VideoCapture('magister.mp4')\n",
    "width, height = vid.get(cv2.CAP_PROP_FRAME_WIDTH), vid.get(cv2.CAP_PROP_FRAME_HEIGHT)\n",
    "wout = widgets.Image(layout=widgets.Layout(height=\"{0}px\".format(height/2), width=\"{0}px\".format(width/2)))\n",
    "display(wout)\n",
    "X, Y = np.meshgrid(np.arange(width), np.arange(height))\n",
    "#breathing = np.concatenate([np.linspace(0, -30, num=10), np.linspace(-30, 0, num=10)])\n",
    "#k = 0\n",
    "while True:\n",
    "    successfully_read, frame = vid.read()\n",
    "    if not successfully_read:\n",
    "        break\n",
    "    frame = cv2.cvtColor(frame, cv2.COLOR_BGR2RGB)   \n",
    "    #a = width/2 + breathing[k]\n",
    "    #b = height/2 + breathing[k]\n",
    "    #mask = (X - width/2)**2/a**2 + (Y - height/2)**2/b**2 > 1\n",
    "    #frame[mask] = [255, 255, 255]\n",
    "    f = io.BytesIO() \n",
    "    PIL.Image.fromarray(frame).save(f, 'JPEG')\n",
    "    wout.value = f.getvalue()\n",
    "    time.sleep(0.03)\n",
    "    #k = k+1 if k < len(breathing)-1 else 0\n"
   ]
  },
  {
   "cell_type": "markdown",
   "metadata": {},
   "source": [
    "### Extras\n",
    "- [Widgets asíncronos](https://ipywidgets.readthedocs.io/en/stable/examples/Widget%20Asynchronous.html)\n",
    "- [Escribir tus propios widgets](https://ipywidgets.readthedocs.io/en/stable/examples/Widget%20Custom.html) y otro [más ](https://ipython-books.github.io/34-creating-custom-jupyter-notebook-widgets-in-python-html-and-javascript/)\n",
    "- Publicar notebooks interactivos con [Binder](https://mybinder.org/)"
   ]
  },
  {
   "cell_type": "code",
   "execution_count": null,
   "metadata": {},
   "outputs": [],
   "source": []
  }
 ],
 "metadata": {
  "kernelspec": {
   "display_name": "Python 3",
   "language": "python",
   "name": "python3"
  },
  "language_info": {
   "codemirror_mode": {
    "name": "ipython",
    "version": 3
   },
   "file_extension": ".py",
   "mimetype": "text/x-python",
   "name": "python",
   "nbconvert_exporter": "python",
   "pygments_lexer": "ipython3",
   "version": "3.7.3"
  }
 },
 "nbformat": 4,
 "nbformat_minor": 2
}
