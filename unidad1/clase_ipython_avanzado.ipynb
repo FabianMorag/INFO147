{
 "cells": [
  {
   "cell_type": "code",
   "execution_count": 1,
   "metadata": {},
   "outputs": [
    {
     "data": {
      "text/html": [
       "<!-- Mejorar visualización en proyector -->\n",
       "<style>\n",
       ".rendered_html {font-size: 1.2em; line-height: 150%;}\n",
       "div.prompt {min-width: 0ex; padding: 0px;}\n",
       ".container {width:95% !important;}\n",
       "</style>\n"
      ],
      "text/plain": [
       "<IPython.core.display.HTML object>"
      ]
     },
     "metadata": {},
     "output_type": "display_data"
    }
   ],
   "source": [
    "%%HTML\n",
    "<!-- Mejorar visualización en proyector -->\n",
    "<style>\n",
    ".rendered_html {font-size: 1.2em; line-height: 150%;}\n",
    "div.prompt {min-width: 0ex; padding: 0px;}\n",
    ".container {width:95% !important;}\n",
    "</style>"
   ]
  },
  {
   "cell_type": "code",
   "execution_count": 2,
   "metadata": {},
   "outputs": [],
   "source": [
    "import numpy as np\n",
    "import scipy.signal\n",
    "%matplotlib notebook\n",
    "import matplotlib.pyplot as plt\n",
    "%autosave 0"
   ]
  },
  {
   "cell_type": "markdown",
   "metadata": {},
   "source": [
    "# Salida enriquecida\n",
    "\n",
    "Por defecto la última linea ejecutada en un bloque de código imprime su resultado como string\n",
    "\n",
    "¿Y si queremos mostrar más que sólo la última linea?\n",
    "\n",
    "¿Y si queremos mostrar datos que no son interpretables como strings?\n",
    "\n",
    "Podemos usar las clases y funciones de \"salida enriquecida\" del modulo [`IPython.display`](https://ipython.readthedocs.io/en/stable/api/generated/IPython.display.html)\n",
    "\n"
   ]
  },
  {
   "cell_type": "markdown",
   "metadata": {},
   "source": [
    "### Función `display`\n",
    "\n",
    "Esta función puede usarse para pedir explicitamente que un \"objeto\" sea rendereado \n",
    "\n",
    "A diferencia de `print` puede usarse con los demás objetos de `IPython.display`"
   ]
  },
  {
   "cell_type": "code",
   "execution_count": 3,
   "metadata": {},
   "outputs": [
    {
     "data": {
      "text/plain": [
       "array([0, 1])"
      ]
     },
     "metadata": {},
     "output_type": "display_data"
    },
    {
     "data": {
      "text/plain": [
       "array([ 0, -1])"
      ]
     },
     "metadata": {},
     "output_type": "display_data"
    },
    {
     "data": {
      "text/plain": [
       "array([1.        , 0.36787944])"
      ]
     },
     "metadata": {},
     "output_type": "display_data"
    },
    {
     "data": {
      "text/plain": [
       "1.3678794411714423"
      ]
     },
     "execution_count": 3,
     "metadata": {},
     "output_type": "execute_result"
    }
   ],
   "source": [
    "from IPython.display import display\n",
    "a = np.array(range(2))\n",
    "display(a)\n",
    "b = np.exp(-a**2)\n",
    "display(-a**2, b)\n",
    "np.sum(b)"
   ]
  },
  {
   "cell_type": "markdown",
   "metadata": {},
   "source": [
    "### Objeto `Image`\n",
    "\n",
    "Visualiza una imagen\n",
    "\n",
    "Las opciones de entrada son\n",
    "\n",
    "1. Path a una imagen local (PNG, JPG, GIF)\n",
    "1. URL a una imagen remota\n",
    "1. Datos crudos de una imagen (bytes)"
   ]
  },
  {
   "cell_type": "code",
   "execution_count": 4,
   "metadata": {},
   "outputs": [
    {
     "data": {
      "application/javascript": [
       "/* Put everything inside the global mpl namespace */\n",
       "window.mpl = {};\n",
       "\n",
       "\n",
       "mpl.get_websocket_type = function() {\n",
       "    if (typeof(WebSocket) !== 'undefined') {\n",
       "        return WebSocket;\n",
       "    } else if (typeof(MozWebSocket) !== 'undefined') {\n",
       "        return MozWebSocket;\n",
       "    } else {\n",
       "        alert('Your browser does not have WebSocket support.' +\n",
       "              'Please try Chrome, Safari or Firefox ≥ 6. ' +\n",
       "              'Firefox 4 and 5 are also supported but you ' +\n",
       "              'have to enable WebSockets in about:config.');\n",
       "    };\n",
       "}\n",
       "\n",
       "mpl.figure = function(figure_id, websocket, ondownload, parent_element) {\n",
       "    this.id = figure_id;\n",
       "\n",
       "    this.ws = websocket;\n",
       "\n",
       "    this.supports_binary = (this.ws.binaryType != undefined);\n",
       "\n",
       "    if (!this.supports_binary) {\n",
       "        var warnings = document.getElementById(\"mpl-warnings\");\n",
       "        if (warnings) {\n",
       "            warnings.style.display = 'block';\n",
       "            warnings.textContent = (\n",
       "                \"This browser does not support binary websocket messages. \" +\n",
       "                    \"Performance may be slow.\");\n",
       "        }\n",
       "    }\n",
       "\n",
       "    this.imageObj = new Image();\n",
       "\n",
       "    this.context = undefined;\n",
       "    this.message = undefined;\n",
       "    this.canvas = undefined;\n",
       "    this.rubberband_canvas = undefined;\n",
       "    this.rubberband_context = undefined;\n",
       "    this.format_dropdown = undefined;\n",
       "\n",
       "    this.image_mode = 'full';\n",
       "\n",
       "    this.root = $('<div/>');\n",
       "    this._root_extra_style(this.root)\n",
       "    this.root.attr('style', 'display: inline-block');\n",
       "\n",
       "    $(parent_element).append(this.root);\n",
       "\n",
       "    this._init_header(this);\n",
       "    this._init_canvas(this);\n",
       "    this._init_toolbar(this);\n",
       "\n",
       "    var fig = this;\n",
       "\n",
       "    this.waiting = false;\n",
       "\n",
       "    this.ws.onopen =  function () {\n",
       "            fig.send_message(\"supports_binary\", {value: fig.supports_binary});\n",
       "            fig.send_message(\"send_image_mode\", {});\n",
       "            if (mpl.ratio != 1) {\n",
       "                fig.send_message(\"set_dpi_ratio\", {'dpi_ratio': mpl.ratio});\n",
       "            }\n",
       "            fig.send_message(\"refresh\", {});\n",
       "        }\n",
       "\n",
       "    this.imageObj.onload = function() {\n",
       "            if (fig.image_mode == 'full') {\n",
       "                // Full images could contain transparency (where diff images\n",
       "                // almost always do), so we need to clear the canvas so that\n",
       "                // there is no ghosting.\n",
       "                fig.context.clearRect(0, 0, fig.canvas.width, fig.canvas.height);\n",
       "            }\n",
       "            fig.context.drawImage(fig.imageObj, 0, 0);\n",
       "        };\n",
       "\n",
       "    this.imageObj.onunload = function() {\n",
       "        fig.ws.close();\n",
       "    }\n",
       "\n",
       "    this.ws.onmessage = this._make_on_message_function(this);\n",
       "\n",
       "    this.ondownload = ondownload;\n",
       "}\n",
       "\n",
       "mpl.figure.prototype._init_header = function() {\n",
       "    var titlebar = $(\n",
       "        '<div class=\"ui-dialog-titlebar ui-widget-header ui-corner-all ' +\n",
       "        'ui-helper-clearfix\"/>');\n",
       "    var titletext = $(\n",
       "        '<div class=\"ui-dialog-title\" style=\"width: 100%; ' +\n",
       "        'text-align: center; padding: 3px;\"/>');\n",
       "    titlebar.append(titletext)\n",
       "    this.root.append(titlebar);\n",
       "    this.header = titletext[0];\n",
       "}\n",
       "\n",
       "\n",
       "\n",
       "mpl.figure.prototype._canvas_extra_style = function(canvas_div) {\n",
       "\n",
       "}\n",
       "\n",
       "\n",
       "mpl.figure.prototype._root_extra_style = function(canvas_div) {\n",
       "\n",
       "}\n",
       "\n",
       "mpl.figure.prototype._init_canvas = function() {\n",
       "    var fig = this;\n",
       "\n",
       "    var canvas_div = $('<div/>');\n",
       "\n",
       "    canvas_div.attr('style', 'position: relative; clear: both; outline: 0');\n",
       "\n",
       "    function canvas_keyboard_event(event) {\n",
       "        return fig.key_event(event, event['data']);\n",
       "    }\n",
       "\n",
       "    canvas_div.keydown('key_press', canvas_keyboard_event);\n",
       "    canvas_div.keyup('key_release', canvas_keyboard_event);\n",
       "    this.canvas_div = canvas_div\n",
       "    this._canvas_extra_style(canvas_div)\n",
       "    this.root.append(canvas_div);\n",
       "\n",
       "    var canvas = $('<canvas/>');\n",
       "    canvas.addClass('mpl-canvas');\n",
       "    canvas.attr('style', \"left: 0; top: 0; z-index: 0; outline: 0\")\n",
       "\n",
       "    this.canvas = canvas[0];\n",
       "    this.context = canvas[0].getContext(\"2d\");\n",
       "\n",
       "    var backingStore = this.context.backingStorePixelRatio ||\n",
       "\tthis.context.webkitBackingStorePixelRatio ||\n",
       "\tthis.context.mozBackingStorePixelRatio ||\n",
       "\tthis.context.msBackingStorePixelRatio ||\n",
       "\tthis.context.oBackingStorePixelRatio ||\n",
       "\tthis.context.backingStorePixelRatio || 1;\n",
       "\n",
       "    mpl.ratio = (window.devicePixelRatio || 1) / backingStore;\n",
       "\n",
       "    var rubberband = $('<canvas/>');\n",
       "    rubberband.attr('style', \"position: absolute; left: 0; top: 0; z-index: 1;\")\n",
       "\n",
       "    var pass_mouse_events = true;\n",
       "\n",
       "    canvas_div.resizable({\n",
       "        start: function(event, ui) {\n",
       "            pass_mouse_events = false;\n",
       "        },\n",
       "        resize: function(event, ui) {\n",
       "            fig.request_resize(ui.size.width, ui.size.height);\n",
       "        },\n",
       "        stop: function(event, ui) {\n",
       "            pass_mouse_events = true;\n",
       "            fig.request_resize(ui.size.width, ui.size.height);\n",
       "        },\n",
       "    });\n",
       "\n",
       "    function mouse_event_fn(event) {\n",
       "        if (pass_mouse_events)\n",
       "            return fig.mouse_event(event, event['data']);\n",
       "    }\n",
       "\n",
       "    rubberband.mousedown('button_press', mouse_event_fn);\n",
       "    rubberband.mouseup('button_release', mouse_event_fn);\n",
       "    // Throttle sequential mouse events to 1 every 20ms.\n",
       "    rubberband.mousemove('motion_notify', mouse_event_fn);\n",
       "\n",
       "    rubberband.mouseenter('figure_enter', mouse_event_fn);\n",
       "    rubberband.mouseleave('figure_leave', mouse_event_fn);\n",
       "\n",
       "    canvas_div.on(\"wheel\", function (event) {\n",
       "        event = event.originalEvent;\n",
       "        event['data'] = 'scroll'\n",
       "        if (event.deltaY < 0) {\n",
       "            event.step = 1;\n",
       "        } else {\n",
       "            event.step = -1;\n",
       "        }\n",
       "        mouse_event_fn(event);\n",
       "    });\n",
       "\n",
       "    canvas_div.append(canvas);\n",
       "    canvas_div.append(rubberband);\n",
       "\n",
       "    this.rubberband = rubberband;\n",
       "    this.rubberband_canvas = rubberband[0];\n",
       "    this.rubberband_context = rubberband[0].getContext(\"2d\");\n",
       "    this.rubberband_context.strokeStyle = \"#000000\";\n",
       "\n",
       "    this._resize_canvas = function(width, height) {\n",
       "        // Keep the size of the canvas, canvas container, and rubber band\n",
       "        // canvas in synch.\n",
       "        canvas_div.css('width', width)\n",
       "        canvas_div.css('height', height)\n",
       "\n",
       "        canvas.attr('width', width * mpl.ratio);\n",
       "        canvas.attr('height', height * mpl.ratio);\n",
       "        canvas.attr('style', 'width: ' + width + 'px; height: ' + height + 'px;');\n",
       "\n",
       "        rubberband.attr('width', width);\n",
       "        rubberband.attr('height', height);\n",
       "    }\n",
       "\n",
       "    // Set the figure to an initial 600x600px, this will subsequently be updated\n",
       "    // upon first draw.\n",
       "    this._resize_canvas(600, 600);\n",
       "\n",
       "    // Disable right mouse context menu.\n",
       "    $(this.rubberband_canvas).bind(\"contextmenu\",function(e){\n",
       "        return false;\n",
       "    });\n",
       "\n",
       "    function set_focus () {\n",
       "        canvas.focus();\n",
       "        canvas_div.focus();\n",
       "    }\n",
       "\n",
       "    window.setTimeout(set_focus, 100);\n",
       "}\n",
       "\n",
       "mpl.figure.prototype._init_toolbar = function() {\n",
       "    var fig = this;\n",
       "\n",
       "    var nav_element = $('<div/>')\n",
       "    nav_element.attr('style', 'width: 100%');\n",
       "    this.root.append(nav_element);\n",
       "\n",
       "    // Define a callback function for later on.\n",
       "    function toolbar_event(event) {\n",
       "        return fig.toolbar_button_onclick(event['data']);\n",
       "    }\n",
       "    function toolbar_mouse_event(event) {\n",
       "        return fig.toolbar_button_onmouseover(event['data']);\n",
       "    }\n",
       "\n",
       "    for(var toolbar_ind in mpl.toolbar_items) {\n",
       "        var name = mpl.toolbar_items[toolbar_ind][0];\n",
       "        var tooltip = mpl.toolbar_items[toolbar_ind][1];\n",
       "        var image = mpl.toolbar_items[toolbar_ind][2];\n",
       "        var method_name = mpl.toolbar_items[toolbar_ind][3];\n",
       "\n",
       "        if (!name) {\n",
       "            // put a spacer in here.\n",
       "            continue;\n",
       "        }\n",
       "        var button = $('<button/>');\n",
       "        button.addClass('ui-button ui-widget ui-state-default ui-corner-all ' +\n",
       "                        'ui-button-icon-only');\n",
       "        button.attr('role', 'button');\n",
       "        button.attr('aria-disabled', 'false');\n",
       "        button.click(method_name, toolbar_event);\n",
       "        button.mouseover(tooltip, toolbar_mouse_event);\n",
       "\n",
       "        var icon_img = $('<span/>');\n",
       "        icon_img.addClass('ui-button-icon-primary ui-icon');\n",
       "        icon_img.addClass(image);\n",
       "        icon_img.addClass('ui-corner-all');\n",
       "\n",
       "        var tooltip_span = $('<span/>');\n",
       "        tooltip_span.addClass('ui-button-text');\n",
       "        tooltip_span.html(tooltip);\n",
       "\n",
       "        button.append(icon_img);\n",
       "        button.append(tooltip_span);\n",
       "\n",
       "        nav_element.append(button);\n",
       "    }\n",
       "\n",
       "    var fmt_picker_span = $('<span/>');\n",
       "\n",
       "    var fmt_picker = $('<select/>');\n",
       "    fmt_picker.addClass('mpl-toolbar-option ui-widget ui-widget-content');\n",
       "    fmt_picker_span.append(fmt_picker);\n",
       "    nav_element.append(fmt_picker_span);\n",
       "    this.format_dropdown = fmt_picker[0];\n",
       "\n",
       "    for (var ind in mpl.extensions) {\n",
       "        var fmt = mpl.extensions[ind];\n",
       "        var option = $(\n",
       "            '<option/>', {selected: fmt === mpl.default_extension}).html(fmt);\n",
       "        fmt_picker.append(option)\n",
       "    }\n",
       "\n",
       "    // Add hover states to the ui-buttons\n",
       "    $( \".ui-button\" ).hover(\n",
       "        function() { $(this).addClass(\"ui-state-hover\");},\n",
       "        function() { $(this).removeClass(\"ui-state-hover\");}\n",
       "    );\n",
       "\n",
       "    var status_bar = $('<span class=\"mpl-message\"/>');\n",
       "    nav_element.append(status_bar);\n",
       "    this.message = status_bar[0];\n",
       "}\n",
       "\n",
       "mpl.figure.prototype.request_resize = function(x_pixels, y_pixels) {\n",
       "    // Request matplotlib to resize the figure. Matplotlib will then trigger a resize in the client,\n",
       "    // which will in turn request a refresh of the image.\n",
       "    this.send_message('resize', {'width': x_pixels, 'height': y_pixels});\n",
       "}\n",
       "\n",
       "mpl.figure.prototype.send_message = function(type, properties) {\n",
       "    properties['type'] = type;\n",
       "    properties['figure_id'] = this.id;\n",
       "    this.ws.send(JSON.stringify(properties));\n",
       "}\n",
       "\n",
       "mpl.figure.prototype.send_draw_message = function() {\n",
       "    if (!this.waiting) {\n",
       "        this.waiting = true;\n",
       "        this.ws.send(JSON.stringify({type: \"draw\", figure_id: this.id}));\n",
       "    }\n",
       "}\n",
       "\n",
       "\n",
       "mpl.figure.prototype.handle_save = function(fig, msg) {\n",
       "    var format_dropdown = fig.format_dropdown;\n",
       "    var format = format_dropdown.options[format_dropdown.selectedIndex].value;\n",
       "    fig.ondownload(fig, format);\n",
       "}\n",
       "\n",
       "\n",
       "mpl.figure.prototype.handle_resize = function(fig, msg) {\n",
       "    var size = msg['size'];\n",
       "    if (size[0] != fig.canvas.width || size[1] != fig.canvas.height) {\n",
       "        fig._resize_canvas(size[0], size[1]);\n",
       "        fig.send_message(\"refresh\", {});\n",
       "    };\n",
       "}\n",
       "\n",
       "mpl.figure.prototype.handle_rubberband = function(fig, msg) {\n",
       "    var x0 = msg['x0'] / mpl.ratio;\n",
       "    var y0 = (fig.canvas.height - msg['y0']) / mpl.ratio;\n",
       "    var x1 = msg['x1'] / mpl.ratio;\n",
       "    var y1 = (fig.canvas.height - msg['y1']) / mpl.ratio;\n",
       "    x0 = Math.floor(x0) + 0.5;\n",
       "    y0 = Math.floor(y0) + 0.5;\n",
       "    x1 = Math.floor(x1) + 0.5;\n",
       "    y1 = Math.floor(y1) + 0.5;\n",
       "    var min_x = Math.min(x0, x1);\n",
       "    var min_y = Math.min(y0, y1);\n",
       "    var width = Math.abs(x1 - x0);\n",
       "    var height = Math.abs(y1 - y0);\n",
       "\n",
       "    fig.rubberband_context.clearRect(\n",
       "        0, 0, fig.canvas.width, fig.canvas.height);\n",
       "\n",
       "    fig.rubberband_context.strokeRect(min_x, min_y, width, height);\n",
       "}\n",
       "\n",
       "mpl.figure.prototype.handle_figure_label = function(fig, msg) {\n",
       "    // Updates the figure title.\n",
       "    fig.header.textContent = msg['label'];\n",
       "}\n",
       "\n",
       "mpl.figure.prototype.handle_cursor = function(fig, msg) {\n",
       "    var cursor = msg['cursor'];\n",
       "    switch(cursor)\n",
       "    {\n",
       "    case 0:\n",
       "        cursor = 'pointer';\n",
       "        break;\n",
       "    case 1:\n",
       "        cursor = 'default';\n",
       "        break;\n",
       "    case 2:\n",
       "        cursor = 'crosshair';\n",
       "        break;\n",
       "    case 3:\n",
       "        cursor = 'move';\n",
       "        break;\n",
       "    }\n",
       "    fig.rubberband_canvas.style.cursor = cursor;\n",
       "}\n",
       "\n",
       "mpl.figure.prototype.handle_message = function(fig, msg) {\n",
       "    fig.message.textContent = msg['message'];\n",
       "}\n",
       "\n",
       "mpl.figure.prototype.handle_draw = function(fig, msg) {\n",
       "    // Request the server to send over a new figure.\n",
       "    fig.send_draw_message();\n",
       "}\n",
       "\n",
       "mpl.figure.prototype.handle_image_mode = function(fig, msg) {\n",
       "    fig.image_mode = msg['mode'];\n",
       "}\n",
       "\n",
       "mpl.figure.prototype.updated_canvas_event = function() {\n",
       "    // Called whenever the canvas gets updated.\n",
       "    this.send_message(\"ack\", {});\n",
       "}\n",
       "\n",
       "// A function to construct a web socket function for onmessage handling.\n",
       "// Called in the figure constructor.\n",
       "mpl.figure.prototype._make_on_message_function = function(fig) {\n",
       "    return function socket_on_message(evt) {\n",
       "        if (evt.data instanceof Blob) {\n",
       "            /* FIXME: We get \"Resource interpreted as Image but\n",
       "             * transferred with MIME type text/plain:\" errors on\n",
       "             * Chrome.  But how to set the MIME type?  It doesn't seem\n",
       "             * to be part of the websocket stream */\n",
       "            evt.data.type = \"image/png\";\n",
       "\n",
       "            /* Free the memory for the previous frames */\n",
       "            if (fig.imageObj.src) {\n",
       "                (window.URL || window.webkitURL).revokeObjectURL(\n",
       "                    fig.imageObj.src);\n",
       "            }\n",
       "\n",
       "            fig.imageObj.src = (window.URL || window.webkitURL).createObjectURL(\n",
       "                evt.data);\n",
       "            fig.updated_canvas_event();\n",
       "            fig.waiting = false;\n",
       "            return;\n",
       "        }\n",
       "        else if (typeof evt.data === 'string' && evt.data.slice(0, 21) == \"data:image/png;base64\") {\n",
       "            fig.imageObj.src = evt.data;\n",
       "            fig.updated_canvas_event();\n",
       "            fig.waiting = false;\n",
       "            return;\n",
       "        }\n",
       "\n",
       "        var msg = JSON.parse(evt.data);\n",
       "        var msg_type = msg['type'];\n",
       "\n",
       "        // Call the  \"handle_{type}\" callback, which takes\n",
       "        // the figure and JSON message as its only arguments.\n",
       "        try {\n",
       "            var callback = fig[\"handle_\" + msg_type];\n",
       "        } catch (e) {\n",
       "            console.log(\"No handler for the '\" + msg_type + \"' message type: \", msg);\n",
       "            return;\n",
       "        }\n",
       "\n",
       "        if (callback) {\n",
       "            try {\n",
       "                // console.log(\"Handling '\" + msg_type + \"' message: \", msg);\n",
       "                callback(fig, msg);\n",
       "            } catch (e) {\n",
       "                console.log(\"Exception inside the 'handler_\" + msg_type + \"' callback:\", e, e.stack, msg);\n",
       "            }\n",
       "        }\n",
       "    };\n",
       "}\n",
       "\n",
       "// from http://stackoverflow.com/questions/1114465/getting-mouse-location-in-canvas\n",
       "mpl.findpos = function(e) {\n",
       "    //this section is from http://www.quirksmode.org/js/events_properties.html\n",
       "    var targ;\n",
       "    if (!e)\n",
       "        e = window.event;\n",
       "    if (e.target)\n",
       "        targ = e.target;\n",
       "    else if (e.srcElement)\n",
       "        targ = e.srcElement;\n",
       "    if (targ.nodeType == 3) // defeat Safari bug\n",
       "        targ = targ.parentNode;\n",
       "\n",
       "    // jQuery normalizes the pageX and pageY\n",
       "    // pageX,Y are the mouse positions relative to the document\n",
       "    // offset() returns the position of the element relative to the document\n",
       "    var x = e.pageX - $(targ).offset().left;\n",
       "    var y = e.pageY - $(targ).offset().top;\n",
       "\n",
       "    return {\"x\": x, \"y\": y};\n",
       "};\n",
       "\n",
       "/*\n",
       " * return a copy of an object with only non-object keys\n",
       " * we need this to avoid circular references\n",
       " * http://stackoverflow.com/a/24161582/3208463\n",
       " */\n",
       "function simpleKeys (original) {\n",
       "  return Object.keys(original).reduce(function (obj, key) {\n",
       "    if (typeof original[key] !== 'object')\n",
       "        obj[key] = original[key]\n",
       "    return obj;\n",
       "  }, {});\n",
       "}\n",
       "\n",
       "mpl.figure.prototype.mouse_event = function(event, name) {\n",
       "    var canvas_pos = mpl.findpos(event)\n",
       "\n",
       "    if (name === 'button_press')\n",
       "    {\n",
       "        this.canvas.focus();\n",
       "        this.canvas_div.focus();\n",
       "    }\n",
       "\n",
       "    var x = canvas_pos.x * mpl.ratio;\n",
       "    var y = canvas_pos.y * mpl.ratio;\n",
       "\n",
       "    this.send_message(name, {x: x, y: y, button: event.button,\n",
       "                             step: event.step,\n",
       "                             guiEvent: simpleKeys(event)});\n",
       "\n",
       "    /* This prevents the web browser from automatically changing to\n",
       "     * the text insertion cursor when the button is pressed.  We want\n",
       "     * to control all of the cursor setting manually through the\n",
       "     * 'cursor' event from matplotlib */\n",
       "    event.preventDefault();\n",
       "    return false;\n",
       "}\n",
       "\n",
       "mpl.figure.prototype._key_event_extra = function(event, name) {\n",
       "    // Handle any extra behaviour associated with a key event\n",
       "}\n",
       "\n",
       "mpl.figure.prototype.key_event = function(event, name) {\n",
       "\n",
       "    // Prevent repeat events\n",
       "    if (name == 'key_press')\n",
       "    {\n",
       "        if (event.which === this._key)\n",
       "            return;\n",
       "        else\n",
       "            this._key = event.which;\n",
       "    }\n",
       "    if (name == 'key_release')\n",
       "        this._key = null;\n",
       "\n",
       "    var value = '';\n",
       "    if (event.ctrlKey && event.which != 17)\n",
       "        value += \"ctrl+\";\n",
       "    if (event.altKey && event.which != 18)\n",
       "        value += \"alt+\";\n",
       "    if (event.shiftKey && event.which != 16)\n",
       "        value += \"shift+\";\n",
       "\n",
       "    value += 'k';\n",
       "    value += event.which.toString();\n",
       "\n",
       "    this._key_event_extra(event, name);\n",
       "\n",
       "    this.send_message(name, {key: value,\n",
       "                             guiEvent: simpleKeys(event)});\n",
       "    return false;\n",
       "}\n",
       "\n",
       "mpl.figure.prototype.toolbar_button_onclick = function(name) {\n",
       "    if (name == 'download') {\n",
       "        this.handle_save(this, null);\n",
       "    } else {\n",
       "        this.send_message(\"toolbar_button\", {name: name});\n",
       "    }\n",
       "};\n",
       "\n",
       "mpl.figure.prototype.toolbar_button_onmouseover = function(tooltip) {\n",
       "    this.message.textContent = tooltip;\n",
       "};\n",
       "mpl.toolbar_items = [[\"Home\", \"Reset original view\", \"fa fa-home icon-home\", \"home\"], [\"Back\", \"Back to previous view\", \"fa fa-arrow-left icon-arrow-left\", \"back\"], [\"Forward\", \"Forward to next view\", \"fa fa-arrow-right icon-arrow-right\", \"forward\"], [\"\", \"\", \"\", \"\"], [\"Pan\", \"Pan axes with left mouse, zoom with right\", \"fa fa-arrows icon-move\", \"pan\"], [\"Zoom\", \"Zoom to rectangle\", \"fa fa-square-o icon-check-empty\", \"zoom\"], [\"\", \"\", \"\", \"\"], [\"Download\", \"Download plot\", \"fa fa-floppy-o icon-save\", \"download\"]];\n",
       "\n",
       "mpl.extensions = [\"eps\", \"jpeg\", \"pdf\", \"png\", \"ps\", \"raw\", \"svg\", \"tif\"];\n",
       "\n",
       "mpl.default_extension = \"png\";var comm_websocket_adapter = function(comm) {\n",
       "    // Create a \"websocket\"-like object which calls the given IPython comm\n",
       "    // object with the appropriate methods. Currently this is a non binary\n",
       "    // socket, so there is still some room for performance tuning.\n",
       "    var ws = {};\n",
       "\n",
       "    ws.close = function() {\n",
       "        comm.close()\n",
       "    };\n",
       "    ws.send = function(m) {\n",
       "        //console.log('sending', m);\n",
       "        comm.send(m);\n",
       "    };\n",
       "    // Register the callback with on_msg.\n",
       "    comm.on_msg(function(msg) {\n",
       "        //console.log('receiving', msg['content']['data'], msg);\n",
       "        // Pass the mpl event to the overridden (by mpl) onmessage function.\n",
       "        ws.onmessage(msg['content']['data'])\n",
       "    });\n",
       "    return ws;\n",
       "}\n",
       "\n",
       "mpl.mpl_figure_comm = function(comm, msg) {\n",
       "    // This is the function which gets called when the mpl process\n",
       "    // starts-up an IPython Comm through the \"matplotlib\" channel.\n",
       "\n",
       "    var id = msg.content.data.id;\n",
       "    // Get hold of the div created by the display call when the Comm\n",
       "    // socket was opened in Python.\n",
       "    var element = $(\"#\" + id);\n",
       "    var ws_proxy = comm_websocket_adapter(comm)\n",
       "\n",
       "    function ondownload(figure, format) {\n",
       "        window.open(figure.imageObj.src);\n",
       "    }\n",
       "\n",
       "    var fig = new mpl.figure(id, ws_proxy,\n",
       "                           ondownload,\n",
       "                           element.get(0));\n",
       "\n",
       "    // Call onopen now - mpl needs it, as it is assuming we've passed it a real\n",
       "    // web socket which is closed, not our websocket->open comm proxy.\n",
       "    ws_proxy.onopen();\n",
       "\n",
       "    fig.parent_element = element.get(0);\n",
       "    fig.cell_info = mpl.find_output_cell(\"<div id='\" + id + \"'></div>\");\n",
       "    if (!fig.cell_info) {\n",
       "        console.error(\"Failed to find cell for figure\", id, fig);\n",
       "        return;\n",
       "    }\n",
       "\n",
       "    var output_index = fig.cell_info[2]\n",
       "    var cell = fig.cell_info[0];\n",
       "\n",
       "};\n",
       "\n",
       "mpl.figure.prototype.handle_close = function(fig, msg) {\n",
       "    var width = fig.canvas.width/mpl.ratio\n",
       "    fig.root.unbind('remove')\n",
       "\n",
       "    // Update the output cell to use the data from the current canvas.\n",
       "    fig.push_to_output();\n",
       "    var dataURL = fig.canvas.toDataURL();\n",
       "    // Re-enable the keyboard manager in IPython - without this line, in FF,\n",
       "    // the notebook keyboard shortcuts fail.\n",
       "    IPython.keyboard_manager.enable()\n",
       "    $(fig.parent_element).html('<img src=\"' + dataURL + '\" width=\"' + width + '\">');\n",
       "    fig.close_ws(fig, msg);\n",
       "}\n",
       "\n",
       "mpl.figure.prototype.close_ws = function(fig, msg){\n",
       "    fig.send_message('closing', msg);\n",
       "    // fig.ws.close()\n",
       "}\n",
       "\n",
       "mpl.figure.prototype.push_to_output = function(remove_interactive) {\n",
       "    // Turn the data on the canvas into data in the output cell.\n",
       "    var width = this.canvas.width/mpl.ratio\n",
       "    var dataURL = this.canvas.toDataURL();\n",
       "    this.cell_info[1]['text/html'] = '<img src=\"' + dataURL + '\" width=\"' + width + '\">';\n",
       "}\n",
       "\n",
       "mpl.figure.prototype.updated_canvas_event = function() {\n",
       "    // Tell IPython that the notebook contents must change.\n",
       "    IPython.notebook.set_dirty(true);\n",
       "    this.send_message(\"ack\", {});\n",
       "    var fig = this;\n",
       "    // Wait a second, then push the new image to the DOM so\n",
       "    // that it is saved nicely (might be nice to debounce this).\n",
       "    setTimeout(function () { fig.push_to_output() }, 1000);\n",
       "}\n",
       "\n",
       "mpl.figure.prototype._init_toolbar = function() {\n",
       "    var fig = this;\n",
       "\n",
       "    var nav_element = $('<div/>')\n",
       "    nav_element.attr('style', 'width: 100%');\n",
       "    this.root.append(nav_element);\n",
       "\n",
       "    // Define a callback function for later on.\n",
       "    function toolbar_event(event) {\n",
       "        return fig.toolbar_button_onclick(event['data']);\n",
       "    }\n",
       "    function toolbar_mouse_event(event) {\n",
       "        return fig.toolbar_button_onmouseover(event['data']);\n",
       "    }\n",
       "\n",
       "    for(var toolbar_ind in mpl.toolbar_items){\n",
       "        var name = mpl.toolbar_items[toolbar_ind][0];\n",
       "        var tooltip = mpl.toolbar_items[toolbar_ind][1];\n",
       "        var image = mpl.toolbar_items[toolbar_ind][2];\n",
       "        var method_name = mpl.toolbar_items[toolbar_ind][3];\n",
       "\n",
       "        if (!name) { continue; };\n",
       "\n",
       "        var button = $('<button class=\"btn btn-default\" href=\"#\" title=\"' + name + '\"><i class=\"fa ' + image + ' fa-lg\"></i></button>');\n",
       "        button.click(method_name, toolbar_event);\n",
       "        button.mouseover(tooltip, toolbar_mouse_event);\n",
       "        nav_element.append(button);\n",
       "    }\n",
       "\n",
       "    // Add the status bar.\n",
       "    var status_bar = $('<span class=\"mpl-message\" style=\"text-align:right; float: right;\"/>');\n",
       "    nav_element.append(status_bar);\n",
       "    this.message = status_bar[0];\n",
       "\n",
       "    // Add the close button to the window.\n",
       "    var buttongrp = $('<div class=\"btn-group inline pull-right\"></div>');\n",
       "    var button = $('<button class=\"btn btn-mini btn-primary\" href=\"#\" title=\"Stop Interaction\"><i class=\"fa fa-power-off icon-remove icon-large\"></i></button>');\n",
       "    button.click(function (evt) { fig.handle_close(fig, {}); } );\n",
       "    button.mouseover('Stop Interaction', toolbar_mouse_event);\n",
       "    buttongrp.append(button);\n",
       "    var titlebar = this.root.find($('.ui-dialog-titlebar'));\n",
       "    titlebar.prepend(buttongrp);\n",
       "}\n",
       "\n",
       "mpl.figure.prototype._root_extra_style = function(el){\n",
       "    var fig = this\n",
       "    el.on(\"remove\", function(){\n",
       "\tfig.close_ws(fig, {});\n",
       "    });\n",
       "}\n",
       "\n",
       "mpl.figure.prototype._canvas_extra_style = function(el){\n",
       "    // this is important to make the div 'focusable\n",
       "    el.attr('tabindex', 0)\n",
       "    // reach out to IPython and tell the keyboard manager to turn it's self\n",
       "    // off when our div gets focus\n",
       "\n",
       "    // location in version 3\n",
       "    if (IPython.notebook.keyboard_manager) {\n",
       "        IPython.notebook.keyboard_manager.register_events(el);\n",
       "    }\n",
       "    else {\n",
       "        // location in version 2\n",
       "        IPython.keyboard_manager.register_events(el);\n",
       "    }\n",
       "\n",
       "}\n",
       "\n",
       "mpl.figure.prototype._key_event_extra = function(event, name) {\n",
       "    var manager = IPython.notebook.keyboard_manager;\n",
       "    if (!manager)\n",
       "        manager = IPython.keyboard_manager;\n",
       "\n",
       "    // Check for shift+enter\n",
       "    if (event.shiftKey && event.which == 13) {\n",
       "        this.canvas_div.blur();\n",
       "        event.shiftKey = false;\n",
       "        // Send a \"J\" for go to next cell\n",
       "        event.which = 74;\n",
       "        event.keyCode = 74;\n",
       "        manager.command_mode();\n",
       "        manager.handle_keydown(event);\n",
       "    }\n",
       "}\n",
       "\n",
       "mpl.figure.prototype.handle_save = function(fig, msg) {\n",
       "    fig.ondownload(fig, null);\n",
       "}\n",
       "\n",
       "\n",
       "mpl.find_output_cell = function(html_output) {\n",
       "    // Return the cell and output element which can be found *uniquely* in the notebook.\n",
       "    // Note - this is a bit hacky, but it is done because the \"notebook_saving.Notebook\"\n",
       "    // IPython event is triggered only after the cells have been serialised, which for\n",
       "    // our purposes (turning an active figure into a static one), is too late.\n",
       "    var cells = IPython.notebook.get_cells();\n",
       "    var ncells = cells.length;\n",
       "    for (var i=0; i<ncells; i++) {\n",
       "        var cell = cells[i];\n",
       "        if (cell.cell_type === 'code'){\n",
       "            for (var j=0; j<cell.output_area.outputs.length; j++) {\n",
       "                var data = cell.output_area.outputs[j];\n",
       "                if (data.data) {\n",
       "                    // IPython >= 3 moved mimebundle to data attribute of output\n",
       "                    data = data.data;\n",
       "                }\n",
       "                if (data['text/html'] == html_output) {\n",
       "                    return [cell, data, j];\n",
       "                }\n",
       "            }\n",
       "        }\n",
       "    }\n",
       "}\n",
       "\n",
       "// Register the function which deals with the matplotlib target/channel.\n",
       "// The kernel may be null if the page has been refreshed.\n",
       "if (IPython.notebook.kernel != null) {\n",
       "    IPython.notebook.kernel.comm_manager.register_target('matplotlib', mpl.mpl_figure_comm);\n",
       "}\n"
      ],
      "text/plain": [
       "<IPython.core.display.Javascript object>"
      ]
     },
     "metadata": {},
     "output_type": "display_data"
    },
    {
     "data": {
      "text/html": [
       "<div id='3645ef92-7a7f-4023-9724-21244248e2f3'></div>"
      ],
      "text/plain": [
       "<IPython.core.display.HTML object>"
      ]
     },
     "metadata": {},
     "output_type": "display_data"
    }
   ],
   "source": [
    "a = (np.arange(100).reshape(10, 10)*(255./100)).astype('uint8')\n",
    "fig, ax = plt.subplots(figsize=(4, 4))\n",
    "ax.matshow(a); ax.axis('off')\n",
    "fig.savefig('matrix.JPG')"
   ]
  },
  {
   "cell_type": "code",
   "execution_count": 5,
   "metadata": {},
   "outputs": [
    {
     "data": {
      "image/jpeg": "[encoded data removed]",
      "text/plain": [
       "<IPython.core.display.Image object>"
      ]
     },
     "metadata": {},
     "output_type": "display_data"
    }
   ],
   "source": [
    "from IPython.display import Image\n",
    "display(Image(filename=\"matrix.JPG\"))"
   ]
  },
  {
   "cell_type": "markdown",
   "metadata": {},
   "source": [
    "### Alternativa: [`Pillow`](https://pillow.readthedocs.io/en/stable/)\n",
    "\n",
    "La librería de manipulación de imágenes `Pillow` es compatible con jupyter y renderea directo con `display`"
   ]
  },
  {
   "cell_type": "code",
   "execution_count": 6,
   "metadata": {
    "scrolled": false
   },
   "outputs": [
    {
     "data": {
      "image/png": "[encoded data removed]",
      "text/plain": [
       "<PIL.JpegImagePlugin.JpegImageFile image mode=RGB size=400x400 at 0x7F5A3E0C3DD8>"
      ]
     },
     "metadata": {},
     "output_type": "display_data"
    }
   ],
   "source": [
    "import PIL\n",
    "img = PIL.Image.open(\"matrix.JPG\")\n",
    "display(img)"
   ]
  },
  {
   "cell_type": "markdown",
   "metadata": {},
   "source": [
    "### Objeto `Audio`\n",
    "\n",
    "Proporciona un reproductor de sonido\n",
    "\n",
    "Las opciones de entrada son:\n",
    "\n",
    "1. Path a un archivo (por ejemplo `wav` o `ogg`)\n",
    "1. URL apuntando un archivo\n",
    "1. `ndarray` de una dimensión (mono), dos dimensiones (stereo) o más\n"
   ]
  },
  {
   "cell_type": "code",
   "execution_count": 7,
   "metadata": {},
   "outputs": [
    {
     "data": {
      "text/html": [
       "\n",
       "                <audio controls=\"controls\" >\n",
       "                    <source src=\"data:audio/wav;base64,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\" type=\"audio/wav\" />\n",
       "                    Your browser does not support the audio element.\n",
       "                </audio>\n",
       "              "
      ],
      "text/plain": [
       "<IPython.lib.display.Audio object>"
      ]
     },
     "metadata": {},
     "output_type": "display_data"
    },
    {
     "data": {
      "text/html": [
       "\n",
       "                <audio controls=\"controls\" >\n",
       "                    <source src=\"data:audio/wav;base64,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\" type=\"audio/wav\" />\n",
       "                    Your browser does not support the audio element.\n",
       "                </audio>\n",
       "              "
      ],
      "text/plain": [
       "<IPython.lib.display.Audio object>"
      ]
     },
     "metadata": {},
     "output_type": "display_data"
    }
   ],
   "source": [
    "from IPython.display import Audio\n",
    "\n",
    "t, dt = np.linspace(0.0, 0.5, num=20000, retstep=True); \n",
    "modulacion = np.cos(2.0*np.pi*t*220 + (100/8)*np.sin(2.0*np.pi*t*8))\n",
    "pajarillo = scipy.signal.chirp(t, f0=5000, f1=3000, t1=t[-1], method='quadratic')\n",
    "\n",
    "display(Audio(modulacion, rate=1.0/dt),\n",
    "        Audio(pajarillo, rate=1.0/dt))"
   ]
  },
  {
   "cell_type": "markdown",
   "metadata": {},
   "source": [
    "###  Objeto `Code`\n",
    "\n",
    "Muestra código fuente con sintaxis con colores\n",
    "\n",
    "La entrada puede ser un path o un string "
   ]
  },
  {
   "cell_type": "code",
   "execution_count": 8,
   "metadata": {},
   "outputs": [
    {
     "data": {
      "text/html": [
       "<style>.output_html .hll { background-color: #ffffcc }\n",
       ".output_html  { background: #f8f8f8; }\n",
       ".output_html .c { color: #408080; font-style: italic } /* Comment */\n",
       ".output_html .err { border: 1px solid #FF0000 } /* Error */\n",
       ".output_html .k { color: #008000; font-weight: bold } /* Keyword */\n",
       ".output_html .o { color: #666666 } /* Operator */\n",
       ".output_html .ch { color: #408080; font-style: italic } /* Comment.Hashbang */\n",
       ".output_html .cm { color: #408080; font-style: italic } /* Comment.Multiline */\n",
       ".output_html .cp { color: #BC7A00 } /* Comment.Preproc */\n",
       ".output_html .cpf { color: #408080; font-style: italic } /* Comment.PreprocFile */\n",
       ".output_html .c1 { color: #408080; font-style: italic } /* Comment.Single */\n",
       ".output_html .cs { color: #408080; font-style: italic } /* Comment.Special */\n",
       ".output_html .gd { color: #A00000 } /* Generic.Deleted */\n",
       ".output_html .ge { font-style: italic } /* Generic.Emph */\n",
       ".output_html .gr { color: #FF0000 } /* Generic.Error */\n",
       ".output_html .gh { color: #000080; font-weight: bold } /* Generic.Heading */\n",
       ".output_html .gi { color: #00A000 } /* Generic.Inserted */\n",
       ".output_html .go { color: #888888 } /* Generic.Output */\n",
       ".output_html .gp { color: #000080; font-weight: bold } /* Generic.Prompt */\n",
       ".output_html .gs { font-weight: bold } /* Generic.Strong */\n",
       ".output_html .gu { color: #800080; font-weight: bold } /* Generic.Subheading */\n",
       ".output_html .gt { color: #0044DD } /* Generic.Traceback */\n",
       ".output_html .kc { color: #008000; font-weight: bold } /* Keyword.Constant */\n",
       ".output_html .kd { color: #008000; font-weight: bold } /* Keyword.Declaration */\n",
       ".output_html .kn { color: #008000; font-weight: bold } /* Keyword.Namespace */\n",
       ".output_html .kp { color: #008000 } /* Keyword.Pseudo */\n",
       ".output_html .kr { color: #008000; font-weight: bold } /* Keyword.Reserved */\n",
       ".output_html .kt { color: #B00040 } /* Keyword.Type */\n",
       ".output_html .m { color: #666666 } /* Literal.Number */\n",
       ".output_html .s { color: #BA2121 } /* Literal.String */\n",
       ".output_html .na { color: #7D9029 } /* Name.Attribute */\n",
       ".output_html .nb { color: #008000 } /* Name.Builtin */\n",
       ".output_html .nc { color: #0000FF; font-weight: bold } /* Name.Class */\n",
       ".output_html .no { color: #880000 } /* Name.Constant */\n",
       ".output_html .nd { color: #AA22FF } /* Name.Decorator */\n",
       ".output_html .ni { color: #999999; font-weight: bold } /* Name.Entity */\n",
       ".output_html .ne { color: #D2413A; font-weight: bold } /* Name.Exception */\n",
       ".output_html .nf { color: #0000FF } /* Name.Function */\n",
       ".output_html .nl { color: #A0A000 } /* Name.Label */\n",
       ".output_html .nn { color: #0000FF; font-weight: bold } /* Name.Namespace */\n",
       ".output_html .nt { color: #008000; font-weight: bold } /* Name.Tag */\n",
       ".output_html .nv { color: #19177C } /* Name.Variable */\n",
       ".output_html .ow { color: #AA22FF; font-weight: bold } /* Operator.Word */\n",
       ".output_html .w { color: #bbbbbb } /* Text.Whitespace */\n",
       ".output_html .mb { color: #666666 } /* Literal.Number.Bin */\n",
       ".output_html .mf { color: #666666 } /* Literal.Number.Float */\n",
       ".output_html .mh { color: #666666 } /* Literal.Number.Hex */\n",
       ".output_html .mi { color: #666666 } /* Literal.Number.Integer */\n",
       ".output_html .mo { color: #666666 } /* Literal.Number.Oct */\n",
       ".output_html .sa { color: #BA2121 } /* Literal.String.Affix */\n",
       ".output_html .sb { color: #BA2121 } /* Literal.String.Backtick */\n",
       ".output_html .sc { color: #BA2121 } /* Literal.String.Char */\n",
       ".output_html .dl { color: #BA2121 } /* Literal.String.Delimiter */\n",
       ".output_html .sd { color: #BA2121; font-style: italic } /* Literal.String.Doc */\n",
       ".output_html .s2 { color: #BA2121 } /* Literal.String.Double */\n",
       ".output_html .se { color: #BB6622; font-weight: bold } /* Literal.String.Escape */\n",
       ".output_html .sh { color: #BA2121 } /* Literal.String.Heredoc */\n",
       ".output_html .si { color: #BB6688; font-weight: bold } /* Literal.String.Interpol */\n",
       ".output_html .sx { color: #008000 } /* Literal.String.Other */\n",
       ".output_html .sr { color: #BB6688 } /* Literal.String.Regex */\n",
       ".output_html .s1 { color: #BA2121 } /* Literal.String.Single */\n",
       ".output_html .ss { color: #19177C } /* Literal.String.Symbol */\n",
       ".output_html .bp { color: #008000 } /* Name.Builtin.Pseudo */\n",
       ".output_html .fm { color: #0000FF } /* Name.Function.Magic */\n",
       ".output_html .vc { color: #19177C } /* Name.Variable.Class */\n",
       ".output_html .vg { color: #19177C } /* Name.Variable.Global */\n",
       ".output_html .vi { color: #19177C } /* Name.Variable.Instance */\n",
       ".output_html .vm { color: #19177C } /* Name.Variable.Magic */\n",
       ".output_html .il { color: #666666 } /* Literal.Number.Integer.Long */</style><div class=\"highlight\"><pre><span></span><span class=\"kn\">import</span> <span class=\"nn\">foo</span>\n",
       "<span class=\"n\">foo</span><span class=\"o\">.</span><span class=\"n\">bar</span><span class=\"p\">()</span>\n",
       "</pre></div>\n"
      ],
      "text/latex": [
       "\\begin{Verbatim}[commandchars=\\\\\\{\\}]\n",
       "\\PY{k+kn}{import} \\PY{n+nn}{foo}\n",
       "\\PY{n}{foo}\\PY{o}{.}\\PY{n}{bar}\\PY{p}{(}\\PY{p}{)}\n",
       "\\end{Verbatim}\n"
      ],
      "text/plain": [
       "import foo\n",
       "foo.bar()"
      ]
     },
     "metadata": {},
     "output_type": "display_data"
    },
    {
     "data": {
      "text/html": [
       "<style>.output_html .hll { background-color: #ffffcc }\n",
       ".output_html  { background: #f8f8f8; }\n",
       ".output_html .c { color: #408080; font-style: italic } /* Comment */\n",
       ".output_html .err { border: 1px solid #FF0000 } /* Error */\n",
       ".output_html .k { color: #008000; font-weight: bold } /* Keyword */\n",
       ".output_html .o { color: #666666 } /* Operator */\n",
       ".output_html .ch { color: #408080; font-style: italic } /* Comment.Hashbang */\n",
       ".output_html .cm { color: #408080; font-style: italic } /* Comment.Multiline */\n",
       ".output_html .cp { color: #BC7A00 } /* Comment.Preproc */\n",
       ".output_html .cpf { color: #408080; font-style: italic } /* Comment.PreprocFile */\n",
       ".output_html .c1 { color: #408080; font-style: italic } /* Comment.Single */\n",
       ".output_html .cs { color: #408080; font-style: italic } /* Comment.Special */\n",
       ".output_html .gd { color: #A00000 } /* Generic.Deleted */\n",
       ".output_html .ge { font-style: italic } /* Generic.Emph */\n",
       ".output_html .gr { color: #FF0000 } /* Generic.Error */\n",
       ".output_html .gh { color: #000080; font-weight: bold } /* Generic.Heading */\n",
       ".output_html .gi { color: #00A000 } /* Generic.Inserted */\n",
       ".output_html .go { color: #888888 } /* Generic.Output */\n",
       ".output_html .gp { color: #000080; font-weight: bold } /* Generic.Prompt */\n",
       ".output_html .gs { font-weight: bold } /* Generic.Strong */\n",
       ".output_html .gu { color: #800080; font-weight: bold } /* Generic.Subheading */\n",
       ".output_html .gt { color: #0044DD } /* Generic.Traceback */\n",
       ".output_html .kc { color: #008000; font-weight: bold } /* Keyword.Constant */\n",
       ".output_html .kd { color: #008000; font-weight: bold } /* Keyword.Declaration */\n",
       ".output_html .kn { color: #008000; font-weight: bold } /* Keyword.Namespace */\n",
       ".output_html .kp { color: #008000 } /* Keyword.Pseudo */\n",
       ".output_html .kr { color: #008000; font-weight: bold } /* Keyword.Reserved */\n",
       ".output_html .kt { color: #B00040 } /* Keyword.Type */\n",
       ".output_html .m { color: #666666 } /* Literal.Number */\n",
       ".output_html .s { color: #BA2121 } /* Literal.String */\n",
       ".output_html .na { color: #7D9029 } /* Name.Attribute */\n",
       ".output_html .nb { color: #008000 } /* Name.Builtin */\n",
       ".output_html .nc { color: #0000FF; font-weight: bold } /* Name.Class */\n",
       ".output_html .no { color: #880000 } /* Name.Constant */\n",
       ".output_html .nd { color: #AA22FF } /* Name.Decorator */\n",
       ".output_html .ni { color: #999999; font-weight: bold } /* Name.Entity */\n",
       ".output_html .ne { color: #D2413A; font-weight: bold } /* Name.Exception */\n",
       ".output_html .nf { color: #0000FF } /* Name.Function */\n",
       ".output_html .nl { color: #A0A000 } /* Name.Label */\n",
       ".output_html .nn { color: #0000FF; font-weight: bold } /* Name.Namespace */\n",
       ".output_html .nt { color: #008000; font-weight: bold } /* Name.Tag */\n",
       ".output_html .nv { color: #19177C } /* Name.Variable */\n",
       ".output_html .ow { color: #AA22FF; font-weight: bold } /* Operator.Word */\n",
       ".output_html .w { color: #bbbbbb } /* Text.Whitespace */\n",
       ".output_html .mb { color: #666666 } /* Literal.Number.Bin */\n",
       ".output_html .mf { color: #666666 } /* Literal.Number.Float */\n",
       ".output_html .mh { color: #666666 } /* Literal.Number.Hex */\n",
       ".output_html .mi { color: #666666 } /* Literal.Number.Integer */\n",
       ".output_html .mo { color: #666666 } /* Literal.Number.Oct */\n",
       ".output_html .sa { color: #BA2121 } /* Literal.String.Affix */\n",
       ".output_html .sb { color: #BA2121 } /* Literal.String.Backtick */\n",
       ".output_html .sc { color: #BA2121 } /* Literal.String.Char */\n",
       ".output_html .dl { color: #BA2121 } /* Literal.String.Delimiter */\n",
       ".output_html .sd { color: #BA2121; font-style: italic } /* Literal.String.Doc */\n",
       ".output_html .s2 { color: #BA2121 } /* Literal.String.Double */\n",
       ".output_html .se { color: #BB6622; font-weight: bold } /* Literal.String.Escape */\n",
       ".output_html .sh { color: #BA2121 } /* Literal.String.Heredoc */\n",
       ".output_html .si { color: #BB6688; font-weight: bold } /* Literal.String.Interpol */\n",
       ".output_html .sx { color: #008000 } /* Literal.String.Other */\n",
       ".output_html .sr { color: #BB6688 } /* Literal.String.Regex */\n",
       ".output_html .s1 { color: #BA2121 } /* Literal.String.Single */\n",
       ".output_html .ss { color: #19177C } /* Literal.String.Symbol */\n",
       ".output_html .bp { color: #008000 } /* Name.Builtin.Pseudo */\n",
       ".output_html .fm { color: #0000FF } /* Name.Function.Magic */\n",
       ".output_html .vc { color: #19177C } /* Name.Variable.Class */\n",
       ".output_html .vg { color: #19177C } /* Name.Variable.Global */\n",
       ".output_html .vi { color: #19177C } /* Name.Variable.Instance */\n",
       ".output_html .vm { color: #19177C } /* Name.Variable.Magic */\n",
       ".output_html .il { color: #666666 } /* Literal.Number.Integer.Long */</style><div class=\"highlight\"><pre><span></span><span class=\"k\">def</span> <span class=\"nf\">funcion_interesante</span><span class=\"p\">(</span><span class=\"n\">n</span><span class=\"p\">):</span>\n",
       "    <span class=\"sd\">&quot;&quot;&quot;</span>\n",
       "<span class=\"sd\">    Este script es interesante</span>\n",
       "<span class=\"sd\">    &quot;&quot;&quot;</span>\n",
       "    <span class=\"k\">if</span> <span class=\"n\">n</span> <span class=\"o\">==</span> <span class=\"mi\">1</span><span class=\"p\">:</span>\n",
       "        <span class=\"k\">return</span> <span class=\"mi\">1</span>\n",
       "\n",
       "    <span class=\"k\">else</span><span class=\"p\">:</span>\n",
       "        <span class=\"k\">return</span> <span class=\"n\">n</span> <span class=\"o\">*</span> <span class=\"n\">funcion_interesante</span><span class=\"p\">(</span><span class=\"n\">n</span><span class=\"o\">-</span><span class=\"mi\">1</span><span class=\"p\">)</span>\n",
       "\n",
       "<span class=\"k\">if</span> <span class=\"vm\">__name__</span> <span class=\"o\">==</span> <span class=\"s1\">&#39;__main__&#39;</span><span class=\"p\">:</span>\n",
       "    <span class=\"k\">print</span><span class=\"p\">(</span><span class=\"n\">funcion_interesante</span><span class=\"p\">(</span><span class=\"mi\">10</span><span class=\"p\">))</span>\n",
       "        \n",
       "</pre></div>\n"
      ],
      "text/latex": [
       "\\begin{Verbatim}[commandchars=\\\\\\{\\}]\n",
       "\\PY{k}{def} \\PY{n+nf}{funcion\\PYZus{}interesante}\\PY{p}{(}\\PY{n}{n}\\PY{p}{)}\\PY{p}{:}\n",
       "    \\PY{l+s+sd}{\\PYZdq{}\\PYZdq{}\\PYZdq{}}\n",
       "\\PY{l+s+sd}{    Este script es interesante}\n",
       "\\PY{l+s+sd}{    \\PYZdq{}\\PYZdq{}\\PYZdq{}}\n",
       "    \\PY{k}{if} \\PY{n}{n} \\PY{o}{==} \\PY{l+m+mi}{1}\\PY{p}{:}\n",
       "        \\PY{k}{return} \\PY{l+m+mi}{1}\n",
       "\n",
       "    \\PY{k}{else}\\PY{p}{:}\n",
       "        \\PY{k}{return} \\PY{n}{n} \\PY{o}{*} \\PY{n}{funcion\\PYZus{}interesante}\\PY{p}{(}\\PY{n}{n}\\PY{o}{\\PYZhy{}}\\PY{l+m+mi}{1}\\PY{p}{)}\n",
       "\n",
       "\\PY{k}{if} \\PY{n+nv+vm}{\\PYZus{}\\PYZus{}name\\PYZus{}\\PYZus{}} \\PY{o}{==} \\PY{l+s+s1}{\\PYZsq{}}\\PY{l+s+s1}{\\PYZus{}\\PYZus{}main\\PYZus{}\\PYZus{}}\\PY{l+s+s1}{\\PYZsq{}}\\PY{p}{:}\n",
       "    \\PY{k}{print}\\PY{p}{(}\\PY{n}{funcion\\PYZus{}interesante}\\PY{p}{(}\\PY{l+m+mi}{10}\\PY{p}{)}\\PY{p}{)}\n",
       "        \n",
       "\\end{Verbatim}\n"
      ],
      "text/plain": [
       "def funcion_interesante(n):\n",
       "    \"\"\"\n",
       "    Este script es interesante\n",
       "    \"\"\"\n",
       "    if n == 1:\n",
       "        return 1\n",
       "\n",
       "    else:\n",
       "        return n * funcion_interesante(n-1)\n",
       "\n",
       "if __name__ == '__main__':\n",
       "    print(funcion_interesante(10))\n",
       "        "
      ]
     },
     "metadata": {},
     "output_type": "display_data"
    }
   ],
   "source": [
    "from IPython.display import Code\n",
    "\n",
    "display(Code(\"import foo\\nfoo.bar()\"),\n",
    "        Code(\"script_interesante.py\"))"
   ]
  },
  {
   "cell_type": "markdown",
   "metadata": {},
   "source": [
    "### Objeto `HTML`\n",
    "\n",
    "Renderea código escrito en HTML\n",
    "\n",
    "La entrada puede ser un archivo local, una URL o un string"
   ]
  },
  {
   "cell_type": "code",
   "execution_count": 9,
   "metadata": {},
   "outputs": [
    {
     "data": {
      "text/html": [
       "<p style=\"font-size:200%;text-align:center;font-family:serif;color:red;\">foo</p>"
      ],
      "text/plain": [
       "<IPython.core.display.HTML object>"
      ]
     },
     "metadata": {},
     "output_type": "display_data"
    },
    {
     "data": {
      "text/html": [
       "<table><tr><td>a</td><td>b</td></tr><tr><td>b</td><td>c</td></tr></table"
      ],
      "text/plain": [
       "<IPython.core.display.HTML object>"
      ]
     },
     "metadata": {},
     "output_type": "display_data"
    }
   ],
   "source": [
    "from IPython.display import HTML\n",
    "\n",
    "display(HTML(\"<p style=\\\"font-size:200%;text-align:center;font-family:serif;color:red;\\\">foo</p>\"),\n",
    "        HTML(\"<table><tr><td>a</td><td>b</td></tr><tr><td>b</td><td>c</td></tr></table\"))"
   ]
  },
  {
   "cell_type": "markdown",
   "metadata": {},
   "source": [
    "### Objeto `ProgressBar`\n",
    "\n",
    "Crea una barra de progreso que puede actualizarse"
   ]
  },
  {
   "cell_type": "code",
   "execution_count": 10,
   "metadata": {},
   "outputs": [
    {
     "data": {
      "text/html": [
       "<progress style='width:60ex' max='100' value='100'></progress>"
      ],
      "text/plain": [
       "[============================================================] 100/100"
      ]
     },
     "metadata": {},
     "output_type": "display_data"
    }
   ],
   "source": [
    "from IPython.display import ProgressBar\n",
    "import time\n",
    "\n",
    "p = ProgressBar(total=100)\n",
    "p.display()\n",
    "\n",
    "for i in range(101):\n",
    "    p.progress = i\n",
    "    time.sleep(0.01)"
   ]
  },
  {
   "cell_type": "markdown",
   "metadata": {},
   "source": [
    "### Alternativa: [`TQDM`](https://github.com/tqdm/tqdm)\n",
    "\n",
    "Barra de progreso que además te indica el tiempo por iteración y tiempo estante\n",
    "\n",
    "Recibe un iterable como entrada\n",
    "\n",
    "Funciona en notebook (`tqdm_notebook`) y en CLI (`tqdm`)"
   ]
  },
  {
   "cell_type": "code",
   "execution_count": 11,
   "metadata": {},
   "outputs": [
    {
     "name": "stdout",
     "output_type": "stream",
     "text": [
      "Requirement already satisfied: tqdm in /home/fabian/.local/lib/python3.7/site-packages (4.31.1)\r\n"
     ]
    }
   ],
   "source": [
    "!pip install tqdm --user"
   ]
  },
  {
   "cell_type": "code",
   "execution_count": 12,
   "metadata": {},
   "outputs": [
    {
     "data": {
      "application/vnd.jupyter.widget-view+json": {
       "model_id": "7dde2bc3cd2842f4ae7cbfd0d391e067",
       "version_major": 2,
       "version_minor": 0
      },
      "text/plain": [
       "HBox(children=(IntProgress(value=0), HTML(value='')))"
      ]
     },
     "metadata": {},
     "output_type": "display_data"
    },
    {
     "name": "stdout",
     "output_type": "stream",
     "text": [
      "\n"
     ]
    }
   ],
   "source": [
    "from tqdm import tqdm_notebook\n",
    "\n",
    "for i in tqdm_notebook(range(100)):\n",
    "    time.sleep(0.01)"
   ]
  },
  {
   "cell_type": "markdown",
   "metadata": {},
   "source": [
    "### Objeto `Video`\n",
    "\n",
    "Crea un reproductor para un archivo, URL o stream de datos crudos (Bytes)\n",
    "\n",
    "Existen también los objetos `YouTubeVideo` y `VimeoVideo` para embeber videos de estas plataformas"
   ]
  },
  {
   "cell_type": "code",
   "execution_count": 13,
   "metadata": {},
   "outputs": [
    {
     "data": {
      "image/jpeg": "[encoded data removed]",
      "text/html": [
       "\n",
       "        <iframe\n",
       "            width=\"400\"\n",
       "            height=\"300\"\n",
       "            src=\"https://www.youtube.com/embed/ywWBy6J5gz8\"\n",
       "            frameborder=\"0\"\n",
       "            allowfullscreen\n",
       "        ></iframe>\n",
       "        "
      ],
      "text/plain": [
       "<IPython.lib.display.YouTubeVideo at 0x7f5a3d8d69b0>"
      ]
     },
     "metadata": {},
     "output_type": "display_data"
    }
   ],
   "source": [
    "from IPython.display import YouTubeVideo\n",
    "\n",
    "vid = YouTubeVideo(\"ywWBy6J5gz8\")\n",
    "display(vid)"
   ]
  },
  {
   "cell_type": "markdown",
   "metadata": {},
   "source": [
    "# [Jupyter Widgets](https://ipywidgets.readthedocs.io/en/stable/)\n",
    "\n",
    "\n",
    "### ¿Cómo se instala?\n",
    "Instalación con `conda`\n",
    "\n",
    "    conda install -c conda-forge ipywidgets\n",
    "    \n",
    "Instalación con `pip`\n",
    "\n",
    "    pip install ipywidgets --user\n",
    "    jupyter nbextension enable --py widgetsnbextension\n",
    "    \n",
    "### ¿Qué son?\n",
    "Los objetos de `ipywidgets` son interfaces de control que funcionan en base a eventos. Por ejemplo\n",
    "- Botones e interruptores\n",
    "- Deslizadores (*sliders*)\n",
    "- Listas desplegables (*combo-box*)\n",
    "- Campos de texto\n",
    "- Menues y pestañas\n",
    "\n",
    "Con ellas se pueden crear interfaces gráficas dentro del notebook\n",
    "\n",
    "### ¿Cómo se ocupan?\n",
    "Podemos crearlos de forma semi-automática con el **decorador** `interact`"
   ]
  },
  {
   "cell_type": "code",
   "execution_count": 14,
   "metadata": {},
   "outputs": [
    {
     "data": {
      "application/vnd.jupyter.widget-view+json": {
       "model_id": "fe8f6116b53c46c9a65379430113ef99",
       "version_major": 2,
       "version_minor": 0
      },
      "text/plain": [
       "interactive(children=(IntSlider(value=0, description='x', max=10), FloatSlider(value=0.0, description='y', max…"
      ]
     },
     "metadata": {},
     "output_type": "display_data"
    }
   ],
   "source": [
    "import ipywidgets as widgets\n",
    "\n",
    "# Se crea un widget por cada argumento de la función\n",
    "@widgets.interact(x=(0, 10))\n",
    "def print_cosas(x=0, y=0., z=True, w=['foo','bar'], v='foo'): \n",
    "    display(x, y, z)"
   ]
  },
  {
   "cell_type": "markdown",
   "metadata": {},
   "source": [
    "Para mayor control podemos crearlos manualmente con la **función** `interact` y con los objetos correspondientes\n",
    "\n",
    "- La lista de objetos [*widget*](https://ipywidgets.readthedocs.io/en/stable/examples/Widget%20List.html#Container/Layout-widgets)\n",
    "    - Numéricos: `IntSlider`, `FloatSlider`, `IntRangeSlider`, `FloatRangeSlider`, ...\n",
    "    - Booleanos: `ToggleButton`, `CheckBox`, `Valid`\n",
    "    - Selección: `Dropdown`, `Select`, `RadioButtons`, `SelectionSlider`, ...\n",
    "    - Texto: `Text`, `Textarea`, `Label`\n",
    "    - Contenedores: `HBox`, `VBox`, `Tabs`, `Accordion`\n",
    "    - Otros: `Image`, `Output`, `Play`, `DatePicker`, `ColorPicker`\n",
    "    \n",
    "- El objeto [`Layout`](https://ipywidgets.readthedocs.io/en/stable/examples/Widget%20Styling.html) sirve para dar estilo a los *widgets*\n",
    "\n",
    "\n",
    "### Ejemplo\n",
    "\n",
    "- El primer argumento de la función es una tupla y se conecta con un widget `FloatRangeSlider`\n",
    "- El segundo argumento es fijo, lo definimos usando el atributo `fixed`"
   ]
  },
  {
   "cell_type": "code",
   "execution_count": 15,
   "metadata": {},
   "outputs": [
    {
     "data": {
      "application/vnd.jupyter.widget-view+json": {
       "model_id": "d39932c9f9444287b96b6045c3b60b4c",
       "version_major": 2,
       "version_minor": 0
      },
      "text/plain": [
       "interactive(children=(FloatRangeSlider(value=(-50.0, 50.0), description='Un argumento muy interesante:', layou…"
      ]
     },
     "metadata": {},
     "output_type": "display_data"
    }
   ],
   "source": [
    "slider_layout = widgets.Layout(width='600px', height='20px')\n",
    "slider_style = {'description_width': 'initial'}\n",
    "\n",
    "\n",
    "def mi_funcion(x, y): # x es la salida del widget, en este caso una tupla\n",
    "    display(x[0], x[1], y*(x[1] - x[0]))\n",
    "\n",
    "range_slider = widgets.FloatRangeSlider(min=-100., max=100., step=0.01, \n",
    "                                        continuous_update=True, \n",
    "                                        description=r'Un argumento muy interesante:',\n",
    "                                        layout=slider_layout, style=slider_style)\n",
    "widgets.interact(mi_funcion, x=range_slider, y=widgets.fixed(2));"
   ]
  },
  {
   "cell_type": "markdown",
   "metadata": {},
   "source": [
    "Los atributos del *widget* creado:"
   ]
  },
  {
   "cell_type": "code",
   "execution_count": 16,
   "metadata": {},
   "outputs": [
    {
     "data": {
      "text/plain": [
       "['_dom_classes',\n",
       " '_model_module',\n",
       " '_model_module_version',\n",
       " '_model_name',\n",
       " '_view_count',\n",
       " '_view_module',\n",
       " '_view_module_version',\n",
       " '_view_name',\n",
       " 'continuous_update',\n",
       " 'description',\n",
       " 'description_tooltip',\n",
       " 'disabled',\n",
       " 'layout',\n",
       " 'max',\n",
       " 'min',\n",
       " 'orientation',\n",
       " 'readout',\n",
       " 'readout_format',\n",
       " 'step',\n",
       " 'style',\n",
       " 'value']"
      ]
     },
     "execution_count": 16,
     "metadata": {},
     "output_type": "execute_result"
    }
   ],
   "source": [
    "range_slider.keys"
   ]
  },
  {
   "cell_type": "markdown",
   "metadata": {},
   "source": [
    "Luego podemos acceder al valor del *widget* usando"
   ]
  },
  {
   "cell_type": "code",
   "execution_count": 17,
   "metadata": {},
   "outputs": [
    {
     "data": {
      "text/plain": [
       "(-50.0, 50.0)"
      ]
     },
     "execution_count": 17,
     "metadata": {},
     "output_type": "execute_result"
    }
   ],
   "source": [
    "range_slider.value"
   ]
  },
  {
   "cell_type": "markdown",
   "metadata": {},
   "source": [
    "Podemos unir varios *widgets* usando contenedores"
   ]
  },
  {
   "cell_type": "code",
   "execution_count": 18,
   "metadata": {},
   "outputs": [
    {
     "data": {
      "application/vnd.jupyter.widget-view+json": {
       "model_id": "67d484e160b64e69af5f81dbd6f58e89",
       "version_major": 2,
       "version_minor": 0
      },
      "text/plain": [
       "HBox(children=(Text(value='', description='Escribir tu nombre', style=DescriptionStyle(description_width='init…"
      ]
     },
     "metadata": {},
     "output_type": "display_data"
    }
   ],
   "source": [
    "insert_name = widgets.Text(description='Escribir tu nombre', style=slider_style)\n",
    "push_data = widgets.Button(description='Enviar')\n",
    "# Los contenedores reciben una lista de widgets (se pueden anidar contenedores)\n",
    "#display(insert_name, push_data)\n",
    "widgets.HBox([insert_name, push_data])"
   ]
  },
  {
   "cell_type": "markdown",
   "metadata": {},
   "source": [
    "### Eventos\n",
    "\n",
    "Podemos usar botones para capturar eventos con el atributo `on_click`"
   ]
  },
  {
   "cell_type": "code",
   "execution_count": 19,
   "metadata": {},
   "outputs": [],
   "source": [
    "push_data.on_click(lambda x: print(insert_name.value))"
   ]
  },
  {
   "cell_type": "markdown",
   "metadata": {},
   "source": [
    "Podemos reaccionar ante los cambios de un widget usando el atributo `observe`\n",
    "\n",
    "Este atributo espera una función con formato específico"
   ]
  },
  {
   "cell_type": "code",
   "execution_count": 20,
   "metadata": {},
   "outputs": [
    {
     "ename": "NameError",
     "evalue": "name 'sel_slider' is not defined",
     "output_type": "error",
     "traceback": [
      "\u001b[0;31m---------------------------------------------------------------------------\u001b[0m",
      "\u001b[0;31mNameError\u001b[0m                                 Traceback (most recent call last)",
      "\u001b[0;32m<ipython-input-20-36ef93aea906>\u001b[0m in \u001b[0;36m<module>\u001b[0;34m\u001b[0m\n\u001b[0;32m----> 1\u001b[0;31m \u001b[0msel_slider\u001b[0m\u001b[0;34m.\u001b[0m\u001b[0mkeys\u001b[0m\u001b[0;34m\u001b[0m\u001b[0;34m\u001b[0m\u001b[0m\n\u001b[0m",
      "\u001b[0;31mNameError\u001b[0m: name 'sel_slider' is not defined"
     ]
    }
   ],
   "source": [
    "sel_slider.keys"
   ]
  },
  {
   "cell_type": "code",
   "execution_count": null,
   "metadata": {},
   "outputs": [],
   "source": [
    "sel_slider.observe?"
   ]
  },
  {
   "cell_type": "code",
   "execution_count": null,
   "metadata": {},
   "outputs": [],
   "source": [
    "def on_change(x):\n",
    "    print(x)\n",
    "    # display(change.keys())\n",
    "    display(\"Hola {0}, Chao {1}\".format(x['new'], x['old']))       \n",
    "\n",
    "sel_slider = widgets.Dropdown(description=\"Nombre:\", \n",
    "                              options=[\"Pablo\", \"Sebastián\", \"Enrique\"])\n",
    "\n",
    "display(sel_slider)\n",
    "sel_slider.observe(on_change, names='value')"
   ]
  },
  {
   "cell_type": "markdown",
   "metadata": {},
   "source": [
    "### Output widget\n",
    "\n",
    "Este widget se puede usar para redireccionar las salidas de otros widgets"
   ]
  },
  {
   "cell_type": "code",
   "execution_count": null,
   "metadata": {},
   "outputs": [],
   "source": [
    "out = widgets.Output(layout={'border': '1px solid black'})\n",
    "display(out)"
   ]
  },
  {
   "cell_type": "code",
   "execution_count": null,
   "metadata": {},
   "outputs": [],
   "source": [
    "with out:\n",
    "    display(\"Hola\")"
   ]
  },
  {
   "cell_type": "code",
   "execution_count": null,
   "metadata": {},
   "outputs": [],
   "source": [
    "def on_change(button):\n",
    "    with out:\n",
    "        display(insert_name.value)\n",
    "\n",
    "push_data.on_click(on_change)"
   ]
  },
  {
   "cell_type": "markdown",
   "metadata": {},
   "source": [
    "### Ejemplo: Galería de gráficas matplotlib"
   ]
  },
  {
   "cell_type": "code",
   "execution_count": null,
   "metadata": {},
   "outputs": [],
   "source": [
    "# Data\n",
    "Nt, Nf = 1000, 200\n",
    "time = np.linspace(0, 5, num=Nt).reshape(-1, 1)\n",
    "freq = 5*np.random.rand(Nf)\n",
    "phase = np.pi*np.random.randn(Nf)\n",
    "s = np.sin(2.0*np.pi*time*freq+phase)\n",
    "# Gráfica\n",
    "fig, ax = plt.subplots(figsize=(6, 3), tight_layout=True)\n",
    "idx = 0\n",
    "line, = ax.plot(time, s[:, idx]); ax.set_title(str(idx))\n",
    "def plot_features(idx):\n",
    "    ax.set_title(str(idx))\n",
    "    line.set_ydata(s[:, idx])\n",
    "# GUI\n",
    "prev_button = widgets.Button(description=\"Anterior\")\n",
    "next_button = widgets.Button(description=\"Siguiente\")\n",
    "\n",
    "def on_button_clicked(b):\n",
    "    global idx\n",
    "    if b.description == \"Siguiente\":\n",
    "        if idx < Nt:\n",
    "            idx += 1\n",
    "    else:\n",
    "        if idx > 0:\n",
    "            idx -= 1\n",
    "    plot_features(idx)\n",
    "                \n",
    "next_button.on_click(on_button_clicked)\n",
    "prev_button.on_click(on_button_clicked)\n",
    "display(widgets.HBox([prev_button, next_button]))"
   ]
  },
  {
   "cell_type": "code",
   "execution_count": null,
   "metadata": {},
   "outputs": [],
   "source": [
    "freq = 1.5\n",
    "time = np.linspace(0, 3/freq, num=500); \n",
    "twopift = 2.0*np.pi*freq*time\n",
    "\n",
    "slider_layout = widgets.Layout(width='600px', height='20px')\n",
    "\n",
    "fig, ax = plt.subplots(figsize=(7, 3))\n",
    "ax.set_xticks([0, 1/freq, 2/freq, 3/freq]); \n",
    "ax.set_xticklabels([\"0\", r\"$1/f_0$\", r\"$2/f_0$\", r\"$3/f_0$\"]);\n",
    "line = ax.plot(time, 3*np.cos(twopift))\n",
    "\n",
    "A = [widgets.FloatSlider(description=r'$A_{0}$'.format(i), min=0.0, max=1.0, \n",
    "                         step=0.01, value=0.0, layout=slider_layout) for i in range(3)]\n",
    "update = lambda A0, A1, A2: line[0].set_ydata(A0*np.cos(twopift) + A1*np.cos(2*twopift) + A2*np.cos(3*twopift))\n",
    "widgets.interact(update, A0=A[0], A1=A[1], A2=A[2]);"
   ]
  },
  {
   "cell_type": "markdown",
   "metadata": {},
   "source": [
    "### Ejemplos: Animación con controles"
   ]
  },
  {
   "cell_type": "code",
   "execution_count": null,
   "metadata": {},
   "outputs": [],
   "source": [
    "fig, ax = plt.subplots(2, figsize=(7, 4))\n",
    "t = np.arange(-4, 4, step=1e-2)\n",
    "\n",
    "def triangular_pulse(t, a=0, T=1):\n",
    "    s = np.zeros(shape=t.shape)\n",
    "    s[np.absolute(t-a)<T] = 0.5 + 0.5*(t[np.absolute(t-a)<T]-a)/T \n",
    "    return s\n",
    "\n",
    "lap_pulse = lambda t, a=0, s=1 : np.exp(-np.absolute(t-a)/s)\n",
    "conv_s = np.convolve(triangular_pulse(t), lap_pulse(t), mode='same')\n",
    "\n",
    "def update_plot(widget): \n",
    "    a = widget['new']\n",
    "    ax[0].cla(); ax[1].cla()\n",
    "    p1, p2 = triangular_pulse(t, 0.1*a - 4), lap_pulse(t)\n",
    "    ax[0].plot(t, p2); ax[0].plot(t, p1); \n",
    "    ax[0].fill_between(t, 0, p1*p2, alpha=0.5)\n",
    "    ax[1].plot(t, conv_s[::-1]); \n",
    "    ax[1].scatter(0.1*a -4, np.sum(p1*p2), s=100, c='k')\n",
    "\n",
    "play = widgets.Play(value=0, min=0, max=80, step=1, description=\"Correr animación\")\n",
    "play.observe(update_plot, names='value')\n",
    "display(play)"
   ]
  },
  {
   "cell_type": "markdown",
   "metadata": {},
   "source": [
    "### Ejemplo: Piano "
   ]
  },
  {
   "cell_type": "code",
   "execution_count": null,
   "metadata": {
    "scrolled": true
   },
   "outputs": [],
   "source": [
    "# Ref: https://ipython-books.github.io/117-creating-a-sound-synthesizer-in-the-notebook/\n",
    "from functools import partial\n",
    "from IPython.display import Audio\n",
    "\n",
    "duration, sample_rate = .4, 44000.\n",
    "notes = 'C,C#,D,D#,E,F,F#,G,G#,A,A#,B,C'.split(',')\n",
    "freqs = 440. * 2**(np.arange(3, 3 + len(notes)) / 12.)\n",
    "time = np.linspace(0., duration, int(sample_rate*duration))\n",
    "sampler = lambda freq: np.sin(2. * np.pi * freq * time)*(0.5+0.5*np.cos(np.pi*time/duration))\n",
    "\n",
    "layout_synth = widgets.Layout(width='20px', height='80px', border='1px solid black')\n",
    "style_synth_white = {'button_color': 'white'}\n",
    "style_synth_black = {'button_color': 'black'}\n",
    "buttons = []\n",
    "for note, freq in zip(notes, freqs):\n",
    "    button = widgets.Button(layout=layout_synth)\n",
    "    if \"#\" in note:\n",
    "        button.style = style_synth_black\n",
    "    else:\n",
    "        button.style = style_synth_white    \n",
    "    def on_button_clicked(b, f):\n",
    "        with widgets.Output(): # suppress the audio widget output \n",
    "            display(Audio(sampler(f), rate=sample_rate, autoplay=True))\n",
    "    button.on_click(partial(on_button_clicked, f=freq))\n",
    "    buttons.append(button)\n",
    "\n",
    "display(widgets.Box(children=buttons))"
   ]
  },
  {
   "cell_type": "markdown",
   "metadata": {},
   "source": [
    "### Ejemplo: Leyendo una película frame a frame"
   ]
  },
  {
   "cell_type": "code",
   "execution_count": null,
   "metadata": {},
   "outputs": [],
   "source": [
    "import cv2, PIL, io, time\n",
    "from IPython.display import Image\n",
    "\n",
    "vid = cv2.VideoCapture('magister.mp4')\n",
    "width, height = vid.get(cv2.CAP_PROP_FRAME_WIDTH), vid.get(cv2.CAP_PROP_FRAME_HEIGHT)\n",
    "wout = widgets.Image(layout=widgets.Layout(height=\"{0}px\".format(height/2), \n",
    "                                           width=\"{0}px\".format(width/2)))\n",
    "display(wout)\n",
    "X, Y = np.meshgrid(np.arange(width), np.arange(height))\n",
    "breathing = np.concatenate([np.linspace(0, -30, num=10), np.linspace(-30, 0, num=10)])\n",
    "k = 0\n",
    "while True:\n",
    "    successfully_read, frame = vid.read()\n",
    "    if not successfully_read:\n",
    "        break\n",
    "    frame = cv2.cvtColor(frame, cv2.COLOR_BGR2RGB)   \n",
    "    a = width/2 + breathing[k]\n",
    "    b = height/2 + breathing[k]\n",
    "    mask = (X - width/2)**2/a**2 + (Y - height/2)**2/b**2 > 1\n",
    "    frame[mask] = [255, 255, 255]\n",
    "    f = io.BytesIO() \n",
    "    PIL.Image.fromarray(frame).save(f, 'BMP')\n",
    "    wout.value = f.getvalue()\n",
    "    time.sleep(0.03)\n",
    "    k = k+1 if k < len(breathing)-1 else 0\n"
   ]
  },
  {
   "cell_type": "markdown",
   "metadata": {},
   "source": [
    "### Extras\n",
    "- [Widgets asíncronos](https://ipywidgets.readthedocs.io/en/stable/examples/Widget%20Asynchronous.html)\n",
    "- [Escribir tus propios widgets](https://ipywidgets.readthedocs.io/en/stable/examples/Widget%20Custom.html) y otro [más ](https://ipython-books.github.io/34-creating-custom-jupyter-notebook-widgets-in-python-html-and-javascript/)\n",
    "- Publicar notebooks interactivos con [Binder](https://mybinder.org/)"
   ]
  },
  {
   "cell_type": "markdown",
   "metadata": {},
   "source": [
    "# Otros lenguajes en Jupyter\n",
    "\n",
    "Hasta ahora hemos trabajado con el kernel de IPython para jupyter \n",
    "\n",
    "Existe una lista de kernels desarrollados por la [comunidad](https://github.com/jupyter/jupyter/wiki/Jupyter-kernels) para otros lenguajes \n",
    "\n",
    "- [IRkernel](https://github.com/IRkernel/IRkernel) o [r2py](https://rpy2.bitbucket.io/) (con extensión `r2py.ipython`)\n",
    "- [IJulia](https://github.com/JuliaLang/IJulia.jl)\n",
    "- [Ijavascript](https://github.com/n-riesco/ijavascript)\n",
    "- [IHaskell](https://github.com/gibiansky/IHaskell)\n",
    "- [IRuby](https://github.com/sciruby/iruby)\n",
    "- [IElixir](https://github.com/pprzetacznik/IElixir)\n",
    "- [Xeus Cling](https://github.com/QuantStack/xeus-cling) (C++)\n",
    "\n",
    "Algunos se pueden probar en [jupyter.org/try](https://jupyter.org/try)\n",
    "\n",
    "Algunos lenguajes tienen magias oficiales para usarse dentro del kernel de Python, por ejemplo:"
   ]
  },
  {
   "cell_type": "code",
   "execution_count": null,
   "metadata": {},
   "outputs": [],
   "source": [
    "%%bash\n",
    "\n",
    "echo \"Hello, world!\""
   ]
  },
  {
   "cell_type": "code",
   "execution_count": null,
   "metadata": {},
   "outputs": [],
   "source": [
    "%%ruby\n",
    "\n",
    "puts 'Hello, world!'"
   ]
  },
  {
   "cell_type": "code",
   "execution_count": null,
   "metadata": {},
   "outputs": [],
   "source": [
    "%%perl\n",
    "print \"Hello, World!\\n\";"
   ]
  },
  {
   "cell_type": "code",
   "execution_count": null,
   "metadata": {},
   "outputs": [],
   "source": [
    "%%python2\n",
    "print \"Hello, World!\""
   ]
  },
  {
   "cell_type": "code",
   "execution_count": null,
   "metadata": {},
   "outputs": [],
   "source": []
  },
  {
   "cell_type": "code",
   "execution_count": null,
   "metadata": {},
   "outputs": [],
   "source": []
  }
 ],
 "metadata": {
  "kernelspec": {
   "display_name": "Python 3",
   "language": "python",
   "name": "python3"
  },
  "language_info": {
   "codemirror_mode": {
    "name": "ipython",
    "version": 3
   },
   "file_extension": ".py",
   "mimetype": "text/x-python",
   "name": "python",
   "nbconvert_exporter": "python",
   "pygments_lexer": "ipython3",
   "version": "3.7.3"
  }
 },
 "nbformat": 4,
 "nbformat_minor": 2
}
