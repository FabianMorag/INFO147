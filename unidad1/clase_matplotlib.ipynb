{
 "cells": [
  {
   "cell_type": "code",
   "execution_count": null,
   "metadata": {},
   "outputs": [],
   "source": [
    "%%HTML\n",
    "<!-- Mejorar visualización en proyector -->\n",
    "<style>\n",
    ".rendered_html {font-size: 1.2em; line-height: 150%;}\n",
    "div.prompt {min-width: 0ex; }\n",
    ".container {width:95% !important;}\n",
    "</style>"
   ]
  },
  {
   "cell_type": "markdown",
   "metadata": {},
   "source": [
    "# Visualización de datos usando [Matplotlib](https://matplotlib.org/)\n",
    "\n",
    "Matplotlib es una librería de Python para hacer gráficos en dos dimensiones de alta calidad y altamente \n",
    "personalizables\n",
    "\n",
    "Matplotlib se integra con NumPy y acepta el formato `ndarray`  en sus funciones\n",
    "\n",
    "Matplotlib se integra con Jupyter mediante la magia `%matplotlib`, que nos permite seleccionar un backend para mostrar los gráficos \n",
    "- `inline` : Gráficos rasterizados en el notebook\n",
    "- `notebook` : Gráficos interactivos en el notebook\n",
    "- `qt`, `wx`, `gtk` : Gráficos en una ventana "
   ]
  },
  {
   "cell_type": "code",
   "execution_count": null,
   "metadata": {},
   "outputs": [],
   "source": [
    "%autosave 0\n",
    "# Invocamos la magia con una de las opciones\n",
    "%matplotlib notebook\n",
    "# Importamos la librería\n",
    "import matplotlib as mpl\n",
    "print(mpl.__version__)\n",
    "import matplotlib.pyplot as plt\n",
    "import numpy as np"
   ]
  },
  {
   "cell_type": "markdown",
   "metadata": {},
   "source": [
    "El modulo pyplot provee funciones para crear un gráfico y mantiene una maquina de estados que añade los diversos elementos que queremos incluir en él\n",
    "\n",
    "Podemos escoger el estilo general de nuestras gráficas con"
   ]
  },
  {
   "cell_type": "code",
   "execution_count": null,
   "metadata": {},
   "outputs": [],
   "source": [
    "print(sorted(mpl.style.available))\n",
    "plt.style.use('classic')"
   ]
  },
  {
   "cell_type": "markdown",
   "metadata": {},
   "source": [
    "- Para dibujar una linea en la figura usamos `plot()`\n",
    "- En IPython llamar a plot genera inmediatamente la figura\n",
    "- Si se usa el intérprete normal de Python la figura se muestra usando `show()`"
   ]
  },
  {
   "cell_type": "code",
   "execution_count": null,
   "metadata": {},
   "outputs": [],
   "source": [
    "x = np.arange(-2, 2, step=0.01)\n",
    "y = np.sin(2.0*np.pi*x)\n",
    "\n",
    "plt.plot(x, y)"
   ]
  },
  {
   "cell_type": "markdown",
   "metadata": {},
   "source": [
    "Podemos especificar el color, ancho, estilo, transparencia, entre otros\n",
    "\n",
    "¿Dónde estamos creando esta linea?"
   ]
  },
  {
   "cell_type": "code",
   "execution_count": null,
   "metadata": {},
   "outputs": [],
   "source": [
    "plt.plot(x, 0.5*y, color='r', linestyle='--',  linewidth=2, alpha=0.5);"
   ]
  },
  {
   "cell_type": "markdown",
   "metadata": {},
   "source": [
    "## Anatomía de un gráfico con Matplotlib\n",
    "\n",
    "- Figura (Figure): Es el elemento principal, actua como un lienzo (canvas) que mantiene los demás elementos\n",
    "- Ejes (Axes): Sistema de coordenadas. Puede haber más de uno por figura. Se puede configurar su posición dentro de la figura.\n",
    "- Artistas (Artists): Objetos que se renderean en los ejes (lineas, barras, texto, etc)\n",
    "\n",
    "Anteriormente, cuando llamamos directamente a `plot` se creaba automaticamente un eje y una figura\n",
    "\n",
    "Para tener el mayor control posible sobre nuestro gráfico:\n",
    "1. Creamos una figura y un conjunto de ejes usando `figure` o `subplots`\n",
    "1. Modificamos la apariencia del gráfico y agregamos artistas usando las funciones de la clase `Axes`\n",
    "\n",
    "Veremos como \n",
    "- Crear lineas de distintos tipos sin y con marcadores\n",
    "- Agregar un título y nombres para los ejes\n",
    "- Cambiar los límites, posición y razón de aspecto de los ejes\n",
    "- Cambiar la frecuencia y tamaño de los ticks de los ejes\n",
    "- Agregar una grilla\n",
    "- Agregar una leyenda"
   ]
  },
  {
   "cell_type": "code",
   "execution_count": null,
   "metadata": {},
   "outputs": [],
   "source": [
    "fig, ax = plt.subplots(figsize=(7, 4), tight_layout=True, facecolor='w')\n",
    "\n",
    "ax.plot(x, y, linewidth=2, alpha=0.75, label='sin(x)')\n",
    "#ax.plot(x, 0.1*x**3, linewidth=2, alpha=0.75, label=r'$0.1 x^3$')\n",
    "#ax.plot(x, y**2, linestyle='--', linewidth=2, alpha=0.75, label=r'$\\sin^2(x)$')\n",
    "#ax.plot(x[::10], y[::10]-1, linestyle='none', marker='x', markersize=10, label='cruces')\n",
    "#ax.plot(x[::20], x[::20], linestyle='none', marker='d', markersize=10, \n",
    "#        markerfacecolor='r', markeredgecolor='k', markeredgewidth=2, label='diamantes')\n",
    "\n",
    "# Lineas: -, --, -., :\n",
    "# Markers: .,o,x,d,s,1,2,3,4\n",
    "\n",
    "# Texto para ejes y título\n",
    "#ax.set_xlabel('Tiempo', fontsize=14, fontname='serif', color=\"green\")\n",
    "#ax.set_ylabel('Amplitud')\n",
    "#ax.set_title('Mis primeros pasos en matplotlib')\n",
    "\n",
    "# Límites de los ejes\n",
    "# ax.axis('tight')  # Opción por defecto\n",
    "#ax.axis('equal')\n",
    "#ax.set_xlim([-2., 2.])\n",
    "#ax.set_ylim([-1.5, 1.5])\n",
    "#ax.xaxis.set_ticks_position('top')\n",
    "#ax.yaxis.set_ticks_position('right')\n",
    "\n",
    "# Ticks de los ejes\n",
    "#ax.set_yticks([-1, 0, 1])\n",
    "#ax.set_xticks([-1, 0, 1])\n",
    "#ax.set_xticklabels([r'$-2\\pi$', 0, r'$2\\pi$'])\n",
    "ax.xaxis.set_major_locator(mpl.ticker.MultipleLocator(1))\n",
    "ax.xaxis.set_minor_locator(mpl.ticker.MultipleLocator(0.5))\n",
    "#for label in ax.get_xticklabels():\n",
    "#    label.set_color(\"blue\")\n",
    "\n",
    "# Grilla\n",
    "#ax.grid(color=\"red\", which=\"major\", axis='both', linestyle=':', linewidth=0.5)\n",
    "\n",
    "# Leyenda\n",
    "#ax.legend(loc=3, ncol=1\n",
    "#ax.legend(loc=1, ncol=3, bbox_to_anchor=(1, 1.15))\n",
    "\n",
    "# Desplazando y eliminando las lineas de los ejes\n",
    "# ax.spines['right'].set_color('none')\n",
    "#ax.spines['top'].set_color('none')\n",
    "#ax.spines['bottom'].set_position(('data', 0))\n",
    "#ax.spines['left'].set_position(('data', 0))\n"
   ]
  },
  {
   "cell_type": "markdown",
   "metadata": {},
   "source": [
    "Creando un eje en una posición específica de la figura"
   ]
  },
  {
   "cell_type": "code",
   "execution_count": null,
   "metadata": {},
   "outputs": [],
   "source": [
    "fig = plt.figure(figsize=(7, 4), facecolor='w')\n",
    "\n",
    "left, bottom, width, height = 0.2, 0.1, 0.5, 0.8\n",
    "ax = fig.add_axes([0.1, 0.1, 0.8, 0.8], facecolor=\"#f1f1f1\")\n",
    "ax.plot(x, y*np.exp(-x**2))\n",
    "ax.set_ylim([-1, 2])\n",
    "ax2 = fig.add_axes([0.48, 0.68, 0.4, 0.2], facecolor='none')\n",
    "ax2.plot(x, y)\n",
    "ax2.plot(x, np.exp(-x**2))\n"
   ]
  },
  {
   "cell_type": "markdown",
   "metadata": {},
   "source": [
    "Creando y posicionando múltiples ejes en una misma figura"
   ]
  },
  {
   "cell_type": "code",
   "execution_count": null,
   "metadata": {},
   "outputs": [],
   "source": [
    "fig, ax = plt.subplots(nrows=2, ncols=2, figsize=(7, 4), \n",
    "                       sharex=False, sharey=False, tight_layout=True)\n",
    "\n",
    "for i in range(2):\n",
    "    for j in range(2):\n",
    "        ax[i, j].plot(x, y**i + x**j, linewidth=2)\n",
    "        ax[i, j].set_title(2*i+j)"
   ]
  },
  {
   "cell_type": "markdown",
   "metadata": {},
   "source": [
    "Mayor control creando una grilla de ejes usando `gridspec`"
   ]
  },
  {
   "cell_type": "code",
   "execution_count": null,
   "metadata": {},
   "outputs": [],
   "source": [
    "fig = plt.figure(figsize=(7, 4), facecolor='w', tight_layout=True)\n",
    "\n",
    "gs = mpl.gridspec.GridSpec(4, 4)\n",
    "\n",
    "ax = fig.add_subplot(gs[0, 0])\n",
    "ax.plot(x, y); ax.set_title('0')\n",
    "ax = fig.add_subplot(gs[1:, 0])\n",
    "ax.plot(x, y); ax.set_title('1')\n",
    "ax = fig.add_subplot(gs[0:2, 1:])\n",
    "ax.plot(x, y); ax.set_title('2')\n",
    "ax = fig.add_subplot(gs[2:4, 1:3])\n",
    "ax.plot(x, y); ax.set_title('3')\n",
    "ax = fig.add_subplot(gs[2:4, 3])\n",
    "ax.plot(x, y); ax.set_title('4')"
   ]
  },
  {
   "cell_type": "markdown",
   "metadata": {},
   "source": [
    "Graficando en escala logarítmica"
   ]
  },
  {
   "cell_type": "code",
   "execution_count": null,
   "metadata": {},
   "outputs": [],
   "source": [
    "fig, ax = plt.subplots(figsize=(7, 4), tight_layout=True, facecolor='w')\n",
    "\n",
    "x = np.linspace(0, 10, num=20)\n",
    "ax.grid()\n",
    "\n",
    "ax.plot(x, np.exp(x))\n",
    "#ax.set_yscale('linear')\n",
    "\n",
    "#ax.semilogy(x, np.exp(x))\n",
    "#ax.loglog(x, np.exp(x))"
   ]
  },
  {
   "cell_type": "markdown",
   "metadata": {},
   "source": [
    "Dos ejes de ordenadas independientes compartiendo el mismo eje de abscisas"
   ]
  },
  {
   "cell_type": "code",
   "execution_count": null,
   "metadata": {},
   "outputs": [],
   "source": [
    "fig, ax = plt.subplots(figsize=(7, 4), tight_layout=True, facecolor='w')\n",
    "ax.grid()\n",
    "ax.semilogy(x, np.exp(x), c='green')\n",
    "ax.set_ylabel(r'$e^x$', color=\"green\")\n",
    "\n",
    "#ax2 = ax.twinx()\n",
    "#ax2.plot(x, x**2, c='red')\n",
    "#ax2.set_ylabel(r'$x^2$', color=\"red\")"
   ]
  },
  {
   "cell_type": "markdown",
   "metadata": {},
   "source": [
    "Anotaciones en un gráfico"
   ]
  },
  {
   "cell_type": "code",
   "execution_count": null,
   "metadata": {},
   "outputs": [],
   "source": [
    "fig, ax = plt.subplots(figsize=(7, 4), tight_layout=True, facecolor='w')\n",
    "ax.grid()\n",
    "x = np.linspace(-5, 5, num=101)\n",
    "ax.plot(x, np.exp(-x**2), c='blue')\n",
    "\n",
    "ax.text(4, 0.1, \"acá vale: {0:0.2e}\".format(np.exp(-16)), fontsize=14, color='blue', family=\"serif\", rotation=0)\n",
    "ax.annotate('acá está el máximo', xy=(0, 1), xytext=(1, 1), fontsize=13, \n",
    "            arrowprops=dict(arrowstyle=\"<->\"))"
   ]
  },
  {
   "cell_type": "markdown",
   "metadata": {},
   "source": [
    "## Tipos de gráficos \n",
    "\n",
    "Hasta ahora sólo hemos usado la función `plot` para crear lineas. \n",
    "\n",
    "Existen otras opciones para crear gráficas a partir de funciones con variable independiente unidimensional\n",
    "\n",
    "- Linea con barras de error con `errorbar`\n",
    "- Rangos de datos con `fill_between`\n",
    "- Lineas sobrepuestas con `stackplot`\n",
    "- Barras con `bar` y `hist`\n",
    "- Cajas con `boxplot`\n",
    "\n"
   ]
  },
  {
   "cell_type": "code",
   "execution_count": null,
   "metadata": {},
   "outputs": [],
   "source": [
    "fig, ax = plt.subplots(figsize=(7, 4), tight_layout=True, facecolor='w')\n",
    "ax.grid()\n",
    "x = np.linspace(-2, 2, num=21)\n",
    "ax.errorbar(x=x, y=np.sin(2.0*np.pi*x)*np.exp(-x**2), xerr=0.1, yerr=np.exp(-x**2/0.4), \n",
    "            fmt='.', elinewidth=None, ecolor=None, capsize=None)"
   ]
  },
  {
   "cell_type": "code",
   "execution_count": null,
   "metadata": {},
   "outputs": [],
   "source": [
    "fig, ax = plt.subplots(figsize=(7, 4), tight_layout=True, facecolor='w')\n",
    "ax.grid()\n",
    "x = np.linspace(-2, 2, num=101)\n",
    "ax.plot(x, np.sin(2.0*np.pi*x)*np.exp(-x**2))\n",
    "ax.fill_between(x=x, y1=np.sin(2.0*np.pi*x)*np.exp(-x**2)- 1, \n",
    "                y2=np.sin(2.0*np.pi*x)*np.exp(-x**2) +1, alpha=0.5)"
   ]
  },
  {
   "cell_type": "code",
   "execution_count": null,
   "metadata": {},
   "outputs": [],
   "source": [
    "fig, ax = plt.subplots(figsize=(7, 4), tight_layout=True, facecolor='w')\n",
    "ax.grid()\n",
    "x = np.linspace(-4, 4, num=101)\n",
    "ax.stackplot(x, np.exp(-x**2), np.exp(-x**2), np.exp(-np.abs(x)), alpha=0.5);"
   ]
  },
  {
   "cell_type": "code",
   "execution_count": null,
   "metadata": {},
   "outputs": [],
   "source": [
    "fig, ax = plt.subplots(figsize=(7, 4), tight_layout=True, facecolor='w')\n",
    "\n",
    "data = np.random.randn(500, 2)\n",
    "ax.hist(data, bins=None, range=None, density=None, weights=None, \n",
    "        histtype='bar', color=None);\n",
    "\n",
    "# histype={'bar', 'barstacked', 'step',  'stepfilled'}"
   ]
  },
  {
   "cell_type": "code",
   "execution_count": null,
   "metadata": {},
   "outputs": [],
   "source": [
    "fig, ax = plt.subplots(figsize=(7, 4), tight_layout=True, facecolor='w')\n",
    "\n",
    "np.random.seed(0)\n",
    "ax.bar(x=np.arange(0, 10), height=np.random.randn(10), \n",
    "       width=0.8, bottom=0, align='center',\n",
    "       color=None, edgecolor=None, linewidth=None, xerr=None, yerr=None);\n",
    "\n",
    "# align = {'center', 'edge'}"
   ]
  },
  {
   "cell_type": "code",
   "execution_count": null,
   "metadata": {},
   "outputs": [],
   "source": [
    "fig, ax = plt.subplots(figsize=(7, 4), tight_layout=True, facecolor='w')\n",
    "\n",
    "# Linea naranja: media\n",
    "# Caja: Menor y Mayor Cuartil\n",
    "# Bigotes: Rango calculado a partir de los cuartiles\n",
    "# Pelotas: Puntos fuera del rango\n",
    "data = np.random.randn(100, 3)\n",
    "#print(np.percentile(data, q=25, axis=0))\n",
    "ax.boxplot(data, notch=False, sym='o', \n",
    "           showmeans=None, showcaps=None, showbox=None);"
   ]
  },
  {
   "cell_type": "markdown",
   "metadata": {},
   "source": [
    "- Nubes de puntos con `scatter`"
   ]
  },
  {
   "cell_type": "code",
   "execution_count": null,
   "metadata": {},
   "outputs": [],
   "source": [
    "fig, ax = plt.subplots(1, 2, figsize=(7, 3), tight_layout=True, facecolor='w')\n",
    "\n",
    "\n",
    "ax[0].scatter(x=data[:, 0], y=data[:, 1], \n",
    "           marker=None, s=None, c=None, alpha=1.)\n",
    "\n",
    "# El tamañó y el color pueden especificarse \"por punto\"\n",
    "ax[1].scatter(x=data[:, 0], y=data[:, 1], \n",
    "              s=np.random.randint(20, size=len(data)),\n",
    "              c=np.random.randint(10, size=len(data)), cmap=plt.cm.Set2, alpha=0.8)"
   ]
  },
  {
   "cell_type": "code",
   "execution_count": null,
   "metadata": {},
   "outputs": [],
   "source": [
    "fig, ax = plt.subplots(figsize=(7, 4), tight_layout=True, facecolor='w')\n",
    "\n",
    "ax.scatter(x=data[:, 0], y=data[:, 1], \n",
    "           marker=None, s=None, c=None, alpha=1.)"
   ]
  },
  {
   "cell_type": "markdown",
   "metadata": {},
   "source": [
    "Para visualizar funciones que varían en dos variables independientes podemos usar **Mapas de colores**\n",
    "- `contour` y `contourf`\n",
    "- `pcolor`\n",
    "- `matshow` y `imshow`\n",
    "\n",
    "\n",
    "En los mapas de colores la variable dependiente (altura) se codifica como una escala de color\n",
    "\n",
    "[Matplotlib](https://matplotlib.org/examples/color/colormaps_reference.html) ofrece muchas escalas de tipo gradiente, divergentes y categóricas"
   ]
  },
  {
   "cell_type": "code",
   "execution_count": null,
   "metadata": {},
   "outputs": [],
   "source": [
    "scale = np.tile(np.linspace(0, 1, num=256), (20, 1))\n",
    "fig, ax = plt.subplots(3, figsize=(7, 3), tight_layout=True)\n",
    "for ax_, cmap_ in zip(ax, [plt.cm.Reds, plt.cm.RdBu, plt.cm.Accent]):\n",
    "    ax_.imshow(scale, cmap=cmap_)\n",
    "    ax_.axis('off')\n"
   ]
  },
  {
   "cell_type": "code",
   "execution_count": null,
   "metadata": {},
   "outputs": [],
   "source": [
    "# \"Pretty-print\" de arreglos numpy\n",
    "np.set_printoptions(precision=2)\n",
    "# Creando una grilla bidimensional\n",
    "x = np.linspace(-3, 3, num=10)\n",
    "X, Y = np.meshgrid(x, x)\n",
    "print(X)\n",
    "print(Y)"
   ]
  },
  {
   "cell_type": "code",
   "execution_count": null,
   "metadata": {},
   "outputs": [],
   "source": [
    "# Creando una gráfica de \"altura\"\n",
    "Z = np.exp(-0.5*(X-1)**2 - 0.5*(Y+1)**2) + np.exp(-0.5*(X+1)**2 -0.5*(Y-1)**2)\n",
    "\n",
    "fig, ax = plt.subplots(figsize=(7, 4))\n",
    "cplot = ax.contourf(X, Y, Z, levels=None,\n",
    "                    cmap=plt.cm.Reds, vmin=None, vmax=None, \n",
    "                    linewidths=None, linestyles='solid')\n",
    "fig.colorbar(mappable=cplot, ax=ax, orientation='vertical', pad=0.05)"
   ]
  },
  {
   "cell_type": "code",
   "execution_count": null,
   "metadata": {},
   "outputs": [],
   "source": [
    "# Creando una gráfica de \"altura\"\n",
    "Z = np.exp(-0.5*(X-1)**2 - 0.5*(Y+1)**2) + np.exp(-0.5*(X+1)**2 -0.5*(Y-1)**2)\n",
    "\n",
    "fig, ax = plt.subplots(figsize=(7, 4))\n",
    "cplot = ax.contourf(X, Y, Z, levels=6, cmap=plt.cm.Reds)\n",
    "fig.colorbar(mappable=cplot, ax=ax, orientation='vertical', pad=0.05)\n",
    "cplot = ax.contour(X, Y, Z, levels=6, colors='k', linewidths=2, linestyles='solid')\n",
    "ax.clabel(cplot, colors='k', fontsize=10)"
   ]
  },
  {
   "cell_type": "code",
   "execution_count": null,
   "metadata": {},
   "outputs": [],
   "source": [
    "Z = np.exp(-0.5*(X-1)**2 - 0.5*(Y+1)**2) + np.exp(-0.5*(X+1)**2 -0.5*(Y-1)**2)\n",
    "\n",
    "fig, ax = plt.subplots(figsize=(7, 4))\n",
    "cplot = ax.pcolor(X, Y, Z, \n",
    "                  cmap=plt.cm.Reds, vmin=None, vmax=None)\n",
    "fig.colorbar(mappable=cplot, ax=ax, orientation='vertical', pad=0.05)"
   ]
  },
  {
   "cell_type": "code",
   "execution_count": null,
   "metadata": {},
   "outputs": [],
   "source": [
    "Z = np.random.randint(255, size=(20, 20))\n",
    "\n",
    "fig, ax = plt.subplots(figsize=(7, 4), tight_layout=True, facecolor='w')\n",
    "cplot = ax.matshow(Z, cmap=plt.cm.Greys_r, interpolation='none')\n",
    "fig.colorbar(cplot)\n",
    "\n",
    "# interpolation = {'none', 'bilinear', 'bicubic', 'gaussian', 'lanczos'}"
   ]
  },
  {
   "cell_type": "code",
   "execution_count": null,
   "metadata": {},
   "outputs": [],
   "source": [
    "img = plt.imread('valdivia.png')\n",
    "fig, ax = plt.subplots(figsize=(7, 5))\n",
    "ax.imshow(img)"
   ]
  },
  {
   "cell_type": "markdown",
   "metadata": {},
   "source": [
    "Otra opción para visualizar este tipo de funciones es usar gráficos 3D\n",
    "\n",
    "- Notemos que es necesario importar el módulo `Axes3D`\n",
    "- Luego podemos usar \n",
    "    - `plot_surface`\n",
    "    - `contour`, `contourf`\n",
    "    - `plot_wireframe`"
   ]
  },
  {
   "cell_type": "code",
   "execution_count": null,
   "metadata": {},
   "outputs": [],
   "source": [
    "from mpl_toolkits.mplot3d.axes3d import Axes3D\n",
    "fig, ax = plt.subplots(figsize=(7, 4), subplot_kw={'projection': '3d'})\n",
    "x = np.linspace(-3, 3, num=10)\n",
    "X, Y = np.meshgrid(x, x)\n",
    "Z = np.exp(-0.5*(X-1)**2 - 0.5*(Y+1)**2) + np.exp(-0.5*(X+1)**2 -0.5*(Y-1)**2)\n",
    "cplot = ax.plot_surface(X, Y, Z, cmap=plt.cm.Reds)\n",
    "fig.colorbar(cplot)"
   ]
  },
  {
   "cell_type": "markdown",
   "metadata": {},
   "source": [
    "El módulo `Axes3D` puede usarse también para hacer líneas y nubes de puntos en 3D a partir de arreglos unidimensionales (vértices)"
   ]
  },
  {
   "cell_type": "code",
   "execution_count": null,
   "metadata": {},
   "outputs": [],
   "source": [
    "fig, ax = plt.subplots(figsize=(7, 4), subplot_kw={'projection': '3d'})\n",
    "\n",
    "N = 100\n",
    "rho = np.linspace(0, 2, num=N)\n",
    "phi = np.linspace(0, 20, num=N)\n",
    "\n",
    "ax.plot(rho*np.cos(phi), rho*np.sin(phi), np.linspace(0, 2, num=N))\n",
    "# ax.scatter(rho*np.cos(phi), rho*np.sin(phi), np.linspace(0, 2, num=N))"
   ]
  },
  {
   "cell_type": "markdown",
   "metadata": {},
   "source": [
    "## Configurando dinamicamente opciones generales de matplotlib\n",
    "\n",
    "Matplotlib mantiene un diccionario llamado rcParams\n",
    "\n",
    "Si hay opciones que siempre vamos a ocupar conviene escribirlas aquí"
   ]
  },
  {
   "cell_type": "code",
   "execution_count": null,
   "metadata": {},
   "outputs": [],
   "source": [
    "print(mpl.rcParams)\n",
    "mpl.rcParams['axes.grid'] = True\n",
    "mpl.rcParams['axes.linewidth'] = 2\n",
    "mpl.rcParams['lines.linewidth'] = 4\n",
    "mpl.rcParams['font.size'] = 12\n",
    "mpl.rcParams['lines.marker'] = 'd'\n",
    "mpl.rcParams['lines.markersize'] = 20\n",
    "\n",
    "x = np.arange(10)\n",
    "plt.figure()\n",
    "plt.plot(x, x**2)"
   ]
  },
  {
   "cell_type": "markdown",
   "metadata": {},
   "source": [
    "## ¿Cómo hacer buenas visualizaciones?\n",
    "\n",
    "\n",
    "\n",
    "- https://informationisbeautiful.net/visualizations/\n",
    "- https://bokeh.pydata.org/en/latest/docs/gallery.html"
   ]
  },
  {
   "cell_type": "markdown",
   "metadata": {},
   "source": [
    "## Más allá de matplotlib\n",
    "\n",
    "- [Bokeh](https://bokeh.pydata.org/en/latest/) y [Dash](https://dash.plot.ly/installation): Visualizaciónes con foco en la interactividad\n",
    "- [Datashader](http://datashader.org/) Visualización con foco en grandes volúmenes de datos\n",
    "- [Vispy](http://vispy.org/): Visualización aceleradas por GPU basadas en OpenGL\n",
    "    "
   ]
  }
 ],
 "metadata": {
  "kernelspec": {
   "display_name": "Python 3",
   "language": "python",
   "name": "python3"
  },
  "language_info": {
   "codemirror_mode": {
    "name": "ipython",
    "version": 3
   },
   "file_extension": ".py",
   "mimetype": "text/x-python",
   "name": "python",
   "nbconvert_exporter": "python",
   "pygments_lexer": "ipython3",
   "version": "3.7.3"
  }
 },
 "nbformat": 4,
 "nbformat_minor": 2
}
