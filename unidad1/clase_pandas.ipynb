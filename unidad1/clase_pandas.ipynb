{
 "cells": [
  {
   "cell_type": "markdown",
   "metadata": {},
   "source": [
    "# Procesamiento de datos con [*pandas*](https://pandas.pydata.org/)\n",
    "\n",
    "\n",
    "Es una librería para **leer, manipular y procesar datos** con lenguaje Python \n",
    "\n",
    "Pandas provee\n",
    "- Dos estructuras de datos *Dataframe* y *Series*\n",
    "- Herramientas eficientes de análisis de datos que trabajan sobre estas estructuras\n",
    "\n",
    "Pandas se combina bien con NumPy y Matplotlib \n",
    "\n",
    "Instala pandas si aun no lo haz hecho:\n",
    "\n",
    "    conda install pandas\n",
    "    \n",
    "    pip install pandas --user\n",
    "    \n",
    "    sudo pacman -S python-pandas"
   ]
  },
  {
   "cell_type": "code",
   "execution_count": null,
   "metadata": {},
   "outputs": [],
   "source": [
    "import pandas as pd\n",
    "print(\"Versión de pandas \"+pd.__version__)\n",
    "import numpy as np\n",
    "%matplotlib notebook\n",
    "import matplotlib.pyplot as plt"
   ]
  },
  {
   "cell_type": "markdown",
   "metadata": {},
   "source": [
    "## Estructuras de datos de pandas\n",
    "\n",
    "- *Series* se usa para representar secuencias: Una columna de datos\n",
    "- *Dataframe* se usa para representar tablas: Múltiples columnas de datos\n",
    "- Las filas y las columnas están etiquetadas\n",
    "- La etiqueta de las filas se llama **indice**\n",
    "- Por defecto el índice es número entero que parte de cero pero podemos especificarlo como queramos\n",
    "- Estas estructuras pueden soportan múltiples tipos y NaNs (missing data)\n",
    "\n",
    "Por ejemplo una [serie](https://pandas.pydata.org/pandas-docs/stable/reference/api/pandas.Series.html):"
   ]
  },
  {
   "cell_type": "code",
   "execution_count": null,
   "metadata": {},
   "outputs": [],
   "source": [
    "s = pd.Series([\"asd\", 4521, 24.2142])\n",
    "print(s)\n",
    "print([type(x) for x in s])\n",
    "s = pd.Series([3.124, 5.124, 2.1416, 10.])\n",
    "print(s)\n",
    "print([type(x) for x in s])"
   ]
  },
  {
   "cell_type": "code",
   "execution_count": null,
   "metadata": {},
   "outputs": [],
   "source": [
    "# Atributos index y values\n",
    "print(s.index)\n",
    "print(s.values)"
   ]
  },
  {
   "cell_type": "code",
   "execution_count": null,
   "metadata": {},
   "outputs": [],
   "source": [
    "# Soporta slicing e indexación con arreglo de índices\n",
    "print(s[0:2])\n",
    "print(s[-2:])\n",
    "print(s[[0, 2, 1, 3]])"
   ]
  },
  {
   "cell_type": "markdown",
   "metadata": {},
   "source": [
    "El índice no tiene que ser númerico\n",
    "\n",
    "Idealmente el índice debería ser informativo por si mismo, por ejemplo:"
   ]
  },
  {
   "cell_type": "code",
   "execution_count": null,
   "metadata": {},
   "outputs": [],
   "source": [
    "s = pd.Series([0.36, -0.31, -0.6, 0.0], \n",
    "              index=[\"AGUAS-A\", \"BSANTANDER\", \"CMPC\", \"ENTEL\"],\n",
    "              name='% variación')\n",
    "print(s)"
   ]
  },
  {
   "cell_type": "code",
   "execution_count": null,
   "metadata": {},
   "outputs": [],
   "source": [
    "# A diferencia de un diccionario de Python, la serie soporta slicing (tiene orden)\n",
    "print(s[\"BSANTANDER\":\"CMPC\"])\n",
    "# E indexación con otro arreglo\n",
    "print(s[[\"CMPC\", \"AGUAS-A\"]])"
   ]
  },
  {
   "cell_type": "code",
   "execution_count": null,
   "metadata": {},
   "outputs": [],
   "source": [
    "# Se puede construir una serie a partir de escalares, listas, diccioanrios y ndarray\n",
    "\n",
    "print(pd.Series(2.14159, index=np.arange(5)))\n",
    "\n",
    "print(pd.Series([4, 3, 2, 1, 0]))\n",
    "\n",
    "print(pd.Series(np.random.randn(5)))\n",
    "\n",
    "print(pd.Series({'Valdivia': 143207, 'Santiago': 5614000}))"
   ]
  },
  {
   "cell_type": "markdown",
   "metadata": {},
   "source": [
    "¿Qué podemos hacer con la [serie](https://pandas.pydata.org/pandas-docs/stable/reference/api/pandas.Series.html)?"
   ]
  },
  {
   "cell_type": "code",
   "execution_count": null,
   "metadata": {},
   "outputs": [],
   "source": [
    "print(s)\n",
    "print(\"\\nReducciones y estadísticos:\")\n",
    "print(s.sum())\n",
    "print(s.cumsum().values)  # Suma acumulada\n",
    "print(s.mean())  # Media\n",
    "print(s.std())  # Desviación estándar\n",
    "print(s.quantile(q=0.5))  # Mediana\n",
    "print(s.min())\n",
    "print(s.idxmin())\n",
    "print(\"\\nOperaciones lógicas:\")\n",
    "print(s<0) # Equivalente a s.lt(0)\n",
    "print((s>-0.5) & (s<0.2))\n",
    "print(\"\\nResumen:\")\n",
    "print(s.describe())"
   ]
  },
  {
   "cell_type": "markdown",
   "metadata": {},
   "source": [
    "También podemos graficarlo"
   ]
  },
  {
   "cell_type": "code",
   "execution_count": null,
   "metadata": {},
   "outputs": [],
   "source": [
    "fig, ax = plt.subplots(figsize=(5, 5), tight_layout=True)\n",
    "s.plot(ax=ax, kind='bar')\n",
    "ax.set_ylabel(s.name);\n",
    "\n",
    "# kind = {line, bar, barh, hist, box, kde, area, pie}"
   ]
  },
  {
   "cell_type": "markdown",
   "metadata": {},
   "source": [
    "### Dataframe\n",
    "\n",
    "- Un *dataframe* es una tabla\n",
    "- Es un conjunto de *series* que comparten índice\n",
    "- Cada serie es una columna del *dataframe*\n",
    "\n",
    "Un dataframe se puede crear a partir de una serie"
   ]
  },
  {
   "cell_type": "code",
   "execution_count": null,
   "metadata": {},
   "outputs": [],
   "source": [
    "df = pd.DataFrame(s)\n",
    "df"
   ]
  },
  {
   "cell_type": "code",
   "execution_count": null,
   "metadata": {},
   "outputs": [],
   "source": [
    "# Atributos para acceder al índice de columna y fila\n",
    "print(df.columns)\n",
    "print(df.index)"
   ]
  },
  {
   "cell_type": "code",
   "execution_count": null,
   "metadata": {},
   "outputs": [],
   "source": [
    "# Atributos informativos\n",
    "print(df.dtypes)\n",
    "print(df.info())"
   ]
  },
  {
   "cell_type": "markdown",
   "metadata": {},
   "source": [
    "O más de una serie"
   ]
  },
  {
   "cell_type": "code",
   "execution_count": null,
   "metadata": {},
   "outputs": [],
   "source": [
    "s2 = pd.Series([1653, 3531, 5998, 1408], \n",
    "              index=[\"AGUAS-A\", \"BSANTANDER\", \"CMPC\", \"ENTEL\"],\n",
    "              name='Monto M$')\n",
    "df = pd.concat([s, s2], axis=1)\n",
    "df"
   ]
  },
  {
   "cell_type": "markdown",
   "metadata": {},
   "source": [
    "O una ndarray bidimensional"
   ]
  },
  {
   "cell_type": "code",
   "execution_count": null,
   "metadata": {},
   "outputs": [],
   "source": [
    "pd.DataFrame(np.eye(2), columns=[\"a\", \"b\"], index=[\"1\", \"2\"])"
   ]
  },
  {
   "cell_type": "markdown",
   "metadata": {},
   "source": [
    "O de una lista de diccionarios"
   ]
  },
  {
   "cell_type": "code",
   "execution_count": null,
   "metadata": {},
   "outputs": [],
   "source": [
    "pd.DataFrame([{'nombre': nombre, 'apellido': apellido} for nombre, apellido in zip([\"pablo\", \"fulano\"], [\"huijse\", \"de tal\"])])"
   ]
  },
  {
   "cell_type": "markdown",
   "metadata": {},
   "source": [
    "Podemos recuperar una columna completa con"
   ]
  },
  {
   "cell_type": "code",
   "execution_count": null,
   "metadata": {},
   "outputs": [],
   "source": [
    "print(df[\"Monto M$\"])\n",
    "print(df[\"% variación\"])"
   ]
  },
  {
   "cell_type": "markdown",
   "metadata": {},
   "source": [
    "Podemos recuperar una fila completa usando el atributo `loc` o `iloc`"
   ]
  },
  {
   "cell_type": "code",
   "execution_count": null,
   "metadata": {},
   "outputs": [],
   "source": [
    "print(df.loc[\"CMPC\"])\n",
    "print(df.loc[[\"CMPC\", \"AGUAS-A\"]])\n",
    "print(df.loc[\"AGUAS-A\":\"CMPC\"])"
   ]
  },
  {
   "cell_type": "code",
   "execution_count": null,
   "metadata": {},
   "outputs": [],
   "source": [
    "print(df.iloc[2])\n",
    "print(df.iloc[[2, 0]])\n",
    "print(df.iloc[:3])"
   ]
  },
  {
   "cell_type": "code",
   "execution_count": null,
   "metadata": {},
   "outputs": [],
   "source": [
    "df.loc[\"CMPC\"][\"Monto M$\"]"
   ]
  },
  {
   "cell_type": "code",
   "execution_count": null,
   "metadata": {},
   "outputs": [],
   "source": [
    "df[\"Monto M$\"].loc[\"CMPC\"]"
   ]
  }
 ],
 "metadata": {
  "kernelspec": {
   "display_name": "Python 3",
   "language": "python",
   "name": "python3"
  },
  "language_info": {
   "codemirror_mode": {
    "name": "ipython",
    "version": 3
   },
   "file_extension": ".py",
   "mimetype": "text/x-python",
   "name": "python",
   "nbconvert_exporter": "python",
   "pygments_lexer": "ipython3",
   "version": "3.7.2"
  }
 },
 "nbformat": 4,
 "nbformat_minor": 2
}
