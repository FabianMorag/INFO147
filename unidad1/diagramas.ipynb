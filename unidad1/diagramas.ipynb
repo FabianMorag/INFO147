{
 "cells": [
  {
   "cell_type": "code",
   "execution_count": null,
   "metadata": {},
   "outputs": [],
   "source": [
    "from IPython.display import SVG"
   ]
  },
  {
   "cell_type": "code",
   "execution_count": null,
   "metadata": {},
   "outputs": [],
   "source": [
    "%%file img/intro.diag\n",
    "blockdiag {\n",
    "    #orientation = portrait\n",
    "    default_fontsize = 12; \n",
    "    A [label=\"Jupyter\"]\n",
    "    B [label=\"IPython\"]\n",
    "    C [label=\"NumPy/pandas/Scipy\"]\n",
    "    D [label=\"BLAS/LAPACK/MKL\"]\n",
    "    A -> B \n",
    "    B -> C \n",
    "    C -> D [style = \"dashed\"]\n",
    "\n",
    "}"
   ]
  },
  {
   "cell_type": "code",
   "execution_count": null,
   "metadata": {},
   "outputs": [],
   "source": [
    "!~/.local/bin/blockdiag -Tsvg img/intro.diag"
   ]
  },
  {
   "cell_type": "code",
   "execution_count": null,
   "metadata": {},
   "outputs": [],
   "source": [
    "SVG(\"img/intro.svg\")"
   ]
  },
  {
   "cell_type": "code",
   "execution_count": null,
   "metadata": {},
   "outputs": [],
   "source": [
    "%%file img/groupby.diag\n",
    "blockdiag {\n",
    "    #orientation = portrait\n",
    "    default_fontsize = 14; \n",
    "    A [label=\"SPLIT\"]\n",
    "    B [label=\"APPLY\"]\n",
    "    C [label=\"COMBINE\"]\n",
    "    A -> B \n",
    "    B -> C \n",
    "    group {\n",
    "          color = \"#CCCCCC\";\n",
    "          fontsize = 20;\n",
    "          \n",
    "          A -> B;\n",
    "          B -> C; \n",
    "      }\n",
    "\n",
    "}"
   ]
  },
  {
   "cell_type": "code",
   "execution_count": null,
   "metadata": {},
   "outputs": [],
   "source": [
    "!~/.local/bin/blockdiag -Tsvg img/groupby.diag"
   ]
  },
  {
   "cell_type": "code",
   "execution_count": null,
   "metadata": {},
   "outputs": [],
   "source": [
    "SVG(\"img/groupby.svg\")"
   ]
  },
  {
   "cell_type": "code",
   "execution_count": null,
   "metadata": {},
   "outputs": [],
   "source": []
  }
 ],
 "metadata": {
  "kernelspec": {
   "display_name": "Python 3",
   "language": "python",
   "name": "python3"
  },
  "language_info": {
   "codemirror_mode": {
    "name": "ipython",
    "version": 3
   },
   "file_extension": ".py",
   "mimetype": "text/x-python",
   "name": "python",
   "nbconvert_exporter": "python",
   "pygments_lexer": "ipython3",
   "version": "3.7.3"
  }
 },
 "nbformat": 4,
 "nbformat_minor": 2
}
