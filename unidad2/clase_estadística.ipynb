{
 "cells": [
  {
   "cell_type": "code",
   "execution_count": null,
   "metadata": {},
   "outputs": [],
   "source": [
    "%%HTML\n",
    "<!-- Mejorar visualización en proyector -->\n",
    "<style>\n",
    ".rendered_html {font-size: 1.2em; line-height: 150%;}\n",
    "div.prompt {min-width: 0ex; padding: 0px;}\n",
    ".container {width:95% !important;}\n",
    "</style>"
   ]
  },
  {
   "cell_type": "code",
   "execution_count": 1,
   "metadata": {},
   "outputs": [
    {
     "data": {
      "application/javascript": [
       "IPython.notebook.set_autosave_interval(0)"
      ]
     },
     "metadata": {},
     "output_type": "display_data"
    },
    {
     "name": "stdout",
     "output_type": "stream",
     "text": [
      "Autosave disabled\n"
     ]
    }
   ],
   "source": [
    "%autosave 0\n",
    "%matplotlib notebook\n",
    "import numpy as np\n",
    "import matplotlib.pyplot as plt\n",
    "from IPython.display import display\n",
    "from matplotlib import animation\n",
    "import ipywidgets as widgets\n",
    "from functools import partial\n",
    "slider_layout = widgets.Layout(width='600px', height='20px')\n",
    "slider_style = {'description_width': 'initial'}\n",
    "IntSlider_nice = partial(widgets.IntSlider, style=slider_style, layout=slider_layout, continuous_update=False)\n",
    "SelSlider_nice = partial(widgets.SelectionSlider, style=slider_style, layout=slider_layout, continuous_update=False)"
   ]
  },
  {
   "cell_type": "markdown",
   "metadata": {},
   "source": [
    "# Estadística\n",
    "\n",
    "> Disciplina científicaEs una colección de métodos que utilizan datos para responder preguntas\n",
    "\n",
    "> Busca entender fenómenos complejos a partir de observaciones parciales e inciertas\n",
    "\n",
    "> Inferir la probabilidad de un fenomeno aleatorio basándonos en observaciones (datos)\n",
    "\n",
    "> Disciplina científica dedicada al desarrollo y estudio de métodos para recopilar, analizar e interpretar a partir de datos\n",
    "\n",
    "> Aprendizaje estadística $\\equiv$ Machine Learning\n",
    "\n",
    "Conceptos fundamentales\n",
    "\n",
    "- Incerteza\n",
    "- Variación\n",
    "\n",
    "\n",
    "https://machinelearningmastery.com/what-is-statistics/\n",
    "\n",
    "https://www.sscc.edu/home/jdavidso/MathAdvising/AboutStatistics.html\n",
    "\n",
    "https://elearningindustry.com/stats-101-need-know-statistics\n",
    "\n",
    "https://towardsdatascience.com/statistics-descriptive-and-inferential-63661eb13bb5"
   ]
  },
  {
   "cell_type": "markdown",
   "metadata": {},
   "source": [
    "- Fundamentos: Ley de los grandes números y teorema central del límite\n",
    "- Números aleatorios\n",
    "- Métodos no parámetros: Histograma y KDE\n",
    "- Métodos parámetricos"
   ]
  }
 ],
 "metadata": {
  "kernelspec": {
   "display_name": "Python 3",
   "language": "python",
   "name": "python3"
  },
  "language_info": {
   "codemirror_mode": {
    "name": "ipython",
    "version": 3
   },
   "file_extension": ".py",
   "mimetype": "text/x-python",
   "name": "python",
   "nbconvert_exporter": "python",
   "pygments_lexer": "ipython3",
   "version": "3.7.3"
  }
 },
 "nbformat": 4,
 "nbformat_minor": 2
}
