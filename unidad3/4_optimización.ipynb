{
 "cells": [
  {
   "cell_type": "code",
   "execution_count": null,
   "metadata": {},
   "outputs": [],
   "source": [
    "%%HTML\n",
    "<!-- Mejorar visualización en proyector -->\n",
    "<style>\n",
    ".rendered_html {font-size: 1.2em; line-height: 150%;}\n",
    "div.prompt {min-width: 0ex; padding: 0px;}\n",
    ".container {width:95% !important;}\n",
    "</style>"
   ]
  },
  {
   "cell_type": "code",
   "execution_count": null,
   "metadata": {},
   "outputs": [],
   "source": [
    "%autosave 0\n",
    "%matplotlib notebook\n",
    "import numpy as np\n",
    "import matplotlib.pyplot as plt\n",
    "from IPython.display import display\n",
    "from functools import partial"
   ]
  },
  {
   "cell_type": "markdown",
   "metadata": {},
   "source": [
    "# ¿Qué es la optimización de códigos/software?\n",
    "\n",
    "Se refiere a modificar una rutina computacional para mejorar su eficiencia, es decir reducir sus\n",
    "\n",
    "1. Tiempos de ejecución\n",
    "1. Consumo de recursos \n",
    "\n",
    "El aspecto que se intenta modificar es aquel que limita nuestro programa, por ejemplo\n",
    "- limitado en CPU (compute-bound)\n",
    "- limitado en memoria (memory-bound)\n",
    "- limitado en ancho de banda (bandwidth-bound)\n",
    "- limitado en entrada/salida (I/O bound)\n",
    "\n",
    "En el ámbito de la computación científica lo más común es enfrentar programas que están **límitados en CPU**, es decir \n",
    "- programas que utilizan la mayor parte de su tiempo haciendo cálculos\n",
    "- programas que tendrían un mayor rendimiento simplemente corriendo con un CPU más rápido\n",
    "\n",
    "### Trade-offs\n",
    "\n",
    "En ciertos casos podemos disminuir el tiempo de ejecución de una rutina incrementando el uso de memoria \n",
    "\n",
    "Esto podría convertir un programa que es limitado en CPU a uno que es limitado en memoria\n",
    "\n",
    "Siempre debemos tener en cuenta este posible *trade-off* e identificarlos mediante *profiling*\n"
   ]
  },
  {
   "cell_type": "markdown",
   "metadata": {},
   "source": [
    "## Un consejo antes de optimizar\n",
    "\n",
    "`Si:` \n",
    "\n",
    "    tu rutina está incompleta o no entrega el resultado esperado\n",
    "    \n",
    "`Entonces:`\n",
    "\n",
    "    No es momento de optimizar \n",
    "\n",
    "Dicho de otro modo, para casi cualquier rutina que escribamos deberíamos lograr \n",
    "1. que corra\n",
    "1. que retorne el resultado correcto\n",
    "1. que tenga un buen rendimiento\n",
    "\n",
    "La optimización está asociada al último punto y debe realizarse luego de los dos primeros\n",
    "\n",
    "Considera que optimizar puede \n",
    "- Hacer el código más complicado y menos legible \n",
    "- Introducir bugs\n",
    "- Tomar tiempo y bastante dedicación\n",
    "\n",
    "Por lo tanto debemos evitar optimizar de forma prematura\n",
    "\n",
    "> \"La optimización prematura es la raíz de todos los males\" - [Donald Knuth](http://wiki.c2.com/?PrematureOptimization)\n"
   ]
  },
  {
   "cell_type": "markdown",
   "metadata": {},
   "source": [
    "## Un consejo sobre que optimizar\n",
    "\n",
    "Evita gastar tiempo optimizando rutinas que influyan poco en el rendimiento total del programa\n",
    "\n",
    "La optimización debería concentrarse en las secciones más lentas y/o costosas\n",
    "\n",
    "Podemos encontrar dichas secciones haciendo un *profiling* de nuestro código"
   ]
  },
  {
   "cell_type": "markdown",
   "metadata": {},
   "source": [
    "\n",
    "# Python y rendimiento | Parte 2\n",
    "\n",
    "Python es un lenguaje versátil pero poco eficiente comparado a lenguajes de bajo nivel (C/Fortran)\n",
    "\n",
    "Esto puede ser perjudicial si queremos usar Python para procesar una base de datos extensa o entrenar un modelo con una gran cantidad de parámetros\n",
    "\n",
    "Sin embargo, lo que es numericamente costoso para un código escrito en \"Python puro\" no lo es tanto cuando usamos las librerías de cómputo científico que hemos visto en este curso \n",
    "\n",
    "Las funciones de **Numpy**, **Scipy** y **Pandas** son eficientes porque están basadas en rutinas escritas en lenguaje C y Fortran\n",
    "\n",
    "> La clave para lograr un alto rendimiento es usar adecuadamente las librerías\n",
    "\n",
    "Cuando usamos estas librerías estamos usando código compilado en lugar de interpretado \n",
    "\n",
    "> Existen maneras de conectar nuestro código Python con código compilado escrito en lenguaje C o Fortran\n",
    "\n",
    "En este clase veremos dos formas para mejorar el rendimiento de una rutina matemática arbitraria escrita en \"Python puro\":\n",
    "\n",
    "1. Vectorización: Cómputo basado en arreglos con `NumPy`\n",
    "1. Uniendo Python y C con `Cython`\n",
    "\n",
    "En la clase siguiente veremos como aprovechar las arquitecturas de CPU multi-nucleo con `Multiprocessing`\n",
    "\n",
    "Esto se enmarca en el contexto de **optimización de software**"
   ]
  },
  {
   "cell_type": "markdown",
   "metadata": {},
   "source": [
    "# Optimizando código escrito en Python\n",
    "\n",
    "Antes de optimizar \n",
    "\n",
    "**Python** es un lenguaje interpretado con tipos dinámicos. Esto hace que cada operación tenga un overhead.\n",
    "\n",
    "    z = x + y\n",
    "    # overhead: Inferir el tipo de x\n",
    "    # overhead: Inferir el tipo de y\n",
    "    # Hacer la operación suma\n",
    "    # overhead: Darle el tipo adecuado a z"
   ]
  },
  {
   "cell_type": "markdown",
   "metadata": {},
   "source": [
    "\n",
    "### 2. Haz buen uso de la sintaxis y funciones de Python\n",
    "\n",
    "https://ipython-books.github.io/51-knowing-python-to-write-faster-code/\n",
    "\n",
    "https://wiki.python.org/moin/PythonSpeed/PerformanceTips\n",
    "\n",
    "http://people.duke.edu/~ccc14/sta-663-2017/10A_CodeOptimization.html\n"
   ]
  },
  {
   "cell_type": "markdown",
   "metadata": {},
   "source": [
    "# Cómputo basado en arreglos con Numpy\n",
    "\n",
    "\n",
    "Getting good performance out of code utilizing NumPy is often straightforward, asarray operations typically replace otherwise comparatively extremely slow pure Pythonloops. Here is a brief list of some of the things to keep in mind:• Convert Python loops and conditional logic to array operations and boolean arrayoperations• Use broadcasting whenever possible• Avoid copying data using array views (slicing)• Utilize ufuncs and ufunc methods\n",
    "\n"
   ]
  },
  {
   "cell_type": "markdown",
   "metadata": {},
   "source": [
    "### Ejemplo: Vectorizando el cálculo del \"Set de Julia\"\n",
    "\n",
    "Consideremos el código en \"Python puro\" que vimos en la clase de *profiling*"
   ]
  },
  {
   "cell_type": "code",
   "execution_count": null,
   "metadata": {},
   "outputs": [],
   "source": [
    "def evaluate(zi, zr, maxiters=50, cr=-0.835, ci=-0.2321):\n",
    "    nit = 0\n",
    "    zi2 = zi**2\n",
    "    zr2 = zr**2\n",
    "    while zi2 + zr2 <= 4. and nit < maxiters:\n",
    "        zi = 2*zr*zi + ci\n",
    "        zr = zr2 - zi2 + cr\n",
    "        zr2 = zr**2\n",
    "        zi2 = zi**2 \n",
    "        nit +=1\n",
    "    return nit\n",
    "    \n",
    "def make_fractal(N, maxiters=50):\n",
    "    image = []\n",
    "    for i in range(N):\n",
    "        row = []\n",
    "        for j in range(2*N):\n",
    "            zi = -1.0 + i*2/N\n",
    "            zr = -2.0 + j*2/N\n",
    "            row.append(evaluate(zi, zr, maxiters))\n",
    "        image.append(row)\n",
    "    return image\n",
    "\n",
    "plt.figure(figsize=(8, 4), tight_layout=True)\n",
    "plt.gca().axis('off')\n",
    "plt.imshow(make_fractal(500));"
   ]
  },
  {
   "cell_type": "markdown",
   "metadata": {},
   "source": [
    "El tiempo total para calcular el fractal con una resolución de 500x1000 es"
   ]
  },
  {
   "cell_type": "code",
   "execution_count": null,
   "metadata": {},
   "outputs": [],
   "source": [
    "%timeit -r3 -n1 make_fractal(500)"
   ]
  },
  {
   "cell_type": "markdown",
   "metadata": {},
   "source": [
    "Estudiando el código nos damos cuenta que la función `evaluate` se ejecuta de forma secuencial para cada uno de los 500x1000 píxeles\n",
    "\n",
    "Si guardamos la imagen y los valores de $z$ como un `ndarray` podemos actualizar todos los pixeles \"al mismo tiempo\""
   ]
  },
  {
   "cell_type": "code",
   "execution_count": null,
   "metadata": {},
   "outputs": [],
   "source": [
    "def make_fractal_vectorized(N, maxiters=50):\n",
    "    image = np.zeros(shape=(N, 2*N), dtype=np.int64)\n",
    "    zi = np.linspace(-1, 1, num=N, endpoint=False)[:, None]\n",
    "    zr = np.linspace(-2, 2, num=2*N, endpoint=False)[:, None]\n",
    "    zi = np.repeat(zi, repeats=2*N, axis=1)\n",
    "    zr = np.repeat(zr.T, repeats=N, axis=0)\n",
    "    cr, ci = -0.835, -0.2321\n",
    "    nit = 0\n",
    "    while nit < maxiters:\n",
    "        zr2 = zr**2\n",
    "        zi2 = zi**2\n",
    "        mask = zr2 + zi2 <= 4.\n",
    "        image[mask] += 1\n",
    "        zi[mask] = 2*zr[mask]*zi[mask] + ci\n",
    "        zr[mask] = zr2[mask] - zi2[mask] +  cr\n",
    "        nit += 1\n",
    "    return image\n",
    "\n",
    "np.allclose(make_fractal(500), make_fractal_vectorized(500))"
   ]
  },
  {
   "cell_type": "markdown",
   "metadata": {},
   "source": [
    "El resultado es idéntico al código secuencial en \"Python puro\"\n",
    "\n",
    "El tiempo total para calcular el fractal usando el código vectorizado es:"
   ]
  },
  {
   "cell_type": "code",
   "execution_count": null,
   "metadata": {},
   "outputs": [],
   "source": [
    "%timeit -r3 -n1 make_fractal_vectorized(500)"
   ]
  },
  {
   "cell_type": "markdown",
   "metadata": {},
   "source": [
    "El *speed-up* es el tiempo de la nueva rutina dividido el tiempo de referencia (rutina secuencial)\n",
    "\n",
    "¿Cuánto es el *speed-up* en este caso?"
   ]
  },
  {
   "cell_type": "markdown",
   "metadata": {},
   "source": [
    "#### Propuesto\n",
    "\n",
    "En cada iteración del `while` calculamos el cuadrado de todos los $z$ \n",
    "\n",
    "Sin embargo lo más correcto sería calcular los cuadrados solo para los $z$ que cumplieron con la condición $|z| < 4$ la iteración anterior\n",
    "\n",
    "Considera esta observación para optimizar aun más el código de `make_fractal_vectorized` ¿Cuánto *speed-up* obtienes?"
   ]
  },
  {
   "cell_type": "markdown",
   "metadata": {},
   "source": [
    "# CPython \n",
    "\n",
    "La [implementación](https://wiki.python.org/moin/PythonImplementations) de Python más utilizada está escrita en C y se llama [CPython](https://github.com/python/cpython)\n",
    "\n",
    "La implementación es aquello que interpreta y corre el código escrito en Python\n",
    "\n",
    "Otras implementaciones de Python:\n",
    "- [PyPy](http://www.pypy.org/en)\n",
    "- [Jython](https://www.jython.org/) (escrito en Java)\n",
    "- IronPython (escrito en C#)\n",
    "\n",
    "CPython compila el código escrito en Python en un código de máquina (binario). Luego CPython interpreta el binario\n",
    "\n",
    "Podemos estudiar dicho código usando el módulo [dis](https://docs.python.org/3.7/library/dis.html) de Python"
   ]
  },
  {
   "cell_type": "code",
   "execution_count": null,
   "metadata": {},
   "outputs": [],
   "source": [
    "import dis\n",
    "dis.dis(make_fractal)"
   ]
  },
  {
   "cell_type": "markdown",
   "metadata": {},
   "source": [
    "Si sabemos C podemos usar la [API de Python/C](https://docs.python.org/3/c-api/index.html) para \n",
    "1. Escribir modulos de C que puedan llamarse desde Python\n",
    "1. Hacer interfaces entre código C y Python\n",
    "\n",
    "Sin embargo la API es complicada y existen alternativas menos tediosas para lograr estos objetivos\n",
    "- [ctypes](https://docs.python.org/2/library/ctypes.html) \n",
    "- [CFFI](https://cffi.readthedocs.io/en/latest/)\n",
    "- [SWIG](http://swig.org/)\n",
    "- Cython\n",
    "\n",
    "A continuación nos enfocaremos en esta última"
   ]
  },
  {
   "cell_type": "markdown",
   "metadata": {},
   "source": [
    "\n",
    "# [Cython](https://cython.org/): C Extensions for Python\n",
    "\n",
    "Recordemos:\n",
    "\n",
    "**Python** es un lenguaje interpretado con tipos dinámicos. Esto hace que cada operación tenga un overhead.\n",
    "\n",
    "    z = x + y\n",
    "    # overhead: Inferir el tipo de x\n",
    "    # overhead: Inferir el tipo de y\n",
    "    # Hacer la operación suma\n",
    "    # overhead: Darle el tipo adecuado a z\n",
    "   \n",
    "en cambio:\n",
    "\n",
    "**Cython** es un lenguaje de programación que le agrega a Python algunas propiedades de C y C++, una de ellas son los **tipos estáticos**\n",
    "\n",
    "    int x = 1\n",
    "    int y = 2\n",
    "    int z = x + y\n",
    "    # No hay que inferir el tipo de x, y, z\n",
    "\n",
    "- Esto hace que Cython sea menos flexible pero decenas de veces más rápido que  Python\n",
    "- En términos de sintaxis Cython es casi tan simple como Python \n",
    "- A diferencia de Python, el lenguaje Cython debe compilarse\n",
    "    - El compilador de Cython convierte el código fuente en código C \n",
    "    - Luego el código C se compila como un módulo de Python con la implementación **CPython**\n",
    "\n",
    "En pocas palabras\n",
    "> Una vez compilado el código escrito en Cython puede llamarse desde Python!\n",
    "\n",
    "¿Por qué considerar Cython?\n",
    "- Cython es casi tan simple como Python y casi tan rápido como C\n",
    "- Con Cython se pueden llamar funciones y librerías de C\n",
    "- Cython se integra de buena manera con NumPy\n",
    "\n",
    "Por ende Cython es muy atractivo para proyectos que usen Python y tengan requisitos de alto rendimiento\n",
    "\n",
    "Estudiemos la sintaxis de Cython mediante algunos ejemplos"
   ]
  },
  {
   "cell_type": "markdown",
   "metadata": {},
   "source": [
    "### Ejemplo: Distancia euclidiana todos-con-todos\n",
    "\n",
    "Sea un conjunto de $N=1000$ datos bidimensionales ($D=2$)\n",
    "\n",
    "Queremos calcular la distancia euclidiana de cada dato con todos los demás, es decir una matriz donde el elemento $ij$ es \n",
    "\n",
    "$$\n",
    "\\text{dist}_{ij} = \\sqrt {\\sum_{k=1}^D (x_{ik} - x_{jk})^2}\n",
    "$$\n",
    "\n",
    "A continuación se muestran dos códigos que cumplen este proposito y obtienen un resultado equivalente\n",
    "\n",
    "- El primero usa \"Python puro\" y calcula las distancias de forma secuencial\n",
    "- El segundo usa operaciones vectoriales de NumPy y calcula las distancias \"al mismo tiempo\"\n",
    "\n",
    "Estudie ambos códigos hasta comprenderlos"
   ]
  },
  {
   "cell_type": "code",
   "execution_count": null,
   "metadata": {},
   "outputs": [],
   "source": [
    "data = np.random.randn(1000, 2)\n",
    "\n",
    "def distancia_pares(data):    \n",
    "    N, D = data.shape\n",
    "    dist = np.empty(shape=(N, N))\n",
    "    for i in range(N):\n",
    "        for j in range(N):\n",
    "            dist[i, j] = 0\n",
    "            for k in range(D):\n",
    "                dist[i, j] += (data[i, k] - data[j, k])**2\n",
    "            dist[i, j] = np.sqrt(dist[i, j])\n",
    "    return dist\n",
    "            \n",
    "def distancia_pares_numpy(data):\n",
    "    return np.sqrt(np.sum((data.reshape(-1, 1, 2) - data.reshape(1, -1, 2))**2, axis=-1))\n",
    "\n",
    "display(np.allclose(distancia_pares(data), distancia_pares_numpy(data)))\n",
    "%timeit -r3 -n1 distancia_pares(data)\n",
    "%timeit -r3 -n1 distancia_pares_numpy(data)"
   ]
  },
  {
   "cell_type": "markdown",
   "metadata": {},
   "source": [
    "### Cython en IPython\n",
    "\n",
    "Ahora escribamos una versión en Cython de la función `distancia_pares`\n",
    "\n",
    "En IPython podemos cargar la extensión `cython`"
   ]
  },
  {
   "cell_type": "code",
   "execution_count": null,
   "metadata": {},
   "outputs": [],
   "source": [
    "%load_ext cython"
   ]
  },
  {
   "cell_type": "markdown",
   "metadata": {},
   "source": [
    "con esto tendremos disponible la magia de bloque `%%cython` \n",
    "\n",
    "- Esto hace que un bloque acepte lenguaje cython y que se compile al ejecutarlo\n",
    "- Luego podremos llamar las funciones de ese bloque desde bloques regulares de Python\n",
    "- Los errores de compilación aparecen como la salida del bloque\n",
    "- Este bloque está \"desconectado\" del resto del notebook, por lo que debe tener sus propios `import`\n",
    "- Opciones de magia \n",
    "    - `-a` (annotate) retorna un profile linea a linea indicando con amarillo las llamadas a CPython (mientras más llamadas más lento es nuestro código)\n",
    "    - `-+` Usar C++ en lugar de C\n",
    "    - `-c` Argumentos de compilación\n",
    "    - `-l` librerías para linkear a nuestro código\n",
    "    - `-L` directorio con librerías\n",
    "    - `-I` directorio con cabeceras (include)   \n"
   ]
  },
  {
   "cell_type": "code",
   "execution_count": null,
   "metadata": {},
   "outputs": [],
   "source": [
    "%%cython -a\n",
    "\n",
    "import numpy as np\n",
    "\n",
    "def distancia_pares_cython_inocente(data):    \n",
    "    N, D = data.shape\n",
    "    dist = np.empty(shape=(N, N))\n",
    "    for i in range(N):\n",
    "        for j in range(N):\n",
    "            dist[i, j] = 0.0\n",
    "            for k in range(D):\n",
    "                dist[i, j] += (data[i, k] - data[j, k])**2\n",
    "            dist[i, j] = np.sqrt(dist[i, j])\n",
    "    return dist"
   ]
  },
  {
   "cell_type": "code",
   "execution_count": null,
   "metadata": {},
   "outputs": [],
   "source": [
    "display(np.allclose(distancia_pares(data), distancia_pares_cython_inocente(data)))\n",
    "%timeit -r3 -n1 distancia_pares(data)\n",
    "%timeit -r3 -n1 distancia_pares_numpy(data)\n",
    "%timeit -r3 -n1 distancia_pares_cython_inocente(data)"
   ]
  },
  {
   "cell_type": "markdown",
   "metadata": {},
   "source": [
    "Como no hemos hecho ningún cambio el resultado solo es levemente mejor que la versión en Python puro\n",
    "\n",
    "El primer paso para ganar rendimiento es usar [**tipos estáticos** para las variables y las funciones](https://cython.readthedocs.io/en/latest/src/quickstart/cythonize.html)\n",
    "\n",
    "### Definiendo tipos en Cython\n",
    "\n",
    "En Cython se definen tipos estáticos con el keyword `cdef` seguido del tipo y luego el nombre \n",
    "\n",
    "Por ejemplo una variable de tipo `double` llamada `mi_variable`:\n",
    "\n",
    "    cdef double mi_variable \n",
    "    \n",
    "Para los arreglos se usan [\"memory-views\"](https://cython.readthedocs.io/en/latest/src/userguide/memoryviews.html#memoryviews)\n",
    "\n",
    "Por ejemplo un *memory-view* para una arreglo de tres dimensiones:\n",
    "\n",
    "    cdef double [:, :, :] mi_arreglo\n",
    "    \n",
    "Puede ganarase un poco más de rendimiento especificando si el arreglo es *row-major* (estilo C)\n",
    "\n",
    "    cdef double [:, :, ::1] mi_arreglo\n",
    "    \n",
    "o *column-major* (estilo Fortran)\n",
    "\n",
    "    cdef double [::1, :, :] mi_arreglo"
   ]
  },
  {
   "cell_type": "code",
   "execution_count": null,
   "metadata": {},
   "outputs": [],
   "source": [
    "%%cython -a \n",
    "\n",
    "import numpy as np\n",
    "\n",
    "def distancia_pares_cython_estatico(double [:, ::1] data):\n",
    "    # Definimos el tipo de N, D, dist y data\n",
    "    cdef int N = data.shape[0]\n",
    "    cdef int D = data.shape[1]\n",
    "    dist = np.empty(shape=(N, N), dtype=np.double)\n",
    "    cdef double [:, ::1] dist_view = dist\n",
    "    # También definimos los índices, se puede usar int o Py_ssize_t \n",
    "    cdef Py_ssize_t i, j, k\n",
    "    for i in range(N):\n",
    "        for j in range(N):\n",
    "            dist_view[i, j] = 0.0\n",
    "            for k in range(D):\n",
    "                dist_view[i, j] += (data[i, k] - data[j, k])**2\n",
    "            dist_view[i, j] = np.sqrt(dist_view[i, j])\n",
    "    return dist"
   ]
  },
  {
   "cell_type": "code",
   "execution_count": null,
   "metadata": {},
   "outputs": [],
   "source": [
    "display(np.allclose(distancia_pares(data), distancia_pares_cython_estatico(data)))\n",
    "%timeit -r3 -n1 distancia_pares(data)\n",
    "%timeit -r3 -n1 distancia_pares_numpy(data) \n",
    "%timeit -r3 -n1 distancia_pares_cython_estatico(data)"
   ]
  },
  {
   "cell_type": "markdown",
   "metadata": {},
   "source": [
    "Con solo definir el tipo de data, dist, $N$, $D$ y los índices hemos obtenido un *speed-up* importante con respecto a \"Python puro\" aunque sigue siendo más lento que NumPy\n",
    "\n",
    "Observemos el código anotado y revisemos la cantidad de llamadas a CPython de cada linea\n",
    "\n",
    "La linea 17 es particularmente conflictiva \n",
    "- involucra una gran cantidad de instrucciones\n",
    "- se llama NxN veces\n",
    "\n",
    "esto se debe a que estamos usando la función de NumPy `np.sqrt` \n",
    "\n",
    "Podemos obtener un rendimiento mucho mejor si usamos la implementación de raíz cuadrada de C\n",
    "\n",
    "### Llamando funciones de C desde Cython\n",
    "\n",
    "Es posible llamar funciones de C desde Cython de forma sencilla\n",
    "\n",
    "Consideremos como ejemplo la función `sqrt` de la [librería matemática estándar de C](http://pubs.opengroup.org/onlinepubs/9699919799/basedefs/math.h.html)\n",
    "\n",
    "Necesitamos dos cosas\n",
    "- Importar la función `sqrt` desde la cabecera `math.h`\n",
    "    - Esto se hace con el keyword `cdef extern from`\n",
    "- Compilar contra `libm`"
   ]
  },
  {
   "cell_type": "code",
   "execution_count": null,
   "metadata": {},
   "outputs": [],
   "source": [
    "%%cython -a -l m\n",
    "\n",
    "import numpy as np\n",
    "\n",
    "cdef extern from \"math.h\":\n",
    "    double sqrt(double)\n",
    "\n",
    "def distancia_pares_cython_sqrtC(double [:, ::1] data):\n",
    "    # Definimos el tipo de N, D, dist y data\n",
    "    cdef int N = data.shape[0]\n",
    "    cdef int D = data.shape[1]\n",
    "    dist = np.empty(shape=(N, N), dtype=np.double)\n",
    "    cdef double [:, ::1] dist_view = dist\n",
    "    # También definimos los índices, se puede usar int o Py_ssize_t \n",
    "    cdef Py_ssize_t i, j, k\n",
    "    for i in range(N):\n",
    "        for j in range(N):\n",
    "            dist_view[i, j] = 0.0\n",
    "            for k in range(D):\n",
    "                dist_view[i, j] += (data[i, k] - data[j, k])**2\n",
    "            dist_view[i, j] = sqrt(dist_view[i, j])\n",
    "    return dist"
   ]
  },
  {
   "cell_type": "code",
   "execution_count": null,
   "metadata": {},
   "outputs": [],
   "source": [
    "display(np.allclose(distancia_pares(data), distancia_pares_cython_sqrtC(data)))\n",
    "%timeit -r3 -n1 distancia_pares(data)\n",
    "%timeit -r3 -n1 distancia_pares_numpy(data) \n",
    "%timeit -r3 -n1 distancia_pares_cython_estatico(data)\n",
    "%timeit -r3 -n1 distancia_pares_cython_sqrtC(data)"
   ]
  },
  {
   "cell_type": "markdown",
   "metadata": {},
   "source": [
    "Con esta simple modificación hemos obtenido un tiempo de ejecución incluso menor que la implementación en NumPy\n",
    "\n",
    "\n",
    "**Más importante aun:** usando `extern` podemos hacer interfaces [entre Python y casi cualquier código escrito en C](https://cython.readthedocs.io/en/latest/src/tutorial/clibraries.html)\n",
    "\n",
    "\n",
    "\n",
    "### Deshabilitando comprobaciones para ir aun más rápido\n",
    "\n",
    "Podemos hacer nuestro código más rápido (y más inseguro) deshabilitando las verificaciones que Python realiza por defecto\n",
    "\n",
    "En Cython esto se hace usando decoradores que funcionan como directivas de compilación. Las opciones disponibles se encuentrán [aquí](https://cython.readthedocs.io/en/latest/src/userguide/source_files_and_compilation.html#compiler-directives)\n",
    "\n",
    "En este caso deshabilitaremos dos verificaciones: *boundscheck* y *wraparound*\n",
    "\n",
    "> El código no comprobará si escribimos fuera del arreglo y tampoco traducirá índices negativos\n",
    "\n",
    "También aprovecharemos de hacer un cambio menor que nos será de utilidad más adelante:\n",
    "- Definiremos el tipo de data y dist de forma más conveniente usando `ctypedef`\n",
    "- Para esto incluiremos un modulo de Cython llamado numpy usando `cimport` que contiene definiciones tipo C   "
   ]
  },
  {
   "cell_type": "code",
   "execution_count": null,
   "metadata": {},
   "outputs": [],
   "source": [
    "%%cython -a -l m\n",
    "import cython\n",
    "cimport numpy as npc\n",
    "import numpy as np\n",
    "\n",
    "# Por conveniencia podemos definir el tipo de data y dist con \n",
    "ctypedef npc.float64_t TIPO_t\n",
    "TIPO = np.float64\n",
    "\n",
    "cdef extern from \"math.h\":\n",
    "    TIPO_t sqrt(TIPO_t)\n",
    "\n",
    "# Deshabilitamos las comprobaciones de Python:\n",
    "@cython.boundscheck(False)\n",
    "@cython.wraparound(False)\n",
    "def distancia_pares_cython(TIPO_t [:, ::1] data):\n",
    "    cdef int N = data.shape[0]\n",
    "    cdef int M = data.shape[1]\n",
    "    dist = np.empty(shape=(N, N), dtype=TIPO)\n",
    "    cdef TIPO_t [:, ::1] dist_view = dist\n",
    "    cdef Py_ssize_t i, j, k\n",
    "    for i in range(N):\n",
    "        for j in range(N):\n",
    "            dist_view[i, j] = 0.0\n",
    "            for k in range(M):\n",
    "                dist_view[i, j] += (data[i, k] - data[j, k])**2\n",
    "            dist_view[i, j] = sqrt(dist_view[i, j])\n",
    "    return dist"
   ]
  },
  {
   "cell_type": "code",
   "execution_count": null,
   "metadata": {},
   "outputs": [],
   "source": [
    "display(np.allclose(distancia_pares(data), distancia_pares_cython(data)))\n",
    "%timeit -r3 -n1 distancia_pares(data)\n",
    "%timeit -r3 -n1 distancia_pares_numpy(data) \n",
    "%timeit -r3 -n1 distancia_pares_cython_incompleto(data)\n",
    "%timeit -r3 -n1 distancia_pares_cython_sqrtC(data)\n",
    "%timeit -r3 -n1 distancia_pares_cython(data)"
   ]
  },
  {
   "cell_type": "markdown",
   "metadata": {},
   "source": [
    "Un leve speed-up \"casi gratis\"\n",
    "\n",
    "### Mayor flexibilidad con tipos de Cython fusionados \n",
    "\n",
    "En este momento es importante recordar lo que hemos perdido con Cython: **Flexibilidad**\n",
    "\n",
    "Si usamos un argumento que no sea `double` nuestra función en Cython retornará un error\n",
    "\n",
    "Es nuestra responsabilidad evitar que esto ocurra"
   ]
  },
  {
   "cell_type": "code",
   "execution_count": null,
   "metadata": {},
   "outputs": [],
   "source": [
    "display(\"La función funciona para tipo: \", data.dtype)\n",
    "data_float32 = data.astype(np.float32)\n",
    "display(\"Pero retorna un error si la ejecutamos con\", data2.dtype)\n",
    "distancia_pares_cython(data_float32)"
   ]
  },
  {
   "cell_type": "markdown",
   "metadata": {},
   "source": [
    "Podemos aliviar este problema usando la definición de tipos fusionado de Cython\n",
    "\n",
    "    ctypedef fused NOMBRE:\n",
    "\n",
    "En esta caso modificaremos la función `distancia_pares_cython` para que acepte los tipos double e float\n",
    "\n",
    "\"Por debajo\" Cython creará dos funciones en lugar de una\n",
    "\n",
    "No hay que olvidar importar la definición de `sqrtf` de `math.h`"
   ]
  },
  {
   "cell_type": "code",
   "execution_count": null,
   "metadata": {},
   "outputs": [],
   "source": [
    "%%cython -a -l m\n",
    "import cython\n",
    "cimport numpy as npc\n",
    "import numpy as np\n",
    "\n",
    "# Tipo fusionado\n",
    "ctypedef fused TIPO_t:\n",
    "    npc.float32_t\n",
    "    npc.float64_t\n",
    "    \n",
    "cdef extern from \"math.h\":\n",
    "    npc.float32_t sqrtf(npc.float32_t)\n",
    "    npc.float64_t sqrt(npc.float64_t)\n",
    "\n",
    "# Deshabilitamos las comprobaciones de Python:\n",
    "@cython.boundscheck(False)\n",
    "@cython.wraparound(False)\n",
    "def distancia_pares_cython_multitipo(TIPO_t [:, ::1] data):\n",
    "    cdef int N = data.shape[0]\n",
    "    cdef int M = data.shape[1]\n",
    "    # Comprobamos el tipo antes de crear el arrreglo de numpy\n",
    "    if TIPO_t is npc.float32_t:\n",
    "        TIPO = np.float32\n",
    "    else:\n",
    "        TIPO = np.float64\n",
    "    dist = np.empty(shape=(N, N), dtype=TIPO)\n",
    "    cdef TIPO_t [:, ::1] dist_view = dist\n",
    "    cdef Py_ssize_t i, j, k\n",
    "    for i in range(N):\n",
    "        for j in range(N):\n",
    "            dist_view[i, j] = 0.0\n",
    "            for k in range(M):\n",
    "                dist_view[i, j] += (data[i, k] - data[j, k])**2\n",
    "            if TIPO_t is npc.float32_t:\n",
    "                dist_view[i, j] = sqrtf(dist_view[i, j])\n",
    "            else:\n",
    "                dist_view[i, j] = sqrt(dist_view[i, j])\n",
    "    return dist"
   ]
  },
  {
   "cell_type": "code",
   "execution_count": null,
   "metadata": {},
   "outputs": [],
   "source": [
    "display(np.allclose(distancia_pares_numpy(data), distancia_pares_cython_multitipo(data)))\n",
    "display(np.allclose(distancia_pares_numpy(data_float32), distancia_pares_cython_multitipo(data_float32)))\n",
    "%timeit -r3 -n1 distancia_pares(data_float32)\n",
    "%timeit -r3 -n1 distancia_pares_numpy(data_float32)\n",
    "%timeit -r3 -n1 distancia_pares_cython_multitipo(data_float32)"
   ]
  },
  {
   "cell_type": "markdown",
   "metadata": {},
   "source": [
    "El resultado usando `float` es equivalente al de NumPy\n",
    "\n",
    "La velocidad es similar a la de `distancia_pares_cython`. La pérdida de rendimiento no es notoria"
   ]
  },
  {
   "cell_type": "markdown",
   "metadata": {},
   "source": [
    "### Ejemplo: \"Cythonizando\" el fractal de Julia\n",
    "\n",
    "Partiendo del código de Python puro del fractal de Julia, escribimos una versión en Cython\n",
    "\n",
    "Recuerdemos\n",
    "\n",
    "- Usamos `cdef` para definir las variables con tipo estático\n",
    "    - También podemos usar `cdef` para definir funciones con tipo\n",
    "    - Las funciones con tipo solo pueden ser llamadas por otras funciones de Cython\n",
    "- Usamos `ctypedef` para definir tipos \n",
    "- Usamos `cimport` para importar otros módulos de Cython\n",
    "- Usamos memory-views con el tipo adecuado para conectar con NumPy en la salida\n",
    "- Deshabilitamos las comprobaciones de Python para ganar más velocidad"
   ]
  },
  {
   "cell_type": "code",
   "execution_count": null,
   "metadata": {},
   "outputs": [],
   "source": [
    "%%cython\n",
    "import cython\n",
    "cimport numpy as npc\n",
    "import numpy as np\n",
    "\n",
    "ctypedef npc.float64_t TIPOF_t\n",
    "ctypedef npc.int64_t TIPOI_t\n",
    "\n",
    "# Las funciones con cdef solo pueden ser llamadas desde Cython\n",
    "cdef TIPOI_t evaluate_z(TIPOF_t zi, TIPOF_t zr, int maxiters=50, TIPOF_t cr=-0.835, TIPOF_t ci=-0.2321):\n",
    "    cdef:\n",
    "        TIPOI_t nit = 0\n",
    "        TIPOF_t zi2 = zi**2\n",
    "        TIPOF_t zr2 = zr**2\n",
    "        \n",
    "    while zi2 + zr2 <= 4. and nit < maxiters:\n",
    "        zi = 2.*zr*zi + ci\n",
    "        zr = zr2 - zi2 + cr\n",
    "        zr2 = zr**2\n",
    "        zi2 = zi**2 \n",
    "        nit +=1\n",
    "    return nit\n",
    "\n",
    "# Las funciones con def pueden ser llamadas desde Python\n",
    "@cython.boundscheck(False)\n",
    "@cython.wraparound(False)\n",
    "@cython.cdivision(True)\n",
    "def make_fractal_cython(int N, int maxiters=50):\n",
    "    image = np.zeros(shape=(N, 2*N), dtype=np.int64) \n",
    "    cdef:\n",
    "        Py_ssize_t i, j\n",
    "        TIPOI_t [:, ::1] image_view = image        \n",
    "    \n",
    "    for i in range(N):\n",
    "        for j in range(2*N):\n",
    "            image_view[i, j] = evaluate_z(-1.+i*2./N, -2.+j*2./N, maxiters)\n",
    "    return image"
   ]
  },
  {
   "cell_type": "code",
   "execution_count": null,
   "metadata": {},
   "outputs": [],
   "source": [
    "np.allclose(make_fractal(500), make_fractal_cython(500))\n",
    "N = 500\n",
    "%timeit -r3 -n1 make_fractal(N)\n",
    "%timeit -r3 -n1 make_fractal_vectorized(N)\n",
    "%timeit -r3 -n1 make_fractal_cython(N)"
   ]
  },
  {
   "cell_type": "markdown",
   "metadata": {},
   "source": [
    "El resultado es idéntico al código secuencial en \"Python puro\" y el tiempo es considerablemente menor"
   ]
  },
  {
   "cell_type": "markdown",
   "metadata": {},
   "source": [
    "Ahora podemos dibujar el fractal en mayor resolución en un tiempo razonable :)"
   ]
  },
  {
   "cell_type": "code",
   "execution_count": null,
   "metadata": {},
   "outputs": [],
   "source": [
    "plt.figure(figsize=(10, 5), tight_layout=True)\n",
    "plt.gca().axis('off')\n",
    "plt.imshow(make_fractal(2000, 100));"
   ]
  },
  {
   "cell_type": "markdown",
   "metadata": {},
   "source": [
    "#### Propuesto: Dibuje curvas de *speed-up* para \n",
    "- Cython vs \"Python puro\" \n",
    "- Cython vs Numpy \n",
    "\n",
    "considerando $N=10, 50, 100, 500, 1000, 5000$"
   ]
  },
  {
   "cell_type": "markdown",
   "metadata": {},
   "source": [
    "## Usando Cython fuera de Jupyter\n",
    "\n",
    "El código cython se guarda tipicamente con extensión `pyx`\n",
    "\n",
    "Se genera un código C usando `cython` usando la opción `-3` para indicar que se usará Python 3\n",
    "\n",
    "Luego usamos nuestro compilador de C preferido apuntando adecuadamente a las cabeceras y librerías de Python 3 (y en este caso de NumPy también)\n",
    "\n",
    "Debemos generar una libreria compartida (shared)"
   ]
  },
  {
   "cell_type": "code",
   "execution_count": null,
   "metadata": {},
   "outputs": [],
   "source": [
    "!cython -3 fractal_cython.pyx\n",
    "!gcc -I/usr/include/python3.7m/ -I/usr/lib/python3.7/site-packages/numpy/core/include/ -L/usr/lib -lm -lpython3 -fPIC -shared fractal_cython.c -o fractal_cython.so"
   ]
  },
  {
   "cell_type": "markdown",
   "metadata": {},
   "source": [
    "Luego podemos importar la librería como un módulo de Python cualquiera"
   ]
  },
  {
   "cell_type": "code",
   "execution_count": null,
   "metadata": {},
   "outputs": [],
   "source": [
    "from fractal_cython import make_fractal_cython as make_fractal_imported\n",
    "np.allclose(make_fractal_cython(500), make_fractal_imported(500))"
   ]
  },
  {
   "cell_type": "code",
   "execution_count": null,
   "metadata": {},
   "outputs": [],
   "source": [
    "!rm fractal_cython.c fractal_cython.so"
   ]
  },
  {
   "cell_type": "markdown",
   "metadata": {},
   "source": [
    "### Otros tópicos de  Cython\n",
    "\n",
    "- [Incluyendo código Cython en un módulo de Python](https://cython.readthedocs.io/en/latest/src/quickstart/build.html#building-a-cython-module-using-distutils)\n",
    "- [Haciendo profiling de código Cython](https://cython.readthedocs.io/en/latest/src/tutorial/profiling_tutorial.html)\n",
    "- [Malloc/Free en Cython](https://cython.readthedocs.io/en/latest/src/tutorial/memory_allocation.html)\n",
    "- Libro [Cython: A Guide for Python Programmers](https://pythonbooks.org/cython-a-guide-for-python-programmers/)"
   ]
  },
  {
   "cell_type": "markdown",
   "metadata": {},
   "source": [
    "# Compilación Just-in-time (JIT) con Numba\n",
    "\n",
    "Tema para otra iteración"
   ]
  },
  {
   "cell_type": "code",
   "execution_count": null,
   "metadata": {},
   "outputs": [],
   "source": [
    "from numba import jit"
   ]
  },
  {
   "cell_type": "markdown",
   "metadata": {},
   "source": [
    "# Conectando Fortran y Python con [F2PY](https://docs.scipy.org/doc/numpy/f2py/)\n",
    "\n",
    "Tema para otra iteración"
   ]
  },
  {
   "cell_type": "code",
   "execution_count": null,
   "metadata": {},
   "outputs": [],
   "source": []
  }
 ],
 "metadata": {
  "kernelspec": {
   "display_name": "Python 3",
   "language": "python",
   "name": "python3"
  },
  "language_info": {
   "codemirror_mode": {
    "name": "ipython",
    "version": 3
   },
   "file_extension": ".py",
   "mimetype": "text/x-python",
   "name": "python",
   "nbconvert_exporter": "python",
   "pygments_lexer": "ipython3",
   "version": "3.7.3"
  }
 },
 "nbformat": 4,
 "nbformat_minor": 2
}
