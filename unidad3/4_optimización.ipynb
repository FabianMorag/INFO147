{
 "cells": [
  {
   "cell_type": "code",
   "execution_count": null,
   "metadata": {},
   "outputs": [],
   "source": [
    "%%HTML\n",
    "<!-- Mejorar visualización en proyector -->\n",
    "<style>\n",
    ".rendered_html {font-size: 1.2em; line-height: 150%;}\n",
    "div.prompt {min-width: 0ex; padding: 0px;}\n",
    ".container {width:95% !important;}\n",
    "</style>"
   ]
  },
  {
   "cell_type": "code",
   "execution_count": 1,
   "metadata": {},
   "outputs": [
    {
     "data": {
      "application/javascript": [
       "IPython.notebook.set_autosave_interval(0)"
      ]
     },
     "metadata": {},
     "output_type": "display_data"
    },
    {
     "name": "stdout",
     "output_type": "stream",
     "text": [
      "Autosave disabled\n"
     ]
    }
   ],
   "source": [
    "%autosave 0\n",
    "%matplotlib notebook\n",
    "import numpy as np\n",
    "import matplotlib.pyplot as plt\n",
    "from IPython.display import display\n",
    "import ipywidgets as widgets\n",
    "from functools import partial\n",
    "import sklearn.datasets\n",
    "import scipy.linalg\n",
    "slider_layout = widgets.Layout(width='600px', height='20px')\n",
    "slider_style = {'description_width': 'initial'}\n",
    "IntSlider_nice = partial(widgets.IntSlider, style=slider_style, layout=slider_layout, continuous_update=False)\n",
    "FloatSlider_nice = partial(widgets.FloatSlider, style=slider_style, layout=slider_layout, continuous_update=False)\n",
    "SelSlider_nice = partial(widgets.SelectionSlider, style=slider_style, layout=slider_layout, continuous_update=False)"
   ]
  },
  {
   "cell_type": "markdown",
   "metadata": {},
   "source": [
    "\n",
    "# Python y rendimiento 2\n",
    "\n",
    "La clase anterior vimos como hacer *profiling* de nuestro código con el fin de diagnosticar las secciones menos eficientes\n",
    "\n",
    "En este clase veremos como optimizar un código Python para mejorar su rendimiento\n",
    "\n",
    "\n",
    "# Optimización\n",
    "\n",
    "Se refiere a modificar una rutina para mejorar su eficiencia, es decir reducir sus\n",
    "\n",
    "1. Tiempos de ejecución\n",
    "1. Consumo de recursos \n",
    "\n",
    "La optimización debería concentrarse en los **cuellos de botella** que revelamos al hacer *profiling* de nuestro código\n",
    "\n",
    "\n",
    "## Optimización en Python\n",
    "\n",
    "Algunos consejos con respecto a la optimización de código en Python\n",
    "\n",
    "### 1.  Evita optimizar prematuramente\n",
    "\n",
    "Este consejo aplica para todos los lenguajes de programación\n",
    "\n",
    "Optimizar toma tiempo. \n",
    "No dediques esfuerzo a optimizar si tu código aun está completo o funcional\n",
    "\n",
    "- Optimizar una sección que no es tan relevante\n",
    "- Introducir un bug al optimizar\n",
    "\n",
    "> Premature optimization is the root of all evil - Donald Knuth \n",
    "\n",
    "https://effectiviology.com/premature-optimization/\n",
    "\n",
    "https://en.wikipedia.org/wiki/Program_optimization#When_to_optimize\n",
    "\n",
    "### 2. Haz buen uso de la sintaxis y funciones de Python\n",
    "\n",
    "https://ipython-books.github.io/51-knowing-python-to-write-faster-code/\n",
    "\n",
    "https://wiki.python.org/moin/PythonSpeed/PerformanceTips\n"
   ]
  },
  {
   "cell_type": "markdown",
   "metadata": {},
   "source": [
    "- Cython\n",
    "- Multiprocessing\n",
    "\n",
    "https://pjryan126.github.io/multiprocessing-in-python/\n",
    "\n",
    "https://github.com/jupyter/notebook/issues/1703\n",
    "\n",
    "https://medium.com/@grvsinghal/speed-up-your-code-using-multiprocessing-in-python-36e4e703213e\n",
    "\n",
    "https://medium.com/@grvsinghal/speed-up-your-python-code-using-multiprocessing-on-windows-and-jupyter-or-ipython-2714b49d6fac\n",
    "\n",
    "\n",
    "http://people.duke.edu/~ccc14/sta-663-2017/10A_CodeOptimization.html"
   ]
  },
  {
   "cell_type": "code",
   "execution_count": null,
   "metadata": {},
   "outputs": [],
   "source": []
  }
 ],
 "metadata": {
  "kernelspec": {
   "display_name": "Python 3",
   "language": "python",
   "name": "python3"
  },
  "language_info": {
   "codemirror_mode": {
    "name": "ipython",
    "version": 3
   },
   "file_extension": ".py",
   "mimetype": "text/x-python",
   "name": "python",
   "nbconvert_exporter": "python",
   "pygments_lexer": "ipython3",
   "version": "3.7.3"
  }
 },
 "nbformat": 4,
 "nbformat_minor": 2
}
