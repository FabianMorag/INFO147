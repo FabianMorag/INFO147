{
 "cells": [
  {
   "cell_type": "code",
   "execution_count": null,
   "metadata": {},
   "outputs": [],
   "source": [
    "%%HTML\n",
    "<!-- Mejorar visualización en proyector -->\n",
    "<style>\n",
    ".rendered_html {font-size: 1.2em; line-height: 150%;}\n",
    "div.prompt {min-width: 0ex; padding: 0px;}\n",
    ".container {width:95% !important;}\n",
    "</style>"
   ]
  },
  {
   "cell_type": "code",
   "execution_count": null,
   "metadata": {},
   "outputs": [],
   "source": [
    "%autosave 0\n",
    "%matplotlib notebook\n",
    "import numpy as np\n",
    "import matplotlib.pyplot as plt\n",
    "from IPython.display import display\n",
    "from functools import partial"
   ]
  },
  {
   "cell_type": "markdown",
   "metadata": {},
   "source": [
    "\n",
    "# Python y rendimiento | Parte 2\n",
    "\n",
    "Python es un lenguaje versátil pero poco eficiente comparado a lenguajes de bajo nivel (C/Fortran)\n",
    "\n",
    "Esto puede ser perjudicial si queremos usar Python para procesar una base de datos extensa o entrenar un modelo con una gran cantidad de parámetros\n",
    "\n",
    "Sin embargo, lo que es sumamente costoso para un código escrito en \"Python puro\" no lo es tanto cuando usamos las librerías de cómputo científico de Python que hemos visto en este curso \n",
    "\n",
    "Las funciones de **Numpy**, **Scipy** y **Pandas** son eficientes porque están basadas en rutinas escritas en lenguaje C y Fortran\n",
    "\n",
    "> La clave para lograr un alto rendimiento es usar adecuadamente las librerías\n",
    "\n",
    "Cuando usamos estas librerías estamos usando código compilado en lugar de interpretado \n",
    "\n",
    "> Existen maneras de conectar nuestro código Python con código compilado escrito en lenguaje C o Fortran\n",
    "\n",
    "En este clase veremos tres formas para mejorar el rendimiento de una rutina matemática arbitraria escrita en \"Python puro\":\n",
    "\n",
    "1. Cómputo basado en arreglos con `NumPy`\n",
    "1. Uniendo Python y C con `Cython`\n",
    "1. Aprovechando arquitecturas multi-nucleo con `Multiprocessing`\n",
    "\n",
    "Esto se enmarca en el contexto de **optimización de software**\n",
    "\n",
    "\n",
    "## ¿Qué es la optimización de códigos/software?\n",
    "\n",
    "Se refiere a modificar una rutina computacional para mejorar su eficiencia, es decir reducir sus\n",
    "\n",
    "1. Tiempos de ejecución\n",
    "1. Consumo de recursos \n",
    "\n",
    "El aspecto que se intenta modificar es aquel que limita nuestro programa \n",
    "\n",
    "Podemos hablar entonces de programas que están limitados en cómputo (compute-bound), limitados en memoría (memory-bound) \n",
    "\n",
    "La optimización puede ocurrir en distintos niveles\n",
    "\n",
    "En el ámbito de la computación científica lo más común es enfrentar programas que están límitados... \n",
    "\n"
   ]
  },
  {
   "cell_type": "markdown",
   "metadata": {},
   "source": [
    "### ¿Por qué optimizar?\n",
    "\n"
   ]
  },
  {
   "cell_type": "markdown",
   "metadata": {},
   "source": [
    "### ¿Cuándo optimizar?\n",
    "\n",
    "`Si:` \n",
    "\n",
    "    tu rutina está incompleta o no entrega el resultado esperado\n",
    "    \n",
    "`Entonces:`\n",
    "\n",
    "    No es momento de optimizar \n",
    "\n",
    "\n",
    "Considera que optimizar puede \n",
    "- hacer el código más complicado y menos legible \n",
    "- introducir bugs\n",
    "- tomar tiempo y bastante dedicación\n",
    "\n",
    "Por lo tanto debemos evitar optimizar de forma prematura\n",
    "\n",
    "> Premature optimization is the root of all evil - Donald Knuth \n"
   ]
  },
  {
   "cell_type": "markdown",
   "metadata": {},
   "source": [
    "### ¿Dónde optimizar?\n",
    "\n",
    "Evita gastar tiempo optimizando rutinas que influyan poco en el rendimiento total del programa\n",
    "\n",
    "La optimización debería concentrarse en las secciones más lentas y/o costosas\n",
    "\n",
    "Podemos encontrar dichas secciones haciendo un *profiling* de nuestro código"
   ]
  },
  {
   "cell_type": "markdown",
   "metadata": {},
   "source": [
    "\n",
    "### 2. Haz buen uso de la sintaxis y funciones de Python\n",
    "\n",
    "https://ipython-books.github.io/51-knowing-python-to-write-faster-code/\n",
    "\n",
    "https://wiki.python.org/moin/PythonSpeed/PerformanceTips\n",
    "\n",
    "http://people.duke.edu/~ccc14/sta-663-2017/10A_CodeOptimization.html\n"
   ]
  },
  {
   "cell_type": "markdown",
   "metadata": {},
   "source": [
    "# Cómputo basado en arreglos con Numpy\n",
    "\n",
    "\n",
    "Getting good performance out of code utilizing NumPy is often straightforward, asarray operations typically replace otherwise comparatively extremely slow pure Pythonloops. Here is a brief list of some of the things to keep in mind:• Convert Python loops and conditional logic to array operations and boolean arrayoperations• Use broadcasting whenever possible• Avoid copying data using array views (slicing)• Utilize ufuncs and ufunc methods\n",
    "\n"
   ]
  },
  {
   "cell_type": "markdown",
   "metadata": {},
   "source": [
    "### Ejemplo: Vectorizando el cálculo del \"Set de Julia\"\n",
    "\n",
    "Consideremos el código en \"Python puro\" que vimos en la clase de *profiling*"
   ]
  },
  {
   "cell_type": "code",
   "execution_count": null,
   "metadata": {},
   "outputs": [],
   "source": [
    "def evaluate(zi, zr, maxiters=50, cr=-0.835, ci=-0.2321):\n",
    "    nit = 0\n",
    "    zi2 = zi**2\n",
    "    zr2 = zr**2\n",
    "    while zi2 + zr2 <= 4. and nit < maxiters:\n",
    "        zi = 2*zr*zi + ci\n",
    "        zr = zr2 - zi2 + cr\n",
    "        zr2 = zr**2\n",
    "        zi2 = zi**2 \n",
    "        nit +=1\n",
    "    return nit\n",
    "    \n",
    "def make_fractal(N, maxiters=50):\n",
    "    image = []\n",
    "    for i in range(N):\n",
    "        row = []\n",
    "        for j in range(2*N):\n",
    "            zi = -1.0 + i*2/N\n",
    "            zr = -2.0 + j*2/N\n",
    "            row.append(evaluate(zi, zr, maxiters))\n",
    "        image.append(row)\n",
    "    return image\n",
    "\n",
    "plt.figure(figsize=(8, 4), tight_layout=True)\n",
    "plt.gca().axis('off')\n",
    "plt.imshow(make_fractal(500));"
   ]
  },
  {
   "cell_type": "markdown",
   "metadata": {},
   "source": [
    "El tiempo total para calcular el fractal con una resolución de 500x1000 es"
   ]
  },
  {
   "cell_type": "code",
   "execution_count": null,
   "metadata": {},
   "outputs": [],
   "source": [
    "%timeit -r3 -n1 make_fractal(500)"
   ]
  },
  {
   "cell_type": "markdown",
   "metadata": {},
   "source": [
    "Estudiando el código nos damos cuenta que la función `evaluate` se ejecuta de forma secuencial para cada uno de los 500x1000 píxeles\n",
    "\n",
    "Si guardamos la imagen y los valores de $z$ como un `ndarray` podemos actualizar todos los pixeles \"al mismo tiempo\""
   ]
  },
  {
   "cell_type": "code",
   "execution_count": null,
   "metadata": {},
   "outputs": [],
   "source": [
    "def make_fractal_vectorized(N, maxiters=50):\n",
    "    image = np.zeros(shape=(N, 2*N), dtype=int)\n",
    "    zi = np.linspace(-1, 1, num=N, endpoint=False)[:, None]\n",
    "    zr = np.linspace(-2, 2, num=2*N, endpoint=False)[:, None]\n",
    "    zi = np.repeat(zi, repeats=2*N, axis=1)\n",
    "    zr = np.repeat(zr.T, repeats=N, axis=0)\n",
    "    cr, ci = -0.835, -0.2321\n",
    "    nit = 0\n",
    "    while nit < maxiters:\n",
    "        zr2 = zr**2\n",
    "        zi2 = zi**2\n",
    "        mask = zr2 + zi2 <= 4.\n",
    "        image[mask] += 1\n",
    "        zi[mask] = 2*zr[mask]*zi[mask] + ci\n",
    "        zr[mask] = zr2[mask] - zi2[mask] +  cr\n",
    "        nit += 1\n",
    "    return image\n",
    "\n",
    "np.allclose(make_fractal(500), make_fractal_vectorized(500))"
   ]
  },
  {
   "cell_type": "markdown",
   "metadata": {},
   "source": [
    "El resultado es idéntico al código secuencial en \"Python puro\"\n",
    "\n",
    "El tiempo total para calcular el fractal usando el código vectorizado es:"
   ]
  },
  {
   "cell_type": "code",
   "execution_count": null,
   "metadata": {},
   "outputs": [],
   "source": [
    "%timeit -r3 -n1 make_fractal_vectorized(500)"
   ]
  },
  {
   "cell_type": "markdown",
   "metadata": {},
   "source": [
    "El *speed-up* es el tiempo de la nueva rutina dividido el tiempo de referencia (rutina secuencial)\n",
    "\n",
    "¿Cuánto es el *speed-up* en este caso?"
   ]
  },
  {
   "cell_type": "markdown",
   "metadata": {},
   "source": [
    "#### Propuesto\n",
    "\n",
    "En cada iteración del `while` calculamos el cuadrado de todos los $z$ \n",
    "\n",
    "Sin embargo lo más correcto sería calcular los cuadrados solo para los $z$ que cumplieron con la condición $|z| < 4$ la iteración anterior\n",
    "\n",
    "Considera esta observación para optimizar aun más el código de `make_fractal_vectorized` ¿Cuánto *speed-up* obtienes?"
   ]
  },
  {
   "cell_type": "markdown",
   "metadata": {},
   "source": [
    "# CPython \n",
    "\n",
    "La [implementación](https://wiki.python.org/moin/PythonImplementations) de Python más utilizada está escrita en C y se llama CPython\n",
    "\n",
    "La implementación es aquello que interpreta y corre el código escrito en Python\n",
    "\n",
    "También existen implementaciones en Java ([Jython](https://www.jython.org/)) y C# (IronPython)\n",
    "\n",
    "CPython compila el código escrito en Python en un código de máquina (binario). Luego CPython interpreta el binario\n",
    "\n",
    "Podemos estudiar dicho código usando el módulo [dis](https://docs.python.org/3.7/library/dis.html) de Python"
   ]
  },
  {
   "cell_type": "code",
   "execution_count": null,
   "metadata": {},
   "outputs": [],
   "source": [
    "import dis\n",
    "dis.dis(make_fractal)"
   ]
  },
  {
   "cell_type": "markdown",
   "metadata": {},
   "source": [
    "# [Cython](https://cython.org/): C Extensions for Python\n",
    "\n",
    "Python es un lenguaje interpretado con tipos dinámicos. Esto hace que cada operación tenga un overhead.\n",
    "\n",
    "Cython es un lenguaje de programación que combina Python con el sistema de tipos estáticos de C y C++ eliminando los típicos overheads de Python\n",
    "\n",
    "El compilador de Cython convierte el código fuente en código C que a su vez se compila como un módulo de Python con CPython\n",
    "\n",
    "> Una vez compilado el código escrito en Cython puede llamarse desde Python\n",
    "\n",
    "¿Por qué considerar Cython?\n",
    "- Cython es casi tan simple como Python\n",
    "- Cython es casi tan rápido como C\n",
    "- Cython se integra de buena manera con NumPy\n",
    "- Con Cython se pueden llamar librerías de C"
   ]
  },
  {
   "cell_type": "markdown",
   "metadata": {},
   "source": [
    "### Ejemplo: Distancia euclidiana todos-con-todos\n",
    "\n",
    "Sea un conjunto de 1000 datos bidimensionales\n",
    "\n",
    "Queremos calcular la distancia euclidiana de cada dato con todos los demás, es decir una matriz donde el elemento $ij$ es \n",
    "\n",
    "$$\n",
    "d_{ij} = \\sum_{k=1}^2 (x_{ik} - x_{jk})^2\n",
    "$$\n",
    "\n",
    "A continuación se muestra dos códigos que cumplen este proposito y obtienen un resultado equivalente\n",
    "\n",
    "- El primero usa \"Python puro\" y calcula las distancias de forma secuencial\n",
    "- El segundo usa operaciones vectoriales de NumPy y calcula las distancias \"al mismo tiempo\"\n",
    "\n",
    "Estudie ambos códigos hasta comprenderlos"
   ]
  },
  {
   "cell_type": "code",
   "execution_count": null,
   "metadata": {},
   "outputs": [],
   "source": [
    "data = np.random.randn(1000, 2)\n",
    "\n",
    "def distancia_pares(data):\n",
    "    N = len(data)\n",
    "    D = np.empty(shape=(N, N))\n",
    "    for i in range(N):\n",
    "        for j in range(N):\n",
    "            D[i, j] = sum((data[i] - data[j])**2)\n",
    "    return D\n",
    "            \n",
    "def distancia_pares_numpy(data):\n",
    "    return np.sum((data.reshape(-1, 1, 2) - data.reshape(1, -1, 2))**2, axis=-1)\n",
    "\n",
    "display(np.allclose(distancia_pares(data), distancia_pares_numpy(data)))\n",
    "%timeit -r3 -n1 distancia_pares(data)\n",
    "%timeit -r3 -n1 distancia_pares_numpy(data)"
   ]
  },
  {
   "cell_type": "markdown",
   "metadata": {},
   "source": [
    "Ahora escribamos una versión en Cython de la función `distancia_pares`\n",
    "\n",
    "En Jupyter podemos cargar la extensión `cython` y luego usar la magia de bloque `%%cython` \n",
    "\n",
    "- Esto hace que el bloque acepte lenguaje cython y que al ejecutarlo se compile\n",
    "- Luego podremos llamar la función `distancia_pares_cython` desde bloques regulares de Python\n",
    "- Los errores de compilación aparecen como la salida del bloque\n",
    "- La opción `-a` (annotate) retorna un profile linea a linea indicando con amarillo las llamadas a CPython (mientras más llamadas más lento es nuestro código)"
   ]
  },
  {
   "cell_type": "code",
   "execution_count": null,
   "metadata": {},
   "outputs": [],
   "source": [
    "%load_ext cython"
   ]
  },
  {
   "cell_type": "code",
   "execution_count": null,
   "metadata": {},
   "outputs": [],
   "source": [
    "%%cython -a\n",
    "import numpy as np\n",
    "def distancia_pares_cython(data):\n",
    "    N = len(data)\n",
    "    D = np.empty(shape=(N, N))\n",
    "    for i in range(N):\n",
    "        for j in range(N):\n",
    "            D[i, j] = sum((data[i] - data[j])**2)\n",
    "    return D"
   ]
  },
  {
   "cell_type": "markdown",
   "metadata": {},
   "source": [
    "- El keyword `cdef` define una variable con tipo estático (C)\n",
    "- Los argumentos de las funciones también pueden definirse como tipo estático\n",
    "- Se puede usar tipos de NumPy para entrada y salida con [memoryviews]()\n",
    "    - Se declara un memory view con la sintáxis tipo [:, ::1] para una matriz de dos dimensones\n",
    "- Se puede acelerar aun más deshabilitando las verificaciones de Python (por ejemplo boundcheck y wraparound)\n"
   ]
  },
  {
   "cell_type": "code",
   "execution_count": null,
   "metadata": {},
   "outputs": [],
   "source": [
    "%%cython\n",
    "import cython\n",
    "import numpy as np\n",
    "\n",
    "# Deshabilitamos las comprobaciones de Python:\n",
    "@cython.boundscheck(False)\n",
    "@cython.wraparound(False)\n",
    "def distancia_pares_cython(double [:, ::1] data):\n",
    "    # Usamos tipo estático con todas las variables:\n",
    "    cdef int N = data.shape[0]\n",
    "    cdef int M = data.shape[1]\n",
    "    cdef int i, j, k\n",
    "    cdef double tmp\n",
    "    # Usamos un memory-view para nuestra variable de salida en formato NumPy\n",
    "    cdef double [:, ::1] D = np.empty(shape=(N, N), dtype=np.double)\n",
    "    # Hacemos un ciclo for \"estilo C\"\n",
    "    for i in range(N):\n",
    "        for j in range(N):\n",
    "            tmp = 0.0\n",
    "            for k in range(M):\n",
    "                tmp += (data[i, k] - data[j, k])**2\n",
    "            D[i, j] = tmp\n",
    "    return D"
   ]
  },
  {
   "cell_type": "markdown",
   "metadata": {},
   "source": [
    "El resultado es idéntico al del código NumPy pero considerablemente más veloz"
   ]
  },
  {
   "cell_type": "code",
   "execution_count": null,
   "metadata": {},
   "outputs": [],
   "source": [
    "display(np.allclose(distancia_pares_numpy(data), distancia_pares_cython(data)))\n",
    "%timeit -r3 -n1 distancia_pares_cython(data)"
   ]
  },
  {
   "cell_type": "markdown",
   "metadata": {},
   "source": [
    "### Ejemplo: \"Cythonizando\" el fractal de Julia\n",
    "\n",
    "Partiendo del código de Python puro del fractal de Julia, escribimos una versión en Cython\n",
    "\n",
    "Recuerda:\n",
    "- Usamos `cdef` para definir las variables con tipo estático\n",
    "- También podemos usar `cdef` para definir una función que solo es llamada desde cython\n",
    "- Usamos memory-views con el tipo adecuado para conectar con NumPy en la salida\n",
    "- Deshabilitamos las comprobaciones de Python para ganar más velocidad"
   ]
  },
  {
   "cell_type": "code",
   "execution_count": null,
   "metadata": {},
   "outputs": [],
   "source": [
    "%%cython\n",
    "import cython\n",
    "import numpy as np\n",
    "\n",
    "cdef int evaluate_z(double zi, double zr, int maxiters, double cr=-0.835, double ci=-0.2321):\n",
    "    cdef:\n",
    "        int nit = 0\n",
    "        double zi2 = zi**2\n",
    "        double zr2 = zr**2\n",
    "        \n",
    "    while zi2 + zr2 <= 4. and nit < maxiters:\n",
    "        zi = 2*zr*zi + ci\n",
    "        zr = zr2 - zi2 + cr\n",
    "        zr2 = zr**2\n",
    "        zi2 = zi**2 \n",
    "        nit +=1\n",
    "    return nit\n",
    "\n",
    "@cython.boundscheck(False)\n",
    "@cython.wraparound(False)\n",
    "@cython.cdivision(True)\n",
    "def make_fractal_cython(int N, int maxiters=50):\n",
    "    cdef:\n",
    "        int [:, ::1] image = np.zeros(shape=(N, 2*N), dtype=np.int32) # el tipo es impotante!\n",
    "        int i, j\n",
    "    \n",
    "    for i in range(N):\n",
    "        for j in range(2*N):\n",
    "            image[i, j] = evaluate_z(-1.+i*2./N, -2.+j*2./N, maxiters)\n",
    "    return image"
   ]
  },
  {
   "cell_type": "markdown",
   "metadata": {},
   "source": [
    "El resultado es idéntico al código secuencial en \"Python puro\""
   ]
  },
  {
   "cell_type": "code",
   "execution_count": null,
   "metadata": {},
   "outputs": [],
   "source": [
    "np.allclose(make_fractal(500), make_fractal_cython(500))"
   ]
  },
  {
   "cell_type": "markdown",
   "metadata": {},
   "source": [
    "EL tiempo es considerablemente menor al código en \"Python puro\" y también al vectorizado con NumPy"
   ]
  },
  {
   "cell_type": "code",
   "execution_count": null,
   "metadata": {},
   "outputs": [],
   "source": [
    "N = 500\n",
    "%timeit -r3 -n1 make_fractal(N)\n",
    "%timeit -r3 -n1 make_fractal_vectorized1(N)\n",
    "%timeit -r3 -n1 make_fractal_cython(N)"
   ]
  },
  {
   "cell_type": "markdown",
   "metadata": {},
   "source": [
    "Ahora podemos dibujar el fractal en mayor resolución en un tiempo razonable :)"
   ]
  },
  {
   "cell_type": "code",
   "execution_count": null,
   "metadata": {},
   "outputs": [],
   "source": [
    "plt.figure(figsize=(10, 5), tight_layout=True)\n",
    "plt.gca().axis('off')\n",
    "plt.imshow(make_fractal(2000, 100));"
   ]
  },
  {
   "cell_type": "markdown",
   "metadata": {},
   "source": [
    "# Usando Cython fuera de Jupyter\n",
    "\n"
   ]
  },
  {
   "cell_type": "markdown",
   "metadata": {},
   "source": [
    "# Llamando una librería en C desde Cython"
   ]
  },
  {
   "cell_type": "markdown",
   "metadata": {},
   "source": [
    "https://docs.python-guide.org/scenarios/clibs/"
   ]
  },
  {
   "cell_type": "markdown",
   "metadata": {},
   "source": [
    "añadir links a documentación cython\n",
    "\n",
    "https://clusterdata.nl/bericht/news-item/what-is-cython-python-at-the-speed-c/\n",
    "\n",
    "https://www.infoworld.com/article/3250299/what-is-cython-python-at-the-speed-of-c.html\n",
    "\n",
    "https://146.83.216.158/user/phuijse/files/Work/Books/Programming/OReilly%20Cython%2C%20A%20Guide%20for%20Python%20Programmers%20(2015).pdf"
   ]
  },
  {
   "cell_type": "markdown",
   "metadata": {},
   "source": [
    "# Compilación Just-in-time (JIT) con Numba\n",
    "\n",
    "Tema para otra iteración"
   ]
  },
  {
   "cell_type": "code",
   "execution_count": null,
   "metadata": {},
   "outputs": [],
   "source": [
    "from numba import jit"
   ]
  }
 ],
 "metadata": {
  "kernelspec": {
   "display_name": "Python 3",
   "language": "python",
   "name": "python3"
  },
  "language_info": {
   "codemirror_mode": {
    "name": "ipython",
    "version": 3
   },
   "file_extension": ".py",
   "mimetype": "text/x-python",
   "name": "python",
   "nbconvert_exporter": "python",
   "pygments_lexer": "ipython3",
   "version": "3.7.3"
  }
 },
 "nbformat": 4,
 "nbformat_minor": 2
}
