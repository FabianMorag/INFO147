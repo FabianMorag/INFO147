{
 "cells": [
  {
   "cell_type": "code",
   "execution_count": null,
   "metadata": {},
   "outputs": [],
   "source": [
    "%%HTML\n",
    "<!-- Mejorar visualización en proyector -->\n",
    "<style>\n",
    ".rendered_html {font-size: 1.2em; line-height: 150%;}\n",
    "div.prompt {min-width: 0ex; padding: 0px;}\n",
    ".container {width:95% !important;}\n",
    "</style>"
   ]
  },
  {
   "cell_type": "code",
   "execution_count": 1,
   "metadata": {},
   "outputs": [
    {
     "data": {
      "application/javascript": [
       "IPython.notebook.set_autosave_interval(0)"
      ]
     },
     "metadata": {},
     "output_type": "display_data"
    },
    {
     "name": "stdout",
     "output_type": "stream",
     "text": [
      "Autosave disabled\n"
     ]
    }
   ],
   "source": [
    "%autosave 0\n",
    "%matplotlib notebook\n",
    "import numpy as np\n",
    "import matplotlib.pyplot as plt\n",
    "from IPython.display import display\n",
    "from functools import partial"
   ]
  },
  {
   "cell_type": "markdown",
   "metadata": {},
   "source": [
    "\n",
    "# Python y rendimiento | Parte 3\n",
    "\n",
    "\n",
    "1. Aprovechando arquitecturas multi-nucleo con `Multiprocessing`\n",
    "\n",
    "\n"
   ]
  },
  {
   "cell_type": "markdown",
   "metadata": {},
   "source": [
    "https://github.com/mynameisfiber/high_performance_python"
   ]
  },
  {
   "cell_type": "markdown",
   "metadata": {},
   "source": [
    "## Global Interpreter Lock (GIL)\n",
    "\n",
    "Blocking I/O and the GILThe CPython interpreter is not thread-safe internally, so it has a Global Interpreter Lock(GIL) which allows only one thread at a time to execute Python bytecodes. That’s whya single Python process usually cannot use multiple CPU cores at the same time3.When we write Python code we have no control over the GIL, but a built-in functionor an extension written in C can release the GIL while running time consuming tasks.In fact, a Python library coded in C can manage the GIL, launch its own OS threads andtake advantage of all available CPU cores. This complicates the code of the library con‐siderably, and most library authors don’t do it.However, all standard library functions that perform blocking I/O release the GIL whenwaiting for a result from the OS. This means Python programs that are I/O bound canbenefit from using threads at the Python level: while one Python thread is waiting fora  response  from  the  network,  the  blocked  I/O  function  releases  the  GIL  so  anotherthread can run.That’s why David Beazley says: “Python threads are great at doing nothing4.”"
   ]
  },
  {
   "cell_type": "markdown",
   "metadata": {},
   "source": [
    "- Multiprocessing\n",
    "\n",
    "https://pjryan126.github.io/multiprocessing-in-python/\n",
    "\n",
    "https://github.com/jupyter/notebook/issues/1703\n",
    "\n",
    "https://medium.com/@grvsinghal/speed-up-your-code-using-multiprocessing-in-python-36e4e703213e\n",
    "\n",
    "https://medium.com/@grvsinghal/speed-up-your-python-code-using-multiprocessing-on-windows-and-jupyter-or-ipython-2714b49d6fac"
   ]
  },
  {
   "cell_type": "markdown",
   "metadata": {},
   "source": [
    "# Computación de alto rendimiento\n",
    "\n",
    "Ciertos problemas son tan extensos que para solucionarlos en un tiempo razonable se requiere poder de cómputo y/o memoria superior a la ofrecida por un computador de arquitectura tradicional\n",
    "\n",
    "Si el problema es separable entonces puede resolverse de forma eficiente usando computación paralela y/o computación distributida\n",
    "\n",
    "La computación de alto rendimiento o *high-performance computing* (HPC) es la disciplina que se dedica a diseñar algoritmos eficientes que utilizan arquitecturas paralelas/distribuidas\n",
    "\n",
    "En HPC también se investiga la utilización eficiente de co-procesadores de alto paralelismo como son los procesadores de tipo *many-core* (Xeon-Phi) y las Graphical Processing Units (GPU, Nvidia, AMD)\n",
    "\n",
    "El Magíster en Informática de la UACh tiene a HPC como una de sus áreas principales. Más información: http://www.ingenieria.uach.cl/index.php/postgrado/magister-en-informatica\n",
    "\n"
   ]
  },
  {
   "cell_type": "code",
   "execution_count": null,
   "metadata": {},
   "outputs": [],
   "source": []
  }
 ],
 "metadata": {
  "kernelspec": {
   "display_name": "Python 3",
   "language": "python",
   "name": "python3"
  },
  "language_info": {
   "codemirror_mode": {
    "name": "ipython",
    "version": 3
   },
   "file_extension": ".py",
   "mimetype": "text/x-python",
   "name": "python",
   "nbconvert_exporter": "python",
   "pygments_lexer": "ipython3",
   "version": "3.7.3"
  }
 },
 "nbformat": 4,
 "nbformat_minor": 2
}
