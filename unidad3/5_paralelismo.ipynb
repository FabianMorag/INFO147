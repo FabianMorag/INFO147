{
 "cells": [
  {
   "cell_type": "code",
   "execution_count": null,
   "metadata": {},
   "outputs": [],
   "source": [
    "%%HTML\n",
    "<!-- Mejorar visualización en proyector -->\n",
    "<style>\n",
    ".rendered_html {font-size: 1.2em; line-height: 150%;}\n",
    "div.prompt {min-width: 0ex; padding: 0px;}\n",
    ".container {width:95% !important;}\n",
    "</style>"
   ]
  },
  {
   "cell_type": "code",
   "execution_count": null,
   "metadata": {},
   "outputs": [],
   "source": [
    "%autosave 0\n",
    "%matplotlib notebook\n",
    "import numpy as np\n",
    "import matplotlib.pyplot as plt\n",
    "from IPython.display import display\n",
    "from functools import partial"
   ]
  },
  {
   "cell_type": "markdown",
   "metadata": {},
   "source": [
    "\n",
    "# Python y rendimiento | Parte 3\n",
    "\n",
    "\n",
    "1. Aprovechando arquitecturas multi-nucleo con `Multiprocessing`\n",
    "\n",
    "\n"
   ]
  },
  {
   "cell_type": "code",
   "execution_count": null,
   "metadata": {},
   "outputs": [],
   "source": [
    "from multiprocessing import Process\n",
    "\n",
    "def foo():\n",
    "    print('hello')\n",
    "\n",
    "p = Process(target=foo)\n",
    "p.start()"
   ]
  },
  {
   "cell_type": "markdown",
   "metadata": {},
   "source": [
    "https://github.com/mynameisfiber/high_performance_python"
   ]
  },
  {
   "cell_type": "markdown",
   "metadata": {},
   "source": [
    "https://joblib.readthedocs.io/en/latest/parallel.html"
   ]
  },
  {
   "cell_type": "code",
   "execution_count": null,
   "metadata": {},
   "outputs": [],
   "source": [
    "from math import sin, exp\n",
    "from joblib import Parallel, delayed\n"
   ]
  },
  {
   "cell_type": "code",
   "execution_count": null,
   "metadata": {},
   "outputs": [],
   "source": [
    "%%time\n",
    "N = 100000000\n",
    "a = [sum([1]*N) for i in range(4)]"
   ]
  },
  {
   "cell_type": "code",
   "execution_count": null,
   "metadata": {},
   "outputs": [],
   "source": [
    "%%time \n",
    "b = Parallel(n_jobs=4)(delayed(lambda x: sum([1]*N))(i) for i in range(4))"
   ]
  },
  {
   "cell_type": "code",
   "execution_count": null,
   "metadata": {
    "scrolled": true
   },
   "outputs": [],
   "source": [
    "np.allclose(a, b)"
   ]
  },
  {
   "cell_type": "markdown",
   "metadata": {},
   "source": [
    "# Computación paralela con IPython: [ipyparallel](https://ipyparallel.readthedocs.io/en/latest/)\n",
    "\n",
    "\n",
    "https://ipython-books.github.io/59-distributing-python-code-across-multiple-cores-with-ipython/\n",
    "\n",
    "Iniciamos un cluster de cuatro procesos con\n",
    "\n",
    "    ipcluster start -n 4\n",
    "    \n",
    "o desde la pestaña \"IPython clusters\" del jupyter notebook"
   ]
  },
  {
   "cell_type": "code",
   "execution_count": null,
   "metadata": {},
   "outputs": [],
   "source": [
    "import ipyparallel as ipp\n",
    "\n",
    "c = ipp.Client()\n",
    "\n",
    "display(c.ids)\n",
    "\n",
    "c[:].apply_sync(lambda : \"Hello, World\")"
   ]
  },
  {
   "cell_type": "markdown",
   "metadata": {},
   "source": [
    "## Global Interpreter Lock (GIL)\n",
    "\n",
    "El intérprete CPython no es *thread-safe*\n",
    "\n",
    "Es por esto que en Python existe el *Global Interpreter Lock* (GIL)\n",
    "\n",
    "> El GIL solo permite que solo un hilo a la vez pueda ejecutar código en Python\n",
    "\n",
    "Usualmente un proceso Python no puedo usar múltiples CPU\n",
    "\n",
    "El código escrito en Python no tiene control sobre el GIL\n",
    "\n",
    "> Pero, extensiones escritas en C o Cython si pueden liberar GIL"
   ]
  },
  {
   "cell_type": "markdown",
   "metadata": {},
   "source": [
    "## Liberando el GIL en Cython\n",
    "\n",
    "https://ipython-books.github.io/57-releasing-the-gil-to-take-advantage-of-multi-core-processors-with-cython-and-openmp/"
   ]
  },
  {
   "cell_type": "markdown",
   "metadata": {},
   "source": [
    "- Multiprocessing\n",
    "\n",
    "https://pjryan126.github.io/multiprocessing-in-python/\n",
    "\n",
    "https://github.com/jupyter/notebook/issues/1703\n",
    "\n",
    "https://medium.com/@grvsinghal/speed-up-your-code-using-multiprocessing-in-python-36e4e703213e\n",
    "\n",
    "https://medium.com/@grvsinghal/speed-up-your-python-code-using-multiprocessing-on-windows-and-jupyter-or-ipython-2714b49d6fac"
   ]
  },
  {
   "cell_type": "markdown",
   "metadata": {},
   "source": [
    "# Computación de alto rendimiento\n",
    "\n",
    "Ciertos problemas son tan extensos que para solucionarlos en un tiempo razonable se requiere poder de cómputo y/o memoria superior a la ofrecida por un computador de arquitectura tradicional\n",
    "\n",
    "Si el problema es separable entonces puede resolverse de forma eficiente usando computación paralela y/o computación distributida\n",
    "\n",
    "La computación de alto rendimiento o *high-performance computing* (HPC) es la disciplina que se dedica a diseñar algoritmos eficientes que utilizan arquitecturas paralelas/distribuidas\n",
    "\n",
    "En HPC también se investiga la utilización eficiente de co-procesadores de alto paralelismo como son los procesadores de tipo *many-core* (Xeon-Phi) y las Graphical Processing Units (GPU, Nvidia, AMD)\n",
    "\n",
    "El Magíster en Informática de la UACh tiene a HPC como una de sus áreas principales\n",
    "\n",
    "Más información en: http://www.ingenieria.uach.cl/index.php/postgrado/magister-en-informatica\n",
    "\n"
   ]
  },
  {
   "cell_type": "code",
   "execution_count": null,
   "metadata": {},
   "outputs": [],
   "source": [
    "import pycuda.driver as drv\n",
    "import pycuda.tools\n",
    "import pycuda.autoinit\n",
    "from pycuda.compiler import SourceModule\n",
    "import pycuda.gpuarray as gpuarray\n",
    "from pycuda.elementwise import ElementwiseKernel\n",
    "\n",
    "complex_gpu = ElementwiseKernel(\n",
    "    \"pycuda::complex<float> *q, int *output, int maxiter\",\n",
    "    \"\"\"\n",
    "    {\n",
    "        float nreal, real = 0;\n",
    "        float imag = 0;\n",
    "        output[i] = 0;\n",
    "        for(int curiter = 0; curiter < maxiter; curiter++) {\n",
    "            float real2 = real*real;\n",
    "            float imag2 = imag*imag;\n",
    "            nreal = real2 - imag2 + q[i].real();\n",
    "            imag = 2* real*imag + q[i].imag();\n",
    "            real = nreal;\n",
    "            if (real2 + imag2 > 4.0f){\n",
    "                output[i] = curiter;\n",
    "                break;\n",
    "                };\n",
    "        };\n",
    "    }\n",
    "    \"\"\",\n",
    "    \"complex5\",\n",
    "    preamble=\"#include <pycuda-complex.hpp>\",)\n",
    "\n",
    "def mandelbrot_gpu(c, maxiter):\n",
    "    q_gpu = gpuarray.to_gpu(c.astype(np.complex64))\n",
    "    iterations_gpu = gpuarray.to_gpu(np.empty(c.shape, dtype=np.int))\n",
    "    complex_gpu(q_gpu, iterations_gpu, maxiter)\n",
    "\n",
    "    return iterations_gpu.get()"
   ]
  },
  {
   "cell_type": "code",
   "execution_count": null,
   "metadata": {},
   "outputs": [],
   "source": []
  }
 ],
 "metadata": {
  "kernelspec": {
   "display_name": "Python 3",
   "language": "python",
   "name": "python3"
  },
  "language_info": {
   "codemirror_mode": {
    "name": "ipython",
    "version": 3
   },
   "file_extension": ".py",
   "mimetype": "text/x-python",
   "name": "python",
   "nbconvert_exporter": "python",
   "pygments_lexer": "ipython3",
   "version": "3.7.3"
  }
 },
 "nbformat": 4,
 "nbformat_minor": 2
}
