{
 "cells": [
  {
   "cell_type": "markdown",
   "metadata": {},
   "source": [
    "packaging y testing\n",
    "\n",
    "crear una librería y subirla a PyPI\n",
    "\n",
    "- http://people.duke.edu/~ccc14/sta-663-2017/05_Numbers.html\n",
    "- https://sbu-python-class.github.io/python-science/"
   ]
  },
  {
   "cell_type": "code",
   "execution_count": null,
   "metadata": {},
   "outputs": [],
   "source": []
  }
 ],
 "metadata": {
  "kernelspec": {
   "display_name": "Python 3",
   "language": "python",
   "name": "python3"
  },
  "language_info": {
   "codemirror_mode": {
    "name": "ipython",
    "version": 3
   },
   "file_extension": ".py",
   "mimetype": "text/x-python",
   "name": "python",
   "nbconvert_exporter": "python",
   "pygments_lexer": "ipython3",
   "version": "3.7.3"
  }
 },
 "nbformat": 4,
 "nbformat_minor": 2
}
