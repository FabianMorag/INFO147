{
 "cells": [
  {
   "cell_type": "markdown",
   "metadata": {},
   "source": [
    "- scipy.fftpack, series de tiempo y filtros\n",
    "- Procesamiento de imágenes básico\n",
    "- Clasificador no lineal: Red neuronal MLP con pytorch\n",
    "- profiling\n",
    "- Cython\n",
    "- Multiprocessing\n",
    "- visualización avanzada (seaborn, bokeh)"
   ]
  },
  {
   "cell_type": "markdown",
   "metadata": {},
   "source": [
    "- https://sbu-python-class.github.io/python-science/\n",
    "- https://scipy-lectures.org/"
   ]
  },
  {
   "cell_type": "code",
   "execution_count": null,
   "metadata": {},
   "outputs": [],
   "source": []
  }
 ],
 "metadata": {
  "kernelspec": {
   "display_name": "Python 3",
   "language": "python",
   "name": "python3"
  },
  "language_info": {
   "codemirror_mode": {
    "name": "ipython",
    "version": 3
   },
   "file_extension": ".py",
   "mimetype": "text/x-python",
   "name": "python",
   "nbconvert_exporter": "python",
   "pygments_lexer": "ipython3",
   "version": "3.7.3"
  }
 },
 "nbformat": 4,
 "nbformat_minor": 2
}
