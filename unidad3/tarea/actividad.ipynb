{
 "cells": [
  {
   "cell_type": "markdown",
   "metadata": {},
   "source": [
    "# En proceso"
   ]
  },
  {
   "cell_type": "code",
   "execution_count": null,
   "metadata": {},
   "outputs": [],
   "source": [
    "M, N = 1000, 1000\n",
    "# Crear un conjunto de datos con distribución log normal\n",
    "x = np.linspace(0, 1, num=M)\n",
    "cov = 0.1*np.exp(-0.5*(x[:, None]  - x[:, None].T)**2/0.5**2)\n",
    "data = np.exp(np.random.multivariate_normal(mean=np.zeros(M), cov=cov, size=N))\n",
    "# Una función que ajusta un modelo polinomial al logaritmo de los datos\n",
    "def slow_function(data):\n",
    "    X = np.vstack([x**k for k in range(4)]).T\n",
    "    D = np.dot(np.linalg.inv(np.dot(X.T, X)), X.T)\n",
    "    mse = np.zeros(shape=(len(data),))\n",
    "    for i, y in enumerate(data):\n",
    "        y_log = np.log(y)\n",
    "        y_mean = np.mean(y_log)\n",
    "        y_var = np.var(y_log)\n",
    "        y_norm = (y_log - y_mean)/np.sqrt(y_var)\n",
    "        theta = np.dot(D, y_norm)\n",
    "        model = np.dot(X, theta)\n",
    "        mse[i] = np.mean((y_norm - model)**2)\n",
    "    return mse"
   ]
  },
  {
   "cell_type": "code",
   "execution_count": null,
   "metadata": {},
   "outputs": [],
   "source": [
    "\n",
    "\n",
    "x = np.linspace(0, 0.1, num=1000)\n",
    "y = [sum([A[k]*np.cos(2.0*np.pi*freq_*x*(k+1) + phase_[k]) for k in range(4)]) for freq_, phase_ in zip(freq, phase)]\n",
    "y = np.stack(y)\n",
    "\n",
    "fig, ax = plt.subplots()\n",
    "for i, y_ in enumerate(y[0:10]):\n",
    "    ax.plot(x, y_ + i*3, alpha=0.5)\n",
    "    \n",
    "for y_ in y:\n",
    "    res = scipy.stats.linregress(x, y_)"
   ]
  }
 ],
 "metadata": {
  "kernelspec": {
   "display_name": "Python 3",
   "language": "python",
   "name": "python3"
  },
  "language_info": {
   "codemirror_mode": {
    "name": "ipython",
    "version": 3
   },
   "file_extension": ".py",
   "mimetype": "text/x-python",
   "name": "python",
   "nbconvert_exporter": "python",
   "pygments_lexer": "ipython3",
   "version": "3.7.3"
  }
 },
 "nbformat": 4,
 "nbformat_minor": 2
}
